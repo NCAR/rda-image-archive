{
 "cells": [
  {
   "cell_type": "markdown",
   "metadata": {},
   "source": [
    "## Preliminaries\n",
    "\n",
    "*We'll set up a working directory and download a small sample\n",
    "of images to ingest.*"
   ]
  },
  {
   "cell_type": "code",
   "execution_count": 8,
   "metadata": {
    "attributes": {
     "classes": [],
     "id": "",
     "n": "50"
    }
   },
   "outputs": [],
   "source": [
    "import os\n",
    "\n",
    "# We create a working directory for this example.\n",
    "os.makedirs(\"00_files\", exist_ok=True)\n",
    "\n",
    "# We create a \"data\" subdirectory for the images and the metadata tag files.\n",
    "os.makedirs(\"00_files/data\", exist_ok=True)\n",
    "data = \"00_files/data\"\n",
    "\n",
    "# We create an \"out\" subdirectory for the processed images and the metadata catalog.\n",
    "os.makedirs(\"00_files/out\", exist_ok=True)\n",
    "out  = \"00_files/out\"  "
   ]
  },
  {
   "cell_type": "code",
   "execution_count": 9,
   "metadata": {},
   "outputs": [
    {
     "name": "stdout",
     "output_type": "stream",
     "text": [
      "\u001b[36m00_files\u001b[00m\r\n",
      "├── \u001b[36mdata\u001b[00m\r\n",
      "│   ├── \u001b[32mmetadata.csv\u001b[00m\r\n",
      "│   └── nara_id_storis-wmec-38-1957-logbooks.json\r\n",
      "└── \u001b[36mout\u001b[00m\r\n",
      "    ├── 2020-01-21-092004-catalog.json\r\n",
      "    ├── 24f49f0c3c7211ea9a8708119645fa1c\r\n",
      "    ├── 25238cac3c7211ea9a8708119645fa1c\r\n",
      "    ├── 255246903c7211ea9a8708119645fa1c\r\n",
      "    ├── 2581d9363c7211ea9a8708119645fa1c\r\n",
      "    ├── 25b170ac3c7211ea9a8708119645fa1c\r\n",
      "    ├── 25e03cb03c7211ea9a8708119645fa1c\r\n",
      "    ├── 260f59f43c7211ea9a8708119645fa1c\r\n",
      "    ├── 263e0f243c7211ea9a8708119645fa1c\r\n",
      "    ├── 266ce93a3c7211ea9a8708119645fa1c\r\n",
      "    ├── 269c12943c7211ea9a8708119645fa1c\r\n",
      "    ├── 26cac2c63c7211ea9a8708119645fa1c\r\n",
      "    ├── 26f8f6083c7211ea9a8708119645fa1c\r\n",
      "    ├── 272908cc3c7211ea9a8708119645fa1c\r\n",
      "    ├── 275759463c7211ea9a8708119645fa1c\r\n",
      "    ├── 278568da3c7211ea9a8708119645fa1c\r\n",
      "    ├── 27b5091c3c7211ea9a8708119645fa1c\r\n",
      "    ├── 27e498a83c7211ea9a8708119645fa1c\r\n",
      "    ├── 2813d3dc3c7211ea9a8708119645fa1c\r\n",
      "    ├── 284358703c7211ea9a8708119645fa1c\r\n",
      "    └── 2872e30c3c7211ea9a8708119645fa1c\r\n",
      "\r\n",
      "2 directories, 23 files\r\n"
     ]
    }
   ],
   "source": [
    "!tree 00_files"
   ]
  },
  {
   "cell_type": "markdown",
   "metadata": {},
   "source": [
    "Let's download a sample collection of 20 images from the logbooks of the USCG\n",
    "Storis."
   ]
  },
  {
   "cell_type": "code",
   "execution_count": 5,
   "metadata": {
    "attributes": {
     "classes": [],
     "id": "",
     "n": "51"
    },
    "scrolled": true
   },
   "outputs": [
    {
     "name": "stderr",
     "output_type": "stream",
     "text": [
      "DEBUG:urllib3.connectionpool:Starting new HTTPS connection (1): catalog.archives.gov:443\n"
     ]
    },
    {
     "name": "stdout",
     "output_type": "stream",
     "text": [
      "send: b'GET /api/v1/?naIds=38547962 HTTP/1.1\\r\\nHost: catalog.archives.gov\\r\\nUser-Agent: python-requests/2.21.0\\r\\nAccept-Encoding: gzip, deflate\\r\\nAccept: */*\\r\\nConnection: keep-alive\\r\\n\\r\\n'\n"
     ]
    },
    {
     "name": "stderr",
     "output_type": "stream",
     "text": [
      "DEBUG:urllib3.connectionpool:https://catalog.archives.gov:443 \"GET /api/v1/?naIds=38547962 HTTP/1.1\" 200 None\n"
     ]
    },
    {
     "name": "stdout",
     "output_type": "stream",
     "text": [
      "reply: 'HTTP/1.1 200 OK\\r\\n'\n",
      "header: Access-Control-Allow-Credentials: true\n",
      "header: Access-Control-Allow-Methods: DELETE, HEAD, GET, OPTION, POST, PUT\n",
      "header: Access-Control-Expose-Headers: JSESSIONID\n",
      "header: Access-Control-Max-Age: 3600\n",
      "header: BALANCER_NAME: (null)\n",
      "header: BALANCER_ROUTE_CHANGED: 1\n",
      "header: BALANCER_SESSION_ROUTE: (null)\n",
      "header: BALANCER_SESSION_STICKY: (null)\n",
      "header: BALANCER_WORKER_NAME: ajp://pa01.aws.nac.nara.gov:8009/OpaAPI\n",
      "header: BALANCER_WORKER_ROUTE: pa01\n",
      "header: Cache-Control: no-store, no-cache\n",
      "header: Content-Type: application/json;charset=UTF-8\n",
      "header: Date: Tue, 21 Jan 2020 17:11:00 GMT\n",
      "header: hnweb: pw01\n",
      "header: Pragma: no-cache\n",
      "header: Server: Apache/2.4.6 (Red Hat)\n",
      "header: Strict-Transport-Security: max-age=31536000; includeSubDomains; preload\n",
      "header: transfer-encoding: chunked\n",
      "header: Connection: keep-alive\n"
     ]
    },
    {
     "name": "stderr",
     "output_type": "stream",
     "text": [
      "DEBUG:urllib3.connectionpool:Starting new HTTPS connection (1): catalog.archives.gov:443\n"
     ]
    },
    {
     "name": "stdout",
     "output_type": "stream",
     "text": [
      "send: b'GET /OpaAPI/media/38547962/content/dc-metro/rg-026/559642/2017-01/storis-wmec-38-1957-logbooks/storis-wmec-38-1957-logbooks_0126.JPG HTTP/1.1\\r\\nHost: catalog.archives.gov\\r\\nUser-Agent: python-requests/2.21.0\\r\\nAccept-Encoding: gzip, deflate\\r\\nAccept: */*\\r\\nConnection: keep-alive\\r\\n\\r\\n'\n"
     ]
    },
    {
     "name": "stderr",
     "output_type": "stream",
     "text": [
      "DEBUG:urllib3.connectionpool:https://catalog.archives.gov:443 \"GET /OpaAPI/media/38547962/content/dc-metro/rg-026/559642/2017-01/storis-wmec-38-1957-logbooks/storis-wmec-38-1957-logbooks_0126.JPG HTTP/1.1\" 200 None\n"
     ]
    },
    {
     "name": "stdout",
     "output_type": "stream",
     "text": [
      "reply: 'HTTP/1.1 200 OK\\r\\n'\n",
      "header: Access-Control-Allow-Credentials: true\n",
      "header: Access-Control-Allow-Methods: DELETE, HEAD, GET, OPTION, POST, PUT\n",
      "header: Access-Control-Expose-Headers: JSESSIONID\n",
      "header: Access-Control-Max-Age: 3600\n",
      "header: BALANCER_NAME: (null)\n",
      "header: BALANCER_ROUTE_CHANGED: 1\n",
      "header: BALANCER_SESSION_ROUTE: (null)\n",
      "header: BALANCER_SESSION_STICKY: (null)\n",
      "header: BALANCER_WORKER_NAME: ajp://pa03.aws.nac.nara.gov:8009/OpaAPI\n",
      "header: BALANCER_WORKER_ROUTE: pa03\n",
      "header: Cache-Control: no-store, no-cache\n",
      "header: Content-Type: image/jpeg;charset=UTF-8\n",
      "header: Date: Tue, 21 Jan 2020 17:11:02 GMT\n",
      "header: hnweb: pw02\n",
      "header: Pragma: no-cache\n",
      "header: Server: Apache\n",
      "header: Strict-Transport-Security: max-age=31536000; includeSubDomains; preload\n",
      "header: transfer-encoding: chunked\n",
      "header: Connection: keep-alive\n"
     ]
    },
    {
     "name": "stderr",
     "output_type": "stream",
     "text": [
      "DEBUG:urllib3.connectionpool:Starting new HTTPS connection (1): catalog.archives.gov:443\n"
     ]
    },
    {
     "name": "stdout",
     "output_type": "stream",
     "text": [
      "send: b'GET /OpaAPI/media/38547962/content/dc-metro/rg-026/559642/2017-01/storis-wmec-38-1957-logbooks/storis-wmec-38-1957-logbooks_0127.JPG HTTP/1.1\\r\\nHost: catalog.archives.gov\\r\\nUser-Agent: python-requests/2.21.0\\r\\nAccept-Encoding: gzip, deflate\\r\\nAccept: */*\\r\\nConnection: keep-alive\\r\\n\\r\\n'\n"
     ]
    },
    {
     "name": "stderr",
     "output_type": "stream",
     "text": [
      "DEBUG:urllib3.connectionpool:https://catalog.archives.gov:443 \"GET /OpaAPI/media/38547962/content/dc-metro/rg-026/559642/2017-01/storis-wmec-38-1957-logbooks/storis-wmec-38-1957-logbooks_0127.JPG HTTP/1.1\" 200 None\n"
     ]
    },
    {
     "name": "stdout",
     "output_type": "stream",
     "text": [
      "reply: 'HTTP/1.1 200 OK\\r\\n'\n",
      "header: Access-Control-Allow-Credentials: true\n",
      "header: Access-Control-Allow-Methods: DELETE, HEAD, GET, OPTION, POST, PUT\n",
      "header: Access-Control-Expose-Headers: JSESSIONID\n",
      "header: Access-Control-Max-Age: 3600\n",
      "header: BALANCER_NAME: (null)\n",
      "header: BALANCER_ROUTE_CHANGED: 1\n",
      "header: BALANCER_SESSION_ROUTE: (null)\n",
      "header: BALANCER_SESSION_STICKY: (null)\n",
      "header: BALANCER_WORKER_NAME: ajp://pa03.aws.nac.nara.gov:8009/OpaAPI\n",
      "header: BALANCER_WORKER_ROUTE: pa03\n",
      "header: Cache-Control: no-store, no-cache\n",
      "header: Content-Type: image/jpeg;charset=UTF-8\n",
      "header: Date: Tue, 21 Jan 2020 17:11:03 GMT\n",
      "header: hnweb: pw03\n",
      "header: Pragma: no-cache\n",
      "header: Server: Apache/2.4.6 (Red Hat)\n",
      "header: Strict-Transport-Security: max-age=31536000; includeSubDomains; preload\n",
      "header: transfer-encoding: chunked\n",
      "header: Connection: keep-alive\n"
     ]
    },
    {
     "name": "stderr",
     "output_type": "stream",
     "text": [
      "DEBUG:urllib3.connectionpool:Starting new HTTPS connection (1): catalog.archives.gov:443\n"
     ]
    },
    {
     "name": "stdout",
     "output_type": "stream",
     "text": [
      "send: b'GET /OpaAPI/media/38547962/content/dc-metro/rg-026/559642/2017-01/storis-wmec-38-1957-logbooks/storis-wmec-38-1957-logbooks_0128.JPG HTTP/1.1\\r\\nHost: catalog.archives.gov\\r\\nUser-Agent: python-requests/2.21.0\\r\\nAccept-Encoding: gzip, deflate\\r\\nAccept: */*\\r\\nConnection: keep-alive\\r\\n\\r\\n'\n"
     ]
    },
    {
     "name": "stderr",
     "output_type": "stream",
     "text": [
      "DEBUG:urllib3.connectionpool:https://catalog.archives.gov:443 \"GET /OpaAPI/media/38547962/content/dc-metro/rg-026/559642/2017-01/storis-wmec-38-1957-logbooks/storis-wmec-38-1957-logbooks_0128.JPG HTTP/1.1\" 200 None\n"
     ]
    },
    {
     "name": "stdout",
     "output_type": "stream",
     "text": [
      "reply: 'HTTP/1.1 200 OK\\r\\n'\n",
      "header: Access-Control-Allow-Credentials: true\n",
      "header: Access-Control-Allow-Methods: DELETE, HEAD, GET, OPTION, POST, PUT\n",
      "header: Access-Control-Expose-Headers: JSESSIONID\n",
      "header: Access-Control-Max-Age: 3600\n",
      "header: BALANCER_NAME: (null)\n",
      "header: BALANCER_ROUTE_CHANGED: 1\n",
      "header: BALANCER_SESSION_ROUTE: (null)\n",
      "header: BALANCER_SESSION_STICKY: (null)\n",
      "header: BALANCER_WORKER_NAME: ajp://pa03.aws.nac.nara.gov:8009/OpaAPI\n",
      "header: BALANCER_WORKER_ROUTE: pa03\n",
      "header: Cache-Control: no-store, no-cache\n",
      "header: Content-Type: image/jpeg;charset=UTF-8\n",
      "header: Date: Tue, 21 Jan 2020 17:11:05 GMT\n",
      "header: hnweb: pw03\n",
      "header: Pragma: no-cache\n",
      "header: Server: Apache/2.4.6 (Red Hat)\n",
      "header: Strict-Transport-Security: max-age=31536000; includeSubDomains; preload\n",
      "header: transfer-encoding: chunked\n",
      "header: Connection: keep-alive\n"
     ]
    },
    {
     "name": "stderr",
     "output_type": "stream",
     "text": [
      "DEBUG:urllib3.connectionpool:Starting new HTTPS connection (1): catalog.archives.gov:443\n"
     ]
    },
    {
     "name": "stdout",
     "output_type": "stream",
     "text": [
      "send: b'GET /OpaAPI/media/38547962/content/dc-metro/rg-026/559642/2017-01/storis-wmec-38-1957-logbooks/storis-wmec-38-1957-logbooks_0129.JPG HTTP/1.1\\r\\nHost: catalog.archives.gov\\r\\nUser-Agent: python-requests/2.21.0\\r\\nAccept-Encoding: gzip, deflate\\r\\nAccept: */*\\r\\nConnection: keep-alive\\r\\n\\r\\n'\n"
     ]
    },
    {
     "name": "stderr",
     "output_type": "stream",
     "text": [
      "DEBUG:urllib3.connectionpool:https://catalog.archives.gov:443 \"GET /OpaAPI/media/38547962/content/dc-metro/rg-026/559642/2017-01/storis-wmec-38-1957-logbooks/storis-wmec-38-1957-logbooks_0129.JPG HTTP/1.1\" 200 None\n"
     ]
    },
    {
     "name": "stdout",
     "output_type": "stream",
     "text": [
      "reply: 'HTTP/1.1 200 OK\\r\\n'\n",
      "header: Access-Control-Allow-Credentials: true\n",
      "header: Access-Control-Allow-Methods: DELETE, HEAD, GET, OPTION, POST, PUT\n",
      "header: Access-Control-Expose-Headers: JSESSIONID\n",
      "header: Access-Control-Max-Age: 3600\n",
      "header: BALANCER_NAME: (null)\n",
      "header: BALANCER_ROUTE_CHANGED: 1\n",
      "header: BALANCER_SESSION_ROUTE: (null)\n",
      "header: BALANCER_SESSION_STICKY: (null)\n",
      "header: BALANCER_WORKER_NAME: ajp://pa03.aws.nac.nara.gov:8009/OpaAPI\n",
      "header: BALANCER_WORKER_ROUTE: pa03\n",
      "header: Cache-Control: no-store, no-cache\n",
      "header: Content-Type: image/jpeg;charset=UTF-8\n",
      "header: Date: Tue, 21 Jan 2020 17:11:06 GMT\n",
      "header: hnweb: pw04\n",
      "header: Pragma: no-cache\n",
      "header: Server: Apache\n",
      "header: Strict-Transport-Security: max-age=31536000; includeSubDomains; preload\n",
      "header: transfer-encoding: chunked\n",
      "header: Connection: keep-alive\n"
     ]
    },
    {
     "name": "stderr",
     "output_type": "stream",
     "text": [
      "DEBUG:urllib3.connectionpool:Starting new HTTPS connection (1): catalog.archives.gov:443\n"
     ]
    },
    {
     "name": "stdout",
     "output_type": "stream",
     "text": [
      "send: b'GET /OpaAPI/media/38547962/content/dc-metro/rg-026/559642/2017-01/storis-wmec-38-1957-logbooks/storis-wmec-38-1957-logbooks_0130.JPG HTTP/1.1\\r\\nHost: catalog.archives.gov\\r\\nUser-Agent: python-requests/2.21.0\\r\\nAccept-Encoding: gzip, deflate\\r\\nAccept: */*\\r\\nConnection: keep-alive\\r\\n\\r\\n'\n"
     ]
    },
    {
     "name": "stderr",
     "output_type": "stream",
     "text": [
      "DEBUG:urllib3.connectionpool:https://catalog.archives.gov:443 \"GET /OpaAPI/media/38547962/content/dc-metro/rg-026/559642/2017-01/storis-wmec-38-1957-logbooks/storis-wmec-38-1957-logbooks_0130.JPG HTTP/1.1\" 200 None\n"
     ]
    },
    {
     "name": "stdout",
     "output_type": "stream",
     "text": [
      "reply: 'HTTP/1.1 200 OK\\r\\n'\n",
      "header: Access-Control-Allow-Credentials: true\n",
      "header: Access-Control-Allow-Methods: DELETE, HEAD, GET, OPTION, POST, PUT\n",
      "header: Access-Control-Expose-Headers: JSESSIONID\n",
      "header: Access-Control-Max-Age: 3600\n",
      "header: BALANCER_NAME: (null)\n",
      "header: BALANCER_ROUTE_CHANGED: 1\n",
      "header: BALANCER_SESSION_ROUTE: (null)\n",
      "header: BALANCER_SESSION_STICKY: (null)\n",
      "header: BALANCER_WORKER_NAME: ajp://pa03.aws.nac.nara.gov:8009/OpaAPI\n",
      "header: BALANCER_WORKER_ROUTE: pa03\n",
      "header: Cache-Control: no-store, no-cache\n",
      "header: Content-Type: image/jpeg;charset=UTF-8\n",
      "header: Date: Tue, 21 Jan 2020 17:11:08 GMT\n",
      "header: hnweb: pw01\n",
      "header: Pragma: no-cache\n",
      "header: Server: Apache/2.4.6 (Red Hat)\n",
      "header: Strict-Transport-Security: max-age=31536000; includeSubDomains; preload\n",
      "header: transfer-encoding: chunked\n",
      "header: Connection: keep-alive\n"
     ]
    },
    {
     "name": "stderr",
     "output_type": "stream",
     "text": [
      "DEBUG:urllib3.connectionpool:Starting new HTTPS connection (1): catalog.archives.gov:443\n"
     ]
    },
    {
     "name": "stdout",
     "output_type": "stream",
     "text": [
      "send: b'GET /OpaAPI/media/38547962/content/dc-metro/rg-026/559642/2017-01/storis-wmec-38-1957-logbooks/storis-wmec-38-1957-logbooks_0131.JPG HTTP/1.1\\r\\nHost: catalog.archives.gov\\r\\nUser-Agent: python-requests/2.21.0\\r\\nAccept-Encoding: gzip, deflate\\r\\nAccept: */*\\r\\nConnection: keep-alive\\r\\n\\r\\n'\n"
     ]
    },
    {
     "name": "stderr",
     "output_type": "stream",
     "text": [
      "DEBUG:urllib3.connectionpool:https://catalog.archives.gov:443 \"GET /OpaAPI/media/38547962/content/dc-metro/rg-026/559642/2017-01/storis-wmec-38-1957-logbooks/storis-wmec-38-1957-logbooks_0131.JPG HTTP/1.1\" 200 None\n"
     ]
    },
    {
     "name": "stdout",
     "output_type": "stream",
     "text": [
      "reply: 'HTTP/1.1 200 OK\\r\\n'\n",
      "header: Access-Control-Allow-Credentials: true\n",
      "header: Access-Control-Allow-Methods: DELETE, HEAD, GET, OPTION, POST, PUT\n",
      "header: Access-Control-Expose-Headers: JSESSIONID\n",
      "header: Access-Control-Max-Age: 3600\n",
      "header: BALANCER_NAME: (null)\n",
      "header: BALANCER_ROUTE_CHANGED: 1\n",
      "header: BALANCER_SESSION_ROUTE: (null)\n",
      "header: BALANCER_SESSION_STICKY: (null)\n",
      "header: BALANCER_WORKER_NAME: ajp://pa03.aws.nac.nara.gov:8009/OpaAPI\n",
      "header: BALANCER_WORKER_ROUTE: pa03\n",
      "header: Cache-Control: no-store, no-cache\n",
      "header: Content-Type: image/jpeg;charset=UTF-8\n",
      "header: Date: Tue, 21 Jan 2020 17:11:09 GMT\n",
      "header: hnweb: pw01\n",
      "header: Pragma: no-cache\n",
      "header: Server: Apache/2.4.6 (Red Hat)\n",
      "header: Strict-Transport-Security: max-age=31536000; includeSubDomains; preload\n",
      "header: transfer-encoding: chunked\n",
      "header: Connection: keep-alive\n"
     ]
    },
    {
     "name": "stderr",
     "output_type": "stream",
     "text": [
      "DEBUG:urllib3.connectionpool:Starting new HTTPS connection (1): catalog.archives.gov:443\n"
     ]
    },
    {
     "name": "stdout",
     "output_type": "stream",
     "text": [
      "send: b'GET /OpaAPI/media/38547962/content/dc-metro/rg-026/559642/2017-01/storis-wmec-38-1957-logbooks/storis-wmec-38-1957-logbooks_0132.JPG HTTP/1.1\\r\\nHost: catalog.archives.gov\\r\\nUser-Agent: python-requests/2.21.0\\r\\nAccept-Encoding: gzip, deflate\\r\\nAccept: */*\\r\\nConnection: keep-alive\\r\\n\\r\\n'\n"
     ]
    },
    {
     "name": "stderr",
     "output_type": "stream",
     "text": [
      "DEBUG:urllib3.connectionpool:https://catalog.archives.gov:443 \"GET /OpaAPI/media/38547962/content/dc-metro/rg-026/559642/2017-01/storis-wmec-38-1957-logbooks/storis-wmec-38-1957-logbooks_0132.JPG HTTP/1.1\" 200 None\n"
     ]
    },
    {
     "name": "stdout",
     "output_type": "stream",
     "text": [
      "reply: 'HTTP/1.1 200 OK\\r\\n'\n",
      "header: Access-Control-Allow-Credentials: true\n",
      "header: Access-Control-Allow-Methods: DELETE, HEAD, GET, OPTION, POST, PUT\n",
      "header: Access-Control-Expose-Headers: JSESSIONID\n",
      "header: Access-Control-Max-Age: 3600\n",
      "header: BALANCER_NAME: (null)\n",
      "header: BALANCER_ROUTE_CHANGED: 1\n",
      "header: BALANCER_SESSION_ROUTE: (null)\n",
      "header: BALANCER_SESSION_STICKY: (null)\n",
      "header: BALANCER_WORKER_NAME: ajp://pa01.aws.nac.nara.gov:8009/OpaAPI\n",
      "header: BALANCER_WORKER_ROUTE: pa01\n",
      "header: Cache-Control: no-store, no-cache\n",
      "header: Content-Type: image/jpeg;charset=UTF-8\n",
      "header: Date: Tue, 21 Jan 2020 17:11:11 GMT\n",
      "header: hnweb: pw03\n",
      "header: Pragma: no-cache\n",
      "header: Server: Apache/2.4.6 (Red Hat)\n",
      "header: Strict-Transport-Security: max-age=31536000; includeSubDomains; preload\n",
      "header: transfer-encoding: chunked\n",
      "header: Connection: keep-alive\n"
     ]
    },
    {
     "name": "stderr",
     "output_type": "stream",
     "text": [
      "DEBUG:urllib3.connectionpool:Starting new HTTPS connection (1): catalog.archives.gov:443\n"
     ]
    },
    {
     "name": "stdout",
     "output_type": "stream",
     "text": [
      "send: b'GET /OpaAPI/media/38547962/content/dc-metro/rg-026/559642/2017-01/storis-wmec-38-1957-logbooks/storis-wmec-38-1957-logbooks_0133.JPG HTTP/1.1\\r\\nHost: catalog.archives.gov\\r\\nUser-Agent: python-requests/2.21.0\\r\\nAccept-Encoding: gzip, deflate\\r\\nAccept: */*\\r\\nConnection: keep-alive\\r\\n\\r\\n'\n"
     ]
    },
    {
     "name": "stderr",
     "output_type": "stream",
     "text": [
      "DEBUG:urllib3.connectionpool:https://catalog.archives.gov:443 \"GET /OpaAPI/media/38547962/content/dc-metro/rg-026/559642/2017-01/storis-wmec-38-1957-logbooks/storis-wmec-38-1957-logbooks_0133.JPG HTTP/1.1\" 200 None\n"
     ]
    },
    {
     "name": "stdout",
     "output_type": "stream",
     "text": [
      "reply: 'HTTP/1.1 200 OK\\r\\n'\n",
      "header: Access-Control-Allow-Credentials: true\n",
      "header: Access-Control-Allow-Methods: DELETE, HEAD, GET, OPTION, POST, PUT\n",
      "header: Access-Control-Expose-Headers: JSESSIONID\n",
      "header: Access-Control-Max-Age: 3600\n",
      "header: BALANCER_NAME: (null)\n",
      "header: BALANCER_ROUTE_CHANGED: 1\n",
      "header: BALANCER_SESSION_ROUTE: (null)\n",
      "header: BALANCER_SESSION_STICKY: (null)\n",
      "header: BALANCER_WORKER_NAME: ajp://pa04.aws.nac.nara.gov:8009/OpaAPI\n",
      "header: BALANCER_WORKER_ROUTE: pa04\n",
      "header: Cache-Control: no-store, no-cache\n",
      "header: Content-Type: image/jpeg;charset=UTF-8\n",
      "header: Date: Tue, 21 Jan 2020 17:11:13 GMT\n",
      "header: hnweb: pw02\n",
      "header: Pragma: no-cache\n",
      "header: Server: Apache\n",
      "header: Strict-Transport-Security: max-age=31536000; includeSubDomains; preload\n",
      "header: transfer-encoding: chunked\n",
      "header: Connection: keep-alive\n"
     ]
    },
    {
     "name": "stderr",
     "output_type": "stream",
     "text": [
      "DEBUG:urllib3.connectionpool:Starting new HTTPS connection (1): catalog.archives.gov:443\n"
     ]
    },
    {
     "name": "stdout",
     "output_type": "stream",
     "text": [
      "send: b'GET /OpaAPI/media/38547962/content/dc-metro/rg-026/559642/2017-01/storis-wmec-38-1957-logbooks/storis-wmec-38-1957-logbooks_0134.JPG HTTP/1.1\\r\\nHost: catalog.archives.gov\\r\\nUser-Agent: python-requests/2.21.0\\r\\nAccept-Encoding: gzip, deflate\\r\\nAccept: */*\\r\\nConnection: keep-alive\\r\\n\\r\\n'\n"
     ]
    },
    {
     "name": "stderr",
     "output_type": "stream",
     "text": [
      "DEBUG:urllib3.connectionpool:https://catalog.archives.gov:443 \"GET /OpaAPI/media/38547962/content/dc-metro/rg-026/559642/2017-01/storis-wmec-38-1957-logbooks/storis-wmec-38-1957-logbooks_0134.JPG HTTP/1.1\" 200 None\n"
     ]
    },
    {
     "name": "stdout",
     "output_type": "stream",
     "text": [
      "reply: 'HTTP/1.1 200 OK\\r\\n'\n",
      "header: Access-Control-Allow-Credentials: true\n",
      "header: Access-Control-Allow-Methods: DELETE, HEAD, GET, OPTION, POST, PUT\n",
      "header: Access-Control-Expose-Headers: JSESSIONID\n",
      "header: Access-Control-Max-Age: 3600\n",
      "header: BALANCER_NAME: (null)\n",
      "header: BALANCER_ROUTE_CHANGED: 1\n",
      "header: BALANCER_SESSION_ROUTE: (null)\n",
      "header: BALANCER_SESSION_STICKY: (null)\n",
      "header: BALANCER_WORKER_NAME: ajp://pa01.aws.nac.nara.gov:8009/OpaAPI\n",
      "header: BALANCER_WORKER_ROUTE: pa01\n",
      "header: Cache-Control: no-store, no-cache\n",
      "header: Content-Type: image/jpeg;charset=UTF-8\n",
      "header: Date: Tue, 21 Jan 2020 17:11:14 GMT\n",
      "header: hnweb: pw02\n",
      "header: Pragma: no-cache\n",
      "header: Server: Apache\n",
      "header: Strict-Transport-Security: max-age=31536000; includeSubDomains; preload\n",
      "header: transfer-encoding: chunked\n",
      "header: Connection: keep-alive\n"
     ]
    },
    {
     "name": "stderr",
     "output_type": "stream",
     "text": [
      "DEBUG:urllib3.connectionpool:Starting new HTTPS connection (1): catalog.archives.gov:443\n"
     ]
    },
    {
     "name": "stdout",
     "output_type": "stream",
     "text": [
      "send: b'GET /OpaAPI/media/38547962/content/dc-metro/rg-026/559642/2017-01/storis-wmec-38-1957-logbooks/storis-wmec-38-1957-logbooks_0135.JPG HTTP/1.1\\r\\nHost: catalog.archives.gov\\r\\nUser-Agent: python-requests/2.21.0\\r\\nAccept-Encoding: gzip, deflate\\r\\nAccept: */*\\r\\nConnection: keep-alive\\r\\n\\r\\n'\n"
     ]
    },
    {
     "name": "stderr",
     "output_type": "stream",
     "text": [
      "DEBUG:urllib3.connectionpool:https://catalog.archives.gov:443 \"GET /OpaAPI/media/38547962/content/dc-metro/rg-026/559642/2017-01/storis-wmec-38-1957-logbooks/storis-wmec-38-1957-logbooks_0135.JPG HTTP/1.1\" 200 None\n"
     ]
    },
    {
     "name": "stdout",
     "output_type": "stream",
     "text": [
      "reply: 'HTTP/1.1 200 OK\\r\\n'\n",
      "header: Access-Control-Allow-Credentials: true\n",
      "header: Access-Control-Allow-Methods: DELETE, HEAD, GET, OPTION, POST, PUT\n",
      "header: Access-Control-Expose-Headers: JSESSIONID\n",
      "header: Access-Control-Max-Age: 3600\n",
      "header: BALANCER_NAME: (null)\n",
      "header: BALANCER_ROUTE_CHANGED: 1\n",
      "header: BALANCER_SESSION_ROUTE: (null)\n",
      "header: BALANCER_SESSION_STICKY: (null)\n",
      "header: BALANCER_WORKER_NAME: ajp://pa04.aws.nac.nara.gov:8009/OpaAPI\n",
      "header: BALANCER_WORKER_ROUTE: pa04\n",
      "header: Cache-Control: no-store, no-cache\n",
      "header: Content-Type: image/jpeg;charset=UTF-8\n",
      "header: Date: Tue, 21 Jan 2020 17:11:15 GMT\n",
      "header: hnweb: pw04\n",
      "header: Pragma: no-cache\n",
      "header: Server: Apache\n",
      "header: Strict-Transport-Security: max-age=31536000; includeSubDomains; preload\n",
      "header: transfer-encoding: chunked\n",
      "header: Connection: keep-alive\n"
     ]
    },
    {
     "name": "stderr",
     "output_type": "stream",
     "text": [
      "DEBUG:urllib3.connectionpool:Starting new HTTPS connection (1): catalog.archives.gov:443\n"
     ]
    },
    {
     "name": "stdout",
     "output_type": "stream",
     "text": [
      "send: b'GET /OpaAPI/media/38547962/content/dc-metro/rg-026/559642/2017-01/storis-wmec-38-1957-logbooks/storis-wmec-38-1957-logbooks_0136.JPG HTTP/1.1\\r\\nHost: catalog.archives.gov\\r\\nUser-Agent: python-requests/2.21.0\\r\\nAccept-Encoding: gzip, deflate\\r\\nAccept: */*\\r\\nConnection: keep-alive\\r\\n\\r\\n'\n"
     ]
    },
    {
     "name": "stderr",
     "output_type": "stream",
     "text": [
      "DEBUG:urllib3.connectionpool:https://catalog.archives.gov:443 \"GET /OpaAPI/media/38547962/content/dc-metro/rg-026/559642/2017-01/storis-wmec-38-1957-logbooks/storis-wmec-38-1957-logbooks_0136.JPG HTTP/1.1\" 200 None\n"
     ]
    },
    {
     "name": "stdout",
     "output_type": "stream",
     "text": [
      "reply: 'HTTP/1.1 200 OK\\r\\n'\n",
      "header: Access-Control-Allow-Credentials: true\n",
      "header: Access-Control-Allow-Methods: DELETE, HEAD, GET, OPTION, POST, PUT\n",
      "header: Access-Control-Expose-Headers: JSESSIONID\n",
      "header: Access-Control-Max-Age: 3600\n",
      "header: BALANCER_NAME: (null)\n",
      "header: BALANCER_ROUTE_CHANGED: 1\n",
      "header: BALANCER_SESSION_ROUTE: (null)\n",
      "header: BALANCER_SESSION_STICKY: (null)\n",
      "header: BALANCER_WORKER_NAME: ajp://pa03.aws.nac.nara.gov:8009/OpaAPI\n",
      "header: BALANCER_WORKER_ROUTE: pa03\n",
      "header: Cache-Control: no-store, no-cache\n",
      "header: Content-Type: image/jpeg;charset=UTF-8\n",
      "header: Date: Tue, 21 Jan 2020 17:11:17 GMT\n",
      "header: hnweb: pw03\n",
      "header: Pragma: no-cache\n",
      "header: Server: Apache/2.4.6 (Red Hat)\n",
      "header: Strict-Transport-Security: max-age=31536000; includeSubDomains; preload\n",
      "header: transfer-encoding: chunked\n",
      "header: Connection: keep-alive\n"
     ]
    },
    {
     "name": "stderr",
     "output_type": "stream",
     "text": [
      "DEBUG:urllib3.connectionpool:Starting new HTTPS connection (1): catalog.archives.gov:443\n"
     ]
    },
    {
     "name": "stdout",
     "output_type": "stream",
     "text": [
      "send: b'GET /OpaAPI/media/38547962/content/dc-metro/rg-026/559642/2017-01/storis-wmec-38-1957-logbooks/storis-wmec-38-1957-logbooks_0137.JPG HTTP/1.1\\r\\nHost: catalog.archives.gov\\r\\nUser-Agent: python-requests/2.21.0\\r\\nAccept-Encoding: gzip, deflate\\r\\nAccept: */*\\r\\nConnection: keep-alive\\r\\n\\r\\n'\n"
     ]
    },
    {
     "name": "stderr",
     "output_type": "stream",
     "text": [
      "DEBUG:urllib3.connectionpool:https://catalog.archives.gov:443 \"GET /OpaAPI/media/38547962/content/dc-metro/rg-026/559642/2017-01/storis-wmec-38-1957-logbooks/storis-wmec-38-1957-logbooks_0137.JPG HTTP/1.1\" 200 None\n"
     ]
    },
    {
     "name": "stdout",
     "output_type": "stream",
     "text": [
      "reply: 'HTTP/1.1 200 OK\\r\\n'\n",
      "header: Access-Control-Allow-Credentials: true\n",
      "header: Access-Control-Allow-Methods: DELETE, HEAD, GET, OPTION, POST, PUT\n",
      "header: Access-Control-Expose-Headers: JSESSIONID\n",
      "header: Access-Control-Max-Age: 3600\n",
      "header: BALANCER_NAME: (null)\n",
      "header: BALANCER_ROUTE_CHANGED: 1\n",
      "header: BALANCER_SESSION_ROUTE: (null)\n",
      "header: BALANCER_SESSION_STICKY: (null)\n",
      "header: BALANCER_WORKER_NAME: ajp://pa04.aws.nac.nara.gov:8009/OpaAPI\n",
      "header: BALANCER_WORKER_ROUTE: pa04\n",
      "header: Cache-Control: no-store, no-cache\n",
      "header: Content-Type: image/jpeg;charset=UTF-8\n",
      "header: Date: Tue, 21 Jan 2020 17:11:19 GMT\n",
      "header: hnweb: pw04\n",
      "header: Pragma: no-cache\n",
      "header: Server: Apache\n",
      "header: Strict-Transport-Security: max-age=31536000; includeSubDomains; preload\n",
      "header: transfer-encoding: chunked\n",
      "header: Connection: keep-alive\n"
     ]
    },
    {
     "name": "stderr",
     "output_type": "stream",
     "text": [
      "DEBUG:urllib3.connectionpool:Starting new HTTPS connection (1): catalog.archives.gov:443\n"
     ]
    },
    {
     "name": "stdout",
     "output_type": "stream",
     "text": [
      "send: b'GET /OpaAPI/media/38547962/content/dc-metro/rg-026/559642/2017-01/storis-wmec-38-1957-logbooks/storis-wmec-38-1957-logbooks_0138.JPG HTTP/1.1\\r\\nHost: catalog.archives.gov\\r\\nUser-Agent: python-requests/2.21.0\\r\\nAccept-Encoding: gzip, deflate\\r\\nAccept: */*\\r\\nConnection: keep-alive\\r\\n\\r\\n'\n"
     ]
    },
    {
     "name": "stderr",
     "output_type": "stream",
     "text": [
      "DEBUG:urllib3.connectionpool:https://catalog.archives.gov:443 \"GET /OpaAPI/media/38547962/content/dc-metro/rg-026/559642/2017-01/storis-wmec-38-1957-logbooks/storis-wmec-38-1957-logbooks_0138.JPG HTTP/1.1\" 200 None\n"
     ]
    },
    {
     "name": "stdout",
     "output_type": "stream",
     "text": [
      "reply: 'HTTP/1.1 200 OK\\r\\n'\n",
      "header: Access-Control-Allow-Credentials: true\n",
      "header: Access-Control-Allow-Methods: DELETE, HEAD, GET, OPTION, POST, PUT\n",
      "header: Access-Control-Expose-Headers: JSESSIONID\n",
      "header: Access-Control-Max-Age: 3600\n",
      "header: BALANCER_NAME: (null)\n",
      "header: BALANCER_ROUTE_CHANGED: 1\n",
      "header: BALANCER_SESSION_ROUTE: (null)\n",
      "header: BALANCER_SESSION_STICKY: (null)\n",
      "header: BALANCER_WORKER_NAME: ajp://pa04.aws.nac.nara.gov:8009/OpaAPI\n",
      "header: BALANCER_WORKER_ROUTE: pa04\n",
      "header: Cache-Control: no-store, no-cache\n",
      "header: Content-Type: image/jpeg;charset=UTF-8\n",
      "header: Date: Tue, 21 Jan 2020 17:11:21 GMT\n",
      "header: hnweb: pw04\n",
      "header: Pragma: no-cache\n",
      "header: Server: Apache\n",
      "header: Strict-Transport-Security: max-age=31536000; includeSubDomains; preload\n",
      "header: transfer-encoding: chunked\n",
      "header: Connection: keep-alive\n"
     ]
    },
    {
     "name": "stderr",
     "output_type": "stream",
     "text": [
      "DEBUG:urllib3.connectionpool:Starting new HTTPS connection (1): catalog.archives.gov:443\n"
     ]
    },
    {
     "name": "stdout",
     "output_type": "stream",
     "text": [
      "send: b'GET /OpaAPI/media/38547962/content/dc-metro/rg-026/559642/2017-01/storis-wmec-38-1957-logbooks/storis-wmec-38-1957-logbooks_0139.JPG HTTP/1.1\\r\\nHost: catalog.archives.gov\\r\\nUser-Agent: python-requests/2.21.0\\r\\nAccept-Encoding: gzip, deflate\\r\\nAccept: */*\\r\\nConnection: keep-alive\\r\\n\\r\\n'\n"
     ]
    },
    {
     "name": "stderr",
     "output_type": "stream",
     "text": [
      "DEBUG:urllib3.connectionpool:https://catalog.archives.gov:443 \"GET /OpaAPI/media/38547962/content/dc-metro/rg-026/559642/2017-01/storis-wmec-38-1957-logbooks/storis-wmec-38-1957-logbooks_0139.JPG HTTP/1.1\" 200 None\n"
     ]
    },
    {
     "name": "stdout",
     "output_type": "stream",
     "text": [
      "reply: 'HTTP/1.1 200 OK\\r\\n'\n",
      "header: Access-Control-Allow-Credentials: true\n",
      "header: Access-Control-Allow-Methods: DELETE, HEAD, GET, OPTION, POST, PUT\n",
      "header: Access-Control-Expose-Headers: JSESSIONID\n",
      "header: Access-Control-Max-Age: 3600\n",
      "header: BALANCER_NAME: (null)\n",
      "header: BALANCER_ROUTE_CHANGED: 1\n",
      "header: BALANCER_SESSION_ROUTE: (null)\n",
      "header: BALANCER_SESSION_STICKY: (null)\n",
      "header: BALANCER_WORKER_NAME: ajp://pa04.aws.nac.nara.gov:8009/OpaAPI\n",
      "header: BALANCER_WORKER_ROUTE: pa04\n",
      "header: Cache-Control: no-store, no-cache\n",
      "header: Content-Type: image/jpeg;charset=UTF-8\n",
      "header: Date: Tue, 21 Jan 2020 17:11:22 GMT\n",
      "header: hnweb: pw01\n",
      "header: Pragma: no-cache\n",
      "header: Server: Apache/2.4.6 (Red Hat)\n",
      "header: Strict-Transport-Security: max-age=31536000; includeSubDomains; preload\n",
      "header: transfer-encoding: chunked\n",
      "header: Connection: keep-alive\n"
     ]
    },
    {
     "name": "stderr",
     "output_type": "stream",
     "text": [
      "DEBUG:urllib3.connectionpool:Starting new HTTPS connection (1): catalog.archives.gov:443\n"
     ]
    },
    {
     "name": "stdout",
     "output_type": "stream",
     "text": [
      "send: b'GET /OpaAPI/media/38547962/content/dc-metro/rg-026/559642/2017-01/storis-wmec-38-1957-logbooks/storis-wmec-38-1957-logbooks_0140.JPG HTTP/1.1\\r\\nHost: catalog.archives.gov\\r\\nUser-Agent: python-requests/2.21.0\\r\\nAccept-Encoding: gzip, deflate\\r\\nAccept: */*\\r\\nConnection: keep-alive\\r\\n\\r\\n'\n"
     ]
    },
    {
     "name": "stderr",
     "output_type": "stream",
     "text": [
      "DEBUG:urllib3.connectionpool:https://catalog.archives.gov:443 \"GET /OpaAPI/media/38547962/content/dc-metro/rg-026/559642/2017-01/storis-wmec-38-1957-logbooks/storis-wmec-38-1957-logbooks_0140.JPG HTTP/1.1\" 200 None\n"
     ]
    },
    {
     "name": "stdout",
     "output_type": "stream",
     "text": [
      "reply: 'HTTP/1.1 200 OK\\r\\n'\n",
      "header: Access-Control-Allow-Credentials: true\n",
      "header: Access-Control-Allow-Methods: DELETE, HEAD, GET, OPTION, POST, PUT\n",
      "header: Access-Control-Expose-Headers: JSESSIONID\n",
      "header: Access-Control-Max-Age: 3600\n",
      "header: BALANCER_NAME: (null)\n",
      "header: BALANCER_ROUTE_CHANGED: 1\n",
      "header: BALANCER_SESSION_ROUTE: (null)\n",
      "header: BALANCER_SESSION_STICKY: (null)\n",
      "header: BALANCER_WORKER_NAME: ajp://pa04.aws.nac.nara.gov:8009/OpaAPI\n",
      "header: BALANCER_WORKER_ROUTE: pa04\n",
      "header: Cache-Control: no-store, no-cache\n",
      "header: Content-Type: image/jpeg;charset=UTF-8\n",
      "header: Date: Tue, 21 Jan 2020 17:11:24 GMT\n",
      "header: hnweb: pw02\n",
      "header: Pragma: no-cache\n",
      "header: Server: Apache\n",
      "header: Strict-Transport-Security: max-age=31536000; includeSubDomains; preload\n",
      "header: transfer-encoding: chunked\n",
      "header: Connection: keep-alive\n"
     ]
    },
    {
     "name": "stderr",
     "output_type": "stream",
     "text": [
      "DEBUG:urllib3.connectionpool:Starting new HTTPS connection (1): catalog.archives.gov:443\n"
     ]
    },
    {
     "name": "stdout",
     "output_type": "stream",
     "text": [
      "send: b'GET /OpaAPI/media/38547962/content/dc-metro/rg-026/559642/2017-01/storis-wmec-38-1957-logbooks/storis-wmec-38-1957-logbooks_0141.JPG HTTP/1.1\\r\\nHost: catalog.archives.gov\\r\\nUser-Agent: python-requests/2.21.0\\r\\nAccept-Encoding: gzip, deflate\\r\\nAccept: */*\\r\\nConnection: keep-alive\\r\\n\\r\\n'\n"
     ]
    },
    {
     "name": "stderr",
     "output_type": "stream",
     "text": [
      "DEBUG:urllib3.connectionpool:https://catalog.archives.gov:443 \"GET /OpaAPI/media/38547962/content/dc-metro/rg-026/559642/2017-01/storis-wmec-38-1957-logbooks/storis-wmec-38-1957-logbooks_0141.JPG HTTP/1.1\" 200 None\n"
     ]
    },
    {
     "name": "stdout",
     "output_type": "stream",
     "text": [
      "reply: 'HTTP/1.1 200 OK\\r\\n'\n",
      "header: Access-Control-Allow-Credentials: true\n",
      "header: Access-Control-Allow-Methods: DELETE, HEAD, GET, OPTION, POST, PUT\n",
      "header: Access-Control-Expose-Headers: JSESSIONID\n",
      "header: Access-Control-Max-Age: 3600\n",
      "header: BALANCER_NAME: (null)\n",
      "header: BALANCER_ROUTE_CHANGED: 1\n",
      "header: BALANCER_SESSION_ROUTE: (null)\n",
      "header: BALANCER_SESSION_STICKY: (null)\n",
      "header: BALANCER_WORKER_NAME: ajp://pa03.aws.nac.nara.gov:8009/OpaAPI\n",
      "header: BALANCER_WORKER_ROUTE: pa03\n",
      "header: Cache-Control: no-store, no-cache\n",
      "header: Content-Type: image/jpeg;charset=UTF-8\n",
      "header: Date: Tue, 21 Jan 2020 17:11:26 GMT\n",
      "header: hnweb: pw03\n",
      "header: Pragma: no-cache\n",
      "header: Server: Apache/2.4.6 (Red Hat)\n",
      "header: Strict-Transport-Security: max-age=31536000; includeSubDomains; preload\n",
      "header: transfer-encoding: chunked\n",
      "header: Connection: keep-alive\n"
     ]
    },
    {
     "name": "stderr",
     "output_type": "stream",
     "text": [
      "DEBUG:urllib3.connectionpool:Starting new HTTPS connection (1): catalog.archives.gov:443\n"
     ]
    },
    {
     "name": "stdout",
     "output_type": "stream",
     "text": [
      "send: b'GET /OpaAPI/media/38547962/content/dc-metro/rg-026/559642/2017-01/storis-wmec-38-1957-logbooks/storis-wmec-38-1957-logbooks_0142.JPG HTTP/1.1\\r\\nHost: catalog.archives.gov\\r\\nUser-Agent: python-requests/2.21.0\\r\\nAccept-Encoding: gzip, deflate\\r\\nAccept: */*\\r\\nConnection: keep-alive\\r\\n\\r\\n'\n"
     ]
    },
    {
     "name": "stderr",
     "output_type": "stream",
     "text": [
      "DEBUG:urllib3.connectionpool:https://catalog.archives.gov:443 \"GET /OpaAPI/media/38547962/content/dc-metro/rg-026/559642/2017-01/storis-wmec-38-1957-logbooks/storis-wmec-38-1957-logbooks_0142.JPG HTTP/1.1\" 200 None\n"
     ]
    },
    {
     "name": "stdout",
     "output_type": "stream",
     "text": [
      "reply: 'HTTP/1.1 200 OK\\r\\n'\n",
      "header: Access-Control-Allow-Credentials: true\n",
      "header: Access-Control-Allow-Methods: DELETE, HEAD, GET, OPTION, POST, PUT\n",
      "header: Access-Control-Expose-Headers: JSESSIONID\n",
      "header: Access-Control-Max-Age: 3600\n",
      "header: BALANCER_NAME: (null)\n",
      "header: BALANCER_ROUTE_CHANGED: 1\n",
      "header: BALANCER_SESSION_ROUTE: (null)\n",
      "header: BALANCER_SESSION_STICKY: (null)\n",
      "header: BALANCER_WORKER_NAME: ajp://pa04.aws.nac.nara.gov:8009/OpaAPI\n",
      "header: BALANCER_WORKER_ROUTE: pa04\n",
      "header: Cache-Control: no-store, no-cache\n",
      "header: Content-Type: image/jpeg;charset=UTF-8\n",
      "header: Date: Tue, 21 Jan 2020 17:11:28 GMT\n",
      "header: hnweb: pw04\n",
      "header: Pragma: no-cache\n",
      "header: Server: Apache\n",
      "header: Strict-Transport-Security: max-age=31536000; includeSubDomains; preload\n",
      "header: transfer-encoding: chunked\n",
      "header: Connection: keep-alive\n"
     ]
    },
    {
     "name": "stderr",
     "output_type": "stream",
     "text": [
      "DEBUG:urllib3.connectionpool:Starting new HTTPS connection (1): catalog.archives.gov:443\n"
     ]
    },
    {
     "name": "stdout",
     "output_type": "stream",
     "text": [
      "send: b'GET /OpaAPI/media/38547962/content/dc-metro/rg-026/559642/2017-01/storis-wmec-38-1957-logbooks/storis-wmec-38-1957-logbooks_0143.JPG HTTP/1.1\\r\\nHost: catalog.archives.gov\\r\\nUser-Agent: python-requests/2.21.0\\r\\nAccept-Encoding: gzip, deflate\\r\\nAccept: */*\\r\\nConnection: keep-alive\\r\\n\\r\\n'\n"
     ]
    },
    {
     "name": "stderr",
     "output_type": "stream",
     "text": [
      "DEBUG:urllib3.connectionpool:https://catalog.archives.gov:443 \"GET /OpaAPI/media/38547962/content/dc-metro/rg-026/559642/2017-01/storis-wmec-38-1957-logbooks/storis-wmec-38-1957-logbooks_0143.JPG HTTP/1.1\" 200 None\n"
     ]
    },
    {
     "name": "stdout",
     "output_type": "stream",
     "text": [
      "reply: 'HTTP/1.1 200 OK\\r\\n'\n",
      "header: Access-Control-Allow-Credentials: true\n",
      "header: Access-Control-Allow-Methods: DELETE, HEAD, GET, OPTION, POST, PUT\n",
      "header: Access-Control-Expose-Headers: JSESSIONID\n",
      "header: Access-Control-Max-Age: 3600\n",
      "header: BALANCER_NAME: (null)\n",
      "header: BALANCER_ROUTE_CHANGED: 1\n",
      "header: BALANCER_SESSION_ROUTE: (null)\n",
      "header: BALANCER_SESSION_STICKY: (null)\n",
      "header: BALANCER_WORKER_NAME: ajp://pa04.aws.nac.nara.gov:8009/OpaAPI\n",
      "header: BALANCER_WORKER_ROUTE: pa04\n",
      "header: Cache-Control: no-store, no-cache\n",
      "header: Content-Type: image/jpeg;charset=UTF-8\n",
      "header: Date: Tue, 21 Jan 2020 17:11:29 GMT\n",
      "header: hnweb: pw04\n",
      "header: Pragma: no-cache\n",
      "header: Server: Apache\n",
      "header: Strict-Transport-Security: max-age=31536000; includeSubDomains; preload\n",
      "header: transfer-encoding: chunked\n",
      "header: Connection: keep-alive\n"
     ]
    },
    {
     "name": "stderr",
     "output_type": "stream",
     "text": [
      "DEBUG:urllib3.connectionpool:Starting new HTTPS connection (1): catalog.archives.gov:443\n"
     ]
    },
    {
     "name": "stdout",
     "output_type": "stream",
     "text": [
      "send: b'GET /OpaAPI/media/38547962/content/dc-metro/rg-026/559642/2017-01/storis-wmec-38-1957-logbooks/storis-wmec-38-1957-logbooks_0144.JPG HTTP/1.1\\r\\nHost: catalog.archives.gov\\r\\nUser-Agent: python-requests/2.21.0\\r\\nAccept-Encoding: gzip, deflate\\r\\nAccept: */*\\r\\nConnection: keep-alive\\r\\n\\r\\n'\n"
     ]
    },
    {
     "name": "stderr",
     "output_type": "stream",
     "text": [
      "DEBUG:urllib3.connectionpool:https://catalog.archives.gov:443 \"GET /OpaAPI/media/38547962/content/dc-metro/rg-026/559642/2017-01/storis-wmec-38-1957-logbooks/storis-wmec-38-1957-logbooks_0144.JPG HTTP/1.1\" 200 None\n"
     ]
    },
    {
     "name": "stdout",
     "output_type": "stream",
     "text": [
      "reply: 'HTTP/1.1 200 OK\\r\\n'\n",
      "header: Access-Control-Allow-Credentials: true\n",
      "header: Access-Control-Allow-Methods: DELETE, HEAD, GET, OPTION, POST, PUT\n",
      "header: Access-Control-Expose-Headers: JSESSIONID\n",
      "header: Access-Control-Max-Age: 3600\n",
      "header: BALANCER_NAME: (null)\n",
      "header: BALANCER_ROUTE_CHANGED: 1\n",
      "header: BALANCER_SESSION_ROUTE: (null)\n",
      "header: BALANCER_SESSION_STICKY: (null)\n",
      "header: BALANCER_WORKER_NAME: ajp://pa03.aws.nac.nara.gov:8009/OpaAPI\n",
      "header: BALANCER_WORKER_ROUTE: pa03\n",
      "header: Cache-Control: no-store, no-cache\n",
      "header: Content-Type: image/jpeg;charset=UTF-8\n",
      "header: Date: Tue, 21 Jan 2020 17:11:31 GMT\n",
      "header: hnweb: pw02\n",
      "header: Pragma: no-cache\n",
      "header: Server: Apache\n",
      "header: Strict-Transport-Security: max-age=31536000; includeSubDomains; preload\n",
      "header: transfer-encoding: chunked\n",
      "header: Connection: keep-alive\n"
     ]
    },
    {
     "name": "stderr",
     "output_type": "stream",
     "text": [
      "DEBUG:urllib3.connectionpool:Starting new HTTPS connection (1): catalog.archives.gov:443\n"
     ]
    },
    {
     "name": "stdout",
     "output_type": "stream",
     "text": [
      "send: b'GET /OpaAPI/media/38547962/content/dc-metro/rg-026/559642/2017-01/storis-wmec-38-1957-logbooks/storis-wmec-38-1957-logbooks_0145.JPG HTTP/1.1\\r\\nHost: catalog.archives.gov\\r\\nUser-Agent: python-requests/2.21.0\\r\\nAccept-Encoding: gzip, deflate\\r\\nAccept: */*\\r\\nConnection: keep-alive\\r\\n\\r\\n'\n"
     ]
    },
    {
     "name": "stderr",
     "output_type": "stream",
     "text": [
      "DEBUG:urllib3.connectionpool:https://catalog.archives.gov:443 \"GET /OpaAPI/media/38547962/content/dc-metro/rg-026/559642/2017-01/storis-wmec-38-1957-logbooks/storis-wmec-38-1957-logbooks_0145.JPG HTTP/1.1\" 200 None\n"
     ]
    },
    {
     "name": "stdout",
     "output_type": "stream",
     "text": [
      "reply: 'HTTP/1.1 200 OK\\r\\n'\n",
      "header: Access-Control-Allow-Credentials: true\n",
      "header: Access-Control-Allow-Methods: DELETE, HEAD, GET, OPTION, POST, PUT\n",
      "header: Access-Control-Expose-Headers: JSESSIONID\n",
      "header: Access-Control-Max-Age: 3600\n",
      "header: BALANCER_NAME: (null)\n",
      "header: BALANCER_ROUTE_CHANGED: 1\n",
      "header: BALANCER_SESSION_ROUTE: (null)\n",
      "header: BALANCER_SESSION_STICKY: (null)\n",
      "header: BALANCER_WORKER_NAME: ajp://pa03.aws.nac.nara.gov:8009/OpaAPI\n",
      "header: BALANCER_WORKER_ROUTE: pa03\n",
      "header: Cache-Control: no-store, no-cache\n",
      "header: Content-Type: image/jpeg;charset=UTF-8\n",
      "header: Date: Tue, 21 Jan 2020 17:11:32 GMT\n",
      "header: hnweb: pw04\n",
      "header: Pragma: no-cache\n",
      "header: Server: Apache\n",
      "header: Strict-Transport-Security: max-age=31536000; includeSubDomains; preload\n",
      "header: transfer-encoding: chunked\n",
      "header: Connection: keep-alive\n"
     ]
    }
   ],
   "source": [
    "import requests\n",
    "import logging\n",
    "import http.client\n",
    "\n",
    "# To set up logging.\n",
    "# https://stackoverflow.com/questions/16337511/\n",
    "http.client.HTTPConnection.debuglevel = 1\n",
    "logging.basicConfig()\n",
    "logging.getLogger().setLevel(logging.DEBUG)\n",
    "requests_log = logging.getLogger(\"requests.packages.urllib3\")\n",
    "requests_log.setLevel(logging.DEBUG)\n",
    "requests_log.propagate = True\n",
    "\n",
    "# To access the NARA API for images of the USCG Storis' 1957 logbook.\n",
    "nara_id = \"38547962\"\n",
    "api_base = 'https://catalog.archives.gov/api/v1/'\n",
    "api_url = '{0}?naIds={1}'.format(api_base, nara_id)\n",
    "res = requests.get(api_url)\n",
    "\n",
    "# To parse the NARA API output for metadata.\n",
    "entry_img_array = res.json().get('opaResponse').get('results').get('result')[0].get('objects').get('object')\n",
    "digital_directory = entry_img_array[0].get('file').get('@path').split(\"/\")[-2]\n",
    "\n",
    "# To write the NARA API output to file for reference.\n",
    "api_output = \"{0}/nara_id_{1}.json\".format(data, digital_directory, nara_id)\n",
    "if res.status_code == 200:\n",
    "    with open(api_output, 'wb') as f:\n",
    "        f.write(res.content)\n",
    "\n",
    "# To download images of 40 pages of the Storis' logbooks.\n",
    "for img_info in entry_img_array: \n",
    "\n",
    "    # We test for mimetype \"image/jpeg\"---we don't want to download any files\n",
    "    # with mimetype \"application/pdf\".\n",
    "    if img_info.get('file').get('@mime') == \"image/jpeg\":\n",
    "\n",
    "        img_name = img_info.get('file').get('@name')\n",
    "        img_url = img_info.get('file').get('@url')\n",
    "        img_res = requests.get(img_url)\n",
    "\n",
    "        # To write a single image to file.\n",
    "        local_img_name = \"{0}/{1}\".format(data, img_name)\n",
    "        if img_res.status_code == 200:\n",
    "            with open(local_img_name, 'wb') as img_f:\n",
    "                img_f.write(img_res.content)"
   ]
  },
  {
   "cell_type": "markdown",
   "metadata": {},
   "source": [
    "Let's write a metadata tagfile in the \"data\" subdirectory with the minimal\n",
    "required metadata for the sample of images."
   ]
  },
  {
   "cell_type": "code",
   "execution_count": 10,
   "metadata": {
    "attributes": {
     "classes": [],
     "id": "",
     "n": "52"
    }
   },
   "outputs": [],
   "source": [
    "import csv\n",
    "\n",
    "with open(os.path.join(data, 'metadata.csv'), mode='w') as metadata_file:\n",
    "    metadata_writer = csv.writer(metadata_file, delimiter=',', quotechar='\"', quoting=csv.QUOTE_MINIMAL)\n",
    "    \n",
    "    metadata_writer.writerow(['archive.host_country', 'USA'])\n",
    "    metadata_writer.writerow(['document.contact_person', 'Kevin Wood'])\n",
    "    metadata_writer.writerow(['archive.notes', 'Images available via API at https://catalog.archives.gov/api/v1/38547962'])\n",
    "    metadata_writer.writerow(['platform.name', 'USCG Storis'])\n",
    "    metadata_writer.writerow(['document.id_within_archive', '38547962'])\n",
    "    metadata_writer.writerow(['document.id_within_archive_type', 'NARA ID'])\n",
    "    metadata_writer.writerow(['document.record_type', \"ships' logs\"])\n",
    "    metadata_writer.writerow(['document.accession_to_archive_date', '2016-08-19'])\n",
    "    metadata_writer.writerow(['document.standardized_region_list', 'north_atlantic'])\n",
    "    metadata_writer.writerow(['document.start_date', '1957-06-09'])\n",
    "    metadata_writer.writerow(['document.start_date', '1957-09-30'])\n",
    "    metadata_writer.writerow(['document.rights_statement', 'CC0 Public Domain'])\n",
    "    metadata_writer.writerow(['document.notes', ''])"
   ]
  },
  {
   "cell_type": "markdown",
   "metadata": {},
   "source": [
    "During ingest we'll associate the above metadata to the 20 samples images. In\n",
    "practice, any `.csv` file in the `data` subdirectory will be parsed as a\n",
    "metadata tagefile. For example, the tagfile `metadata.csv` provides metadata for\n",
    "images in the same directory `uscg-storis/data` as itself and in all\n",
    "subdirectory below itself. \n",
    "\n",
    "To enable users to provide \"hierarchical\" metadata,\n",
    "the information in a tagfile from a subdirectory has precendence over any\n",
    "tagfiles from parent directories. (The idea is to provide the *most specific\n",
    "metadata* for images in the same directory as the images themselves, while\n",
    "parent directories might provide *general metadata* for a whole collection of\n",
    "images.)\n",
    "\n",
    "Here's what the tagfile we created looks like."
   ]
  },
  {
   "cell_type": "code",
   "execution_count": 11,
   "metadata": {
    "attributes": {
     "classes": [],
     "id": "",
     "n": "53"
    }
   },
   "outputs": [
    {
     "data": {
      "text/html": [
       "<div>\n",
       "<style scoped>\n",
       "    .dataframe tbody tr th:only-of-type {\n",
       "        vertical-align: middle;\n",
       "    }\n",
       "\n",
       "    .dataframe tbody tr th {\n",
       "        vertical-align: top;\n",
       "    }\n",
       "\n",
       "    .dataframe thead th {\n",
       "        text-align: right;\n",
       "    }\n",
       "</style>\n",
       "<table border=\"1\" class=\"dataframe\">\n",
       "  <thead>\n",
       "    <tr style=\"text-align: right;\">\n",
       "      <th></th>\n",
       "      <th>field</th>\n",
       "      <th>value</th>\n",
       "    </tr>\n",
       "  </thead>\n",
       "  <tbody>\n",
       "    <tr>\n",
       "      <th>0</th>\n",
       "      <td>archive.host_country</td>\n",
       "      <td>USA</td>\n",
       "    </tr>\n",
       "    <tr>\n",
       "      <th>1</th>\n",
       "      <td>document.contact_person</td>\n",
       "      <td>Kevin Wood</td>\n",
       "    </tr>\n",
       "    <tr>\n",
       "      <th>2</th>\n",
       "      <td>archive.notes</td>\n",
       "      <td>Images available via API at https://catalog.ar...</td>\n",
       "    </tr>\n",
       "    <tr>\n",
       "      <th>3</th>\n",
       "      <td>platform.name</td>\n",
       "      <td>USCG Storis</td>\n",
       "    </tr>\n",
       "    <tr>\n",
       "      <th>4</th>\n",
       "      <td>document.id_within_archive</td>\n",
       "      <td>38547962</td>\n",
       "    </tr>\n",
       "    <tr>\n",
       "      <th>5</th>\n",
       "      <td>document.id_within_archive_type</td>\n",
       "      <td>NARA ID</td>\n",
       "    </tr>\n",
       "    <tr>\n",
       "      <th>6</th>\n",
       "      <td>document.record_type</td>\n",
       "      <td>ships' logs</td>\n",
       "    </tr>\n",
       "    <tr>\n",
       "      <th>7</th>\n",
       "      <td>document.accession_to_archive_date</td>\n",
       "      <td>2016-08-19</td>\n",
       "    </tr>\n",
       "    <tr>\n",
       "      <th>8</th>\n",
       "      <td>document.standardized_region_list</td>\n",
       "      <td>north_atlantic</td>\n",
       "    </tr>\n",
       "    <tr>\n",
       "      <th>9</th>\n",
       "      <td>document.start_date</td>\n",
       "      <td>1957-06-09</td>\n",
       "    </tr>\n",
       "    <tr>\n",
       "      <th>10</th>\n",
       "      <td>document.start_date</td>\n",
       "      <td>1957-09-30</td>\n",
       "    </tr>\n",
       "    <tr>\n",
       "      <th>11</th>\n",
       "      <td>document.rights_statement</td>\n",
       "      <td>CC0 Public Domain</td>\n",
       "    </tr>\n",
       "    <tr>\n",
       "      <th>12</th>\n",
       "      <td>document.notes</td>\n",
       "      <td>NaN</td>\n",
       "    </tr>\n",
       "  </tbody>\n",
       "</table>\n",
       "</div>"
      ],
      "text/plain": [
       "                                 field  \\\n",
       "0                 archive.host_country   \n",
       "1              document.contact_person   \n",
       "2                        archive.notes   \n",
       "3                        platform.name   \n",
       "4           document.id_within_archive   \n",
       "5      document.id_within_archive_type   \n",
       "6                 document.record_type   \n",
       "7   document.accession_to_archive_date   \n",
       "8    document.standardized_region_list   \n",
       "9                  document.start_date   \n",
       "10                 document.start_date   \n",
       "11           document.rights_statement   \n",
       "12                      document.notes   \n",
       "\n",
       "                                                value  \n",
       "0                                                 USA  \n",
       "1                                          Kevin Wood  \n",
       "2   Images available via API at https://catalog.ar...  \n",
       "3                                         USCG Storis  \n",
       "4                                            38547962  \n",
       "5                                             NARA ID  \n",
       "6                                         ships' logs  \n",
       "7                                          2016-08-19  \n",
       "8                                      north_atlantic  \n",
       "9                                          1957-06-09  \n",
       "10                                         1957-09-30  \n",
       "11                                  CC0 Public Domain  \n",
       "12                                                NaN  "
      ]
     },
     "execution_count": 11,
     "metadata": {},
     "output_type": "execute_result"
    }
   ],
   "source": [
    "import pandas as pd\n",
    "df = pd.read_csv(os.path.join(data, \"metadata.csv\"), header=None, names=[\"field\", \"value\"])\n",
    "df"
   ]
  },
  {
   "cell_type": "markdown",
   "metadata": {},
   "source": [
    "## Ingesting images\n",
    "\n",
    "First, we'll interactively load \"helper\" functions as defined in the `rdai`\n",
    "module."
   ]
  },
  {
   "cell_type": "code",
   "execution_count": 1,
   "metadata": {
    "attributes": {
     "classes": [],
     "id": "",
     "n": "57"
    }
   },
   "outputs": [],
   "source": [
    "%run -i scripts/utils.py"
   ]
  },
  {
   "cell_type": "markdown",
   "metadata": {},
   "source": [
    "Now, we'll define the global variable `fixed_seq` in order to call `mint_uuid`\n",
    "for each image file."
   ]
  },
  {
   "cell_type": "code",
   "execution_count": 13,
   "metadata": {
    "attributes": {
     "classes": [],
     "id": "",
     "n": "55"
    }
   },
   "outputs": [],
   "source": [
    "# We generate a fixed sequence for uuids.\n",
    "get_fixed_seq()"
   ]
  },
  {
   "cell_type": "markdown",
   "metadata": {},
   "source": [
    "If we're on casper, then we'll need to load python-magic from `rdadata`. Else,\n",
    "we assume the python-magic package has already been installed, e.g., with `pip3\n",
    "install python-magic --user`."
   ]
  },
  {
   "cell_type": "code",
   "execution_count": 14,
   "metadata": {
    "attributes": {
     "classes": [],
     "id": "",
     "n": "58"
    }
   },
   "outputs": [],
   "source": [
    "import sys\n",
    "sys.path.append('/glade/u/home/rdadata/lib/python/site-packages')\n",
    "\n",
    "# get_exiftool()\n",
    "import subprocess\n",
    "import os\n",
    "repo_dir = subprocess.Popen(['git', 'rev-parse', '--show-toplevel'], stdout=subprocess.PIPE).communicate()[0].rstrip().decode('utf-8')\n",
    "sys.path.append(os.path.join(repo_dir, \"dependencies/pyexiftool\"))\n",
    "import exiftool"
   ]
  },
  {
   "cell_type": "code",
   "execution_count": 2,
   "metadata": {
    "attributes": {
     "classes": [],
     "id": "",
     "n": "67"
    }
   },
   "outputs": [
    {
     "ename": "NameError",
     "evalue": "name 'data' is not defined",
     "output_type": "error",
     "traceback": [
      "\u001b[0;31m---------------------------------------------------------\u001b[0m",
      "\u001b[0;31mNameError\u001b[0m               Traceback (most recent call last)",
      "\u001b[0;32m~/fy/20/rda-image-archive/scripts/utils.py\u001b[0m in \u001b[0;36m<module>\u001b[0;34m\u001b[0m\n\u001b[0;32m----> 1\u001b[0;31m \u001b[0mnormalized_catalog\u001b[0m \u001b[0;34m=\u001b[0m \u001b[0mget_normalized_catalog\u001b[0m\u001b[0;34m(\u001b[0m\u001b[0mdata\u001b[0m\u001b[0;34m)\u001b[0m\u001b[0;34m\u001b[0m\u001b[0;34m\u001b[0m\u001b[0m\n\u001b[0m\u001b[1;32m      2\u001b[0m \u001b[0;31m# We generate a metadata catalog (unnormalized) from the data directory.\u001b[0m\u001b[0;34m\u001b[0m\u001b[0;34m\u001b[0m\u001b[0;34m\u001b[0m\u001b[0m\n",
      "\u001b[0;31mNameError\u001b[0m: name 'data' is not defined"
     ]
    }
   ],
   "source": [
    "normalized_catalog = get_normalized_catalog(data)\n",
    "# We generate a metadata catalog (unnormalized) from the data directory."
   ]
  },
  {
   "cell_type": "code",
   "execution_count": 16,
   "metadata": {},
   "outputs": [
    {
     "name": "stdout",
     "output_type": "stream",
     "text": [
      "\u001b[36m00_files\u001b[00m\r\n",
      "├── \u001b[36mdata\u001b[00m\r\n",
      "│   ├── \u001b[32mmetadata.csv\u001b[00m\r\n",
      "│   └── nara_id_storis-wmec-38-1957-logbooks.json\r\n",
      "└── \u001b[36mout\u001b[00m\r\n",
      "    ├── 2020-01-21-092004-catalog.json\r\n",
      "    ├── 24f49f0c3c7211ea9a8708119645fa1c\r\n",
      "    ├── 25238cac3c7211ea9a8708119645fa1c\r\n",
      "    ├── 255246903c7211ea9a8708119645fa1c\r\n",
      "    ├── 2581d9363c7211ea9a8708119645fa1c\r\n",
      "    ├── 25b170ac3c7211ea9a8708119645fa1c\r\n",
      "    ├── 25e03cb03c7211ea9a8708119645fa1c\r\n",
      "    ├── 260f59f43c7211ea9a8708119645fa1c\r\n",
      "    ├── 263e0f243c7211ea9a8708119645fa1c\r\n",
      "    ├── 266ce93a3c7211ea9a8708119645fa1c\r\n",
      "    ├── 269c12943c7211ea9a8708119645fa1c\r\n",
      "    ├── 26cac2c63c7211ea9a8708119645fa1c\r\n",
      "    ├── 26f8f6083c7211ea9a8708119645fa1c\r\n",
      "    ├── 272908cc3c7211ea9a8708119645fa1c\r\n",
      "    ├── 275759463c7211ea9a8708119645fa1c\r\n",
      "    ├── 278568da3c7211ea9a8708119645fa1c\r\n",
      "    ├── 27b5091c3c7211ea9a8708119645fa1c\r\n",
      "    ├── 27e498a83c7211ea9a8708119645fa1c\r\n",
      "    ├── 2813d3dc3c7211ea9a8708119645fa1c\r\n",
      "    ├── 284358703c7211ea9a8708119645fa1c\r\n",
      "    └── 2872e30c3c7211ea9a8708119645fa1c\r\n",
      "\r\n",
      "2 directories, 23 files\r\n"
     ]
    }
   ],
   "source": [
    "!tree 00_files"
   ]
  },
  {
   "cell_type": "code",
   "execution_count": 29,
   "metadata": {
    "attributes": {
     "classes": [],
     "id": "",
     "n": "67"
    }
   },
   "outputs": [],
   "source": [
    "catalog = unnormalize_catalog(normalized_catalog)\n",
    "# We flatten the normalized catalog. \n",
    "# Each file in the data directory \"has its own entry\" in this catalog.\n",
    "# We'll eventually ignore non-image files."
   ]
  },
  {
   "cell_type": "code",
   "execution_count": 30,
   "metadata": {
    "attributes": {
     "classes": [],
     "id": "",
     "n": "67"
    }
   },
   "outputs": [],
   "source": [
    "write_timestamped_catalog(catalog, out)\n",
    "# We write this version of the metadata catalog to the output directory."
   ]
  },
  {
   "cell_type": "code",
   "execution_count": 27,
   "metadata": {
    "attributes": {
     "classes": [],
     "id": "",
     "n": "68"
    }
   },
   "outputs": [],
   "source": [
    "catalog = read_timestamped_catalog(out)\n",
    "# We read in the most recent version of the metadata catalog from the out directory."
   ]
  },
  {
   "cell_type": "code",
   "execution_count": 18,
   "metadata": {
    "attributes": {
     "classes": [],
     "id": "",
     "n": "68"
    }
   },
   "outputs": [],
   "source": [
    "elementary_family = [c for c in catalog if c['media_type'].startswith(\"image\")]\n",
    "# We create a list of all the entries in the catalog that are image files."
   ]
  },
  {
   "cell_type": "code",
   "execution_count": 19,
   "metadata": {
    "attributes": {
     "classes": [],
     "id": "",
     "n": "69"
    }
   },
   "outputs": [
    {
     "ename": "FileNotFoundError",
     "evalue": "[Errno 2] No such file or directory: '00_files/data/storis-wmec-38-1957-logbooks_0126.JPG' -> '00_files/out/24f49f0c3c7211ea9a8708119645fa1c'",
     "output_type": "error",
     "traceback": [
      "\u001b[0;31m---------------------------------------------------------\u001b[0m",
      "\u001b[0;31mFileNotFoundError\u001b[0m       Traceback (most recent call last)",
      "\u001b[0;32m~/fy/20/rda-image-archive/scripts/utils.py\u001b[0m in \u001b[0;36m<module>\u001b[0;34m\u001b[0m\n\u001b[1;32m      4\u001b[0m \u001b[0;31m# We move all the images in the catalog to the output directory.\u001b[0m\u001b[0;34m\u001b[0m\u001b[0;34m\u001b[0m\u001b[0;34m\u001b[0m\u001b[0m\n\u001b[1;32m      5\u001b[0m \u001b[0;32mfor\u001b[0m \u001b[0mmember\u001b[0m \u001b[0;32min\u001b[0m \u001b[0melementary_family\u001b[0m\u001b[0;34m:\u001b[0m\u001b[0;34m\u001b[0m\u001b[0;34m\u001b[0m\u001b[0m\n\u001b[0;32m----> 6\u001b[0;31m     \u001b[0mos\u001b[0m\u001b[0;34m.\u001b[0m\u001b[0mrename\u001b[0m\u001b[0;34m(\u001b[0m\u001b[0mmember\u001b[0m\u001b[0;34m[\u001b[0m\u001b[0;34m'file_path'\u001b[0m\u001b[0;34m]\u001b[0m\u001b[0;34m,\u001b[0m \u001b[0mos\u001b[0m\u001b[0;34m.\u001b[0m\u001b[0mpath\u001b[0m\u001b[0;34m.\u001b[0m\u001b[0mjoin\u001b[0m\u001b[0;34m(\u001b[0m\u001b[0mout\u001b[0m\u001b[0;34m,\u001b[0m \u001b[0mmember\u001b[0m\u001b[0;34m[\u001b[0m\u001b[0;34m'uuid'\u001b[0m\u001b[0;34m]\u001b[0m\u001b[0;34m)\u001b[0m\u001b[0;34m)\u001b[0m\u001b[0;34m\u001b[0m\u001b[0;34m\u001b[0m\u001b[0m\n\u001b[0m",
      "\u001b[0;31mFileNotFoundError\u001b[0m: [Errno 2] No such file or directory: '00_files/data/storis-wmec-38-1957-logbooks_0126.JPG' -> '00_files/out/24f49f0c3c7211ea9a8708119645fa1c'"
     ]
    }
   ],
   "source": [
    "import os\n",
    "# We'll perform some file renames between the data directory and the out directory.\n",
    "\n",
    "# We move all the images in the catalog to the output directory.\n",
    "for member in elementary_family:\n",
    "    os.rename(member['file_path'], os.path.join(out, member['uuid']))"
   ]
  },
  {
   "cell_type": "markdown",
   "metadata": {},
   "source": [
    "### We move all the images in the catalog back to the data directory."
   ]
  },
  {
   "cell_type": "code",
   "execution_count": 20,
   "metadata": {
    "attributes": {
     "classes": [],
     "id": "",
     "n": "71"
    }
   },
   "outputs": [],
   "source": [
    "# Conversely, we move all the images in the catalog back to the data directory.\n",
    "for member in elementary_family:\n",
    "    os.rename(os.path.join(out, member['uuid']), member['file_path'])"
   ]
  },
  {
   "cell_type": "markdown",
   "metadata": {},
   "source": [
    "## Clean up the working directory"
   ]
  },
  {
   "cell_type": "code",
   "execution_count": 1,
   "metadata": {
    "attributes": {
     "classes": [],
     "id": "",
     "n": "72"
    }
   },
   "outputs": [
    {
     "name": "stdout",
     "output_type": "stream",
     "text": [
      "rm: cannot remove '00_files/': No such file or directory\r\n"
     ]
    }
   ],
   "source": [
    "!rm -r 00_files/"
   ]
  }
 ],
 "metadata": {
  "kernelspec": {
   "display_name": "Python 3",
   "language": "python",
   "name": "python3"
  },
  "language_info": {
   "codemirror_mode": {
    "name": "ipython",
    "version": 3
   },
   "file_extension": ".py",
   "mimetype": "text/x-python",
   "name": "python",
   "nbconvert_exporter": "python",
   "pygments_lexer": "ipython3",
   "version": "3.7.3"
  }
 },
 "nbformat": 4,
 "nbformat_minor": 2
}
