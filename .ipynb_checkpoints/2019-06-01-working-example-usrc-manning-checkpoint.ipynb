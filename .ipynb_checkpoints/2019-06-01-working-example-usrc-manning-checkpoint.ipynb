{
 "cells": [
  {
   "cell_type": "markdown",
   "metadata": {},
   "source": [
    "## Directory structure"
   ]
  },
  {
   "cell_type": "code",
   "execution_count": 2,
   "metadata": {},
   "outputs": [
    {
     "name": "stdout",
     "output_type": "stream",
     "text": [
      "\u001b[34m2019-06-01\u001b[m\u001b[m/\r\n",
      "2019-06-01-testing-downloads.ipynb\r\n",
      "2019-06-01-working-example-usrc-manning.ipynb\r\n",
      "2019-11-14-revisions-to-metadata-import.ipynb\r\n",
      "\u001b[34m2019-11-21\u001b[m\u001b[m/\r\n",
      "2019-11-21-minimal-working-example.ipynb\r\n",
      "\u001b[34m2019-11-25\u001b[m\u001b[m/\r\n",
      "2019-11-25-working-example.ipynb\r\n"
     ]
    }
   ],
   "source": [
    "%ls\n",
    "# Does the present directory contain the minimal working example directory 2019-11-21?"
   ]
  },
  {
   "cell_type": "code",
   "execution_count": 3,
   "metadata": {},
   "outputs": [
    {
     "name": "stdout",
     "output_type": "stream",
     "text": [
      "mkdir: 2019-06-01/data: File exists\r\n",
      "mkdir: 2019-06-01/out: File exists\r\n"
     ]
    }
   ],
   "source": [
    "!mkdir 2019-06-01/data 2019-06-01/out\n",
    "# Do the source and output subdirectories exist?"
   ]
  },
  {
   "cell_type": "code",
   "execution_count": 4,
   "metadata": {},
   "outputs": [],
   "source": [
    "data = \"2019-06-01/data\" # Where are the images and metadata tag files?\n",
    "out  = \"2019-06-01/out\"  # Where should we put the renamed files and metadata catalog?"
   ]
  },
  {
   "cell_type": "markdown",
   "metadata": {},
   "source": [
    "## Function definitions"
   ]
  },
  {
   "cell_type": "code",
   "execution_count": 19,
   "metadata": {},
   "outputs": [],
   "source": [
    "%run -i rdai\n",
    "# We run rdai script interactively to obtain function definitions"
   ]
  },
  {
   "cell_type": "markdown",
   "metadata": {},
   "source": [
    "## Creating the metadata catalog"
   ]
  },
  {
   "cell_type": "code",
   "execution_count": 14,
   "metadata": {},
   "outputs": [],
   "source": [
    "get_fixed_seq()\n",
    "# Have we generated a fixed sequence for uuids?\n",
    "# The global variable fixed_seq needs to be defined prior to calling mint_uuid"
   ]
  },
  {
   "cell_type": "code",
   "execution_count": 22,
   "metadata": {},
   "outputs": [
    {
     "name": "stdout",
     "output_type": "stream",
     "text": [
      "RDAI: Tag EXIF:ImageUniqueID=c7884b78202611ea9288985aebdcd794 already exists in file 2019-06-01/data/nara_id_24407615/Manning-1914_0001.JPG.\n",
      "RDAI: Tag EXIF:ImageUniqueID=c7acc57a202611ea9288985aebdcd794 already exists in file 2019-06-01/data/nara_id_24407615/Manning-1914_0002.JPG.\n",
      "RDAI: Tag EXIF:ImageUniqueID=c7cf7be2202611ea9288985aebdcd794 already exists in file 2019-06-01/data/nara_id_24407615/Manning-1914_0003.JPG.\n",
      "RDAI: Tag EXIF:ImageUniqueID=c7f0c522202611ea9288985aebdcd794 already exists in file 2019-06-01/data/nara_id_24407615/Manning-1914_0004.JPG.\n",
      "RDAI: Tag EXIF:ImageUniqueID=c8127848202611ea9288985aebdcd794 already exists in file 2019-06-01/data/nara_id_24407615/Manning-1914_0005.JPG.\n",
      "RDAI: Tag EXIF:ImageUniqueID=c8350de8202611ea9288985aebdcd794 already exists in file 2019-06-01/data/nara_id_24407615/Manning-1914_0006.JPG.\n",
      "RDAI: Tag EXIF:ImageUniqueID=c8569280202611ea9288985aebdcd794 already exists in file 2019-06-01/data/nara_id_24407615/Manning-1914_0007.JPG.\n",
      "RDAI: Tag EXIF:ImageUniqueID=c878e538202611ea9288985aebdcd794 already exists in file 2019-06-01/data/nara_id_24407615/Manning-1914_0008.JPG.\n",
      "RDAI: Tag EXIF:ImageUniqueID=c899b628202611ea9288985aebdcd794 already exists in file 2019-06-01/data/nara_id_24407615/Manning-1914_0009.JPG.\n",
      "RDAI: Tag EXIF:ImageUniqueID=c8bb2402202611ea9288985aebdcd794 already exists in file 2019-06-01/data/nara_id_24407615/Manning-1914_0010.JPG.\n"
     ]
    }
   ],
   "source": [
    "normalized_catalog = get_normalized_catalog(data)\n",
    "# We generate a metadata catalog (unnormalized) from the data directory.\n",
    "\n",
    "catalog = unnormalize_catalog(normalized_catalog)\n",
    "# We flatten the normalized catalog. \n",
    "# Each file in the data directory \"has its own entry\" in this catalog.\n",
    "# We'll eventually ignore non-image files.\n",
    "\n",
    "write_timestamped_catalog(catalog, out)\n",
    "# We write this version of the metadata catalog to the output directory."
   ]
  },
  {
   "cell_type": "markdown",
   "metadata": {},
   "source": [
    "## Bundling the images to send to the RDA"
   ]
  },
  {
   "cell_type": "code",
   "execution_count": 32,
   "metadata": {},
   "outputs": [],
   "source": [
    "catalog = read_timestamped_catalog(out)\n",
    "# We read in the most recent version of the metadata catalog from the out directory.\n",
    "\n",
    "elementary_family = [c for c in catalog if c['media_type'].startswith(\"image\")]\n",
    "# We create a list of all the entries in the catalog that are image files."
   ]
  },
  {
   "cell_type": "code",
   "execution_count": 40,
   "metadata": {},
   "outputs": [],
   "source": [
    "import os\n",
    "# We'll perform some file renames between the data directory and the out directory."
   ]
  },
  {
   "cell_type": "code",
   "execution_count": 41,
   "metadata": {},
   "outputs": [],
   "source": [
    "# We move all the images in the catalog to the output directory.\n",
    "for member in elementary_family:\n",
    "    os.rename(member['file_path'], os.path.join(out, member['uuid']))"
   ]
  },
  {
   "cell_type": "code",
   "execution_count": 42,
   "metadata": {},
   "outputs": [],
   "source": [
    "# Conversely, we move all the images in the catalog back to the data directory.\n",
    "for member in elementary_family:\n",
    "    os.rename(os.path.join(out, member['uuid']), member['file_path'])"
   ]
  }
 ],
 "metadata": {
  "kernelspec": {
   "display_name": "Python 3",
   "language": "python",
   "name": "python3"
  },
  "language_info": {
   "codemirror_mode": {
    "name": "ipython",
    "version": 3
   },
   "file_extension": ".py",
   "mimetype": "text/x-python",
   "name": "python",
   "nbconvert_exporter": "python",
   "pygments_lexer": "ipython3",
   "version": "3.7.3"
  }
 },
 "nbformat": 4,
 "nbformat_minor": 2
}
