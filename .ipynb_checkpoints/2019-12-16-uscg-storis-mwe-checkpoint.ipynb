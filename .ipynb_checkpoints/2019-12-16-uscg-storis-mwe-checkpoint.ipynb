{
 "cells": [
  {
   "cell_type": "code",
   "execution_count": 1,
   "metadata": {},
   "outputs": [
    {
     "name": "stdout",
     "output_type": "stream",
     "text": [
      "mkdir: cannot create directory ‘2019-12-16’: File exists\r\n",
      "mkdir: cannot create directory ‘2019-12-16/data’: File exists\r\n",
      "mkdir: cannot create directory ‘2019-12-16/out’: File exists\r\n"
     ]
    }
   ],
   "source": [
    "!mkdir 2019-12-16 2019-12-16/data 2019-12-16/out\n",
    "# Do the source and output subdirectories exist?"
   ]
  },
  {
   "cell_type": "code",
   "execution_count": 2,
   "metadata": {},
   "outputs": [],
   "source": [
    "data = \"2019-12-16/data\" # Where are the images and metadata tag files?\n",
    "out  = \"2019-12-16/out\"  # Where should we put the renamed files and metadata catalog?"
   ]
  },
  {
   "cell_type": "code",
   "execution_count": 3,
   "metadata": {},
   "outputs": [],
   "source": [
    "# set up logging for requests\n",
    "import requests\n",
    "import logging\n",
    "import http.client\n",
    "\n",
    "# https://stackoverflow.com/questions/16337511/\n",
    "http.client.HTTPConnection.debuglevel = 1\n",
    "logging.basicConfig()\n",
    "logging.getLogger().setLevel(logging.DEBUG)\n",
    "requests_log = logging.getLogger(\"requests.packages.urllib3\")\n",
    "requests_log.setLevel(logging.DEBUG)\n",
    "requests_log.propagate = True"
   ]
  },
  {
   "cell_type": "code",
   "execution_count": 4,
   "metadata": {},
   "outputs": [
    {
     "name": "stderr",
     "output_type": "stream",
     "text": [
      "DEBUG:urllib3.connectionpool:Starting new HTTPS connection (1): catalog.archives.gov:443\n",
      "DEBUG:urllib3.connectionpool:https://catalog.archives.gov:443 \"GET /api/v1/?naIds=38547962 HTTP/1.1\" 200 None\n"
     ]
    },
    {
     "name": "stdout",
     "output_type": "stream",
     "text": [
      "send: b'GET /api/v1/?naIds=38547962 HTTP/1.1\\r\\nHost: catalog.archives.gov\\r\\nUser-Agent: python-requests/2.22.0\\r\\nAccept-Encoding: gzip, deflate\\r\\nAccept: */*\\r\\nConnection: keep-alive\\r\\n\\r\\n'\n",
      "reply: 'HTTP/1.1 200 OK\\r\\n'\n",
      "header: Access-Control-Allow-Credentials: true\n",
      "header: Access-Control-Allow-Methods: DELETE, HEAD, GET, OPTION, POST, PUT\n",
      "header: Access-Control-Expose-Headers: JSESSIONID\n",
      "header: Access-Control-Max-Age: 3600\n",
      "header: BALANCER_NAME: (null)\n",
      "header: BALANCER_ROUTE_CHANGED: 1\n",
      "header: BALANCER_SESSION_ROUTE: (null)\n",
      "header: BALANCER_SESSION_STICKY: (null)\n",
      "header: BALANCER_WORKER_NAME: ajp://pa03.aws.nac.nara.gov:8009/OpaAPI\n",
      "header: BALANCER_WORKER_ROUTE: pa03\n",
      "header: Cache-Control: no-store, no-cache\n",
      "header: Content-Type: application/json;charset=UTF-8\n",
      "header: Date: Tue, 17 Dec 2019 19:46:50 GMT\n",
      "header: hnweb: pw01\n",
      "header: Pragma: no-cache\n",
      "header: Server: Apache/2.4.6 (Red Hat)\n",
      "header: Strict-Transport-Security: max-age=31536000; includeSubDomains; preload\n",
      "header: transfer-encoding: chunked\n",
      "header: Connection: keep-alive\n"
     ]
    }
   ],
   "source": [
    "# access NARA API for Storis 1957 logbooks\n",
    "nara_id = \"38547962\"\n",
    "api_base = 'https://catalog.archives.gov/api/v1/'\n",
    "api_url = '{0}?naIds={1}'.format(api_base, nara_id)\n",
    "res = requests.get(api_url)"
   ]
  },
  {
   "cell_type": "code",
   "execution_count": 5,
   "metadata": {},
   "outputs": [],
   "source": [
    "# parse NARA API output for metadata\n",
    "entry_img_array = res.json().get('opaResponse').get('results').get('result')[0].get('objects').get('object')\n",
    "digital_directory = entry_img_array[0].get('file').get('@path').split(\"/\")[-2]\n",
    "\n",
    "# write NARA API output to file for reference\n",
    "api_output = \"{0}/nara_id_{1}.json\".format(data, digital_directory, nara_id)\n",
    "if res.status_code == 200:\n",
    "    with open(api_output, 'wb') as f:\n",
    "        f.write(res.content)"
   ]
  },
  {
   "cell_type": "code",
   "execution_count": 6,
   "metadata": {},
   "outputs": [
    {
     "name": "stderr",
     "output_type": "stream",
     "text": [
      "DEBUG:urllib3.connectionpool:Starting new HTTPS connection (1): catalog.archives.gov:443\n"
     ]
    },
    {
     "name": "stdout",
     "output_type": "stream",
     "text": [
      "send: b'GET /OpaAPI/media/38547962/content/dc-metro/rg-026/559642/2017-01/storis-wmec-38-1957-logbooks/storis-wmec-38-1957-logbooks_0126.JPG HTTP/1.1\\r\\nHost: catalog.archives.gov\\r\\nUser-Agent: python-requests/2.22.0\\r\\nAccept-Encoding: gzip, deflate\\r\\nAccept: */*\\r\\nConnection: keep-alive\\r\\n\\r\\n'\n"
     ]
    },
    {
     "name": "stderr",
     "output_type": "stream",
     "text": [
      "DEBUG:urllib3.connectionpool:https://catalog.archives.gov:443 \"GET /OpaAPI/media/38547962/content/dc-metro/rg-026/559642/2017-01/storis-wmec-38-1957-logbooks/storis-wmec-38-1957-logbooks_0126.JPG HTTP/1.1\" 200 None\n"
     ]
    },
    {
     "name": "stdout",
     "output_type": "stream",
     "text": [
      "reply: 'HTTP/1.1 200 OK\\r\\n'\n",
      "header: Access-Control-Allow-Credentials: true\n",
      "header: Access-Control-Allow-Methods: DELETE, HEAD, GET, OPTION, POST, PUT\n",
      "header: Access-Control-Expose-Headers: JSESSIONID\n",
      "header: Access-Control-Max-Age: 3600\n",
      "header: BALANCER_NAME: (null)\n",
      "header: BALANCER_ROUTE_CHANGED: 1\n",
      "header: BALANCER_SESSION_ROUTE: (null)\n",
      "header: BALANCER_SESSION_STICKY: (null)\n",
      "header: BALANCER_WORKER_NAME: ajp://pa01.aws.nac.nara.gov:8009/OpaAPI\n",
      "header: BALANCER_WORKER_ROUTE: pa01\n",
      "header: Cache-Control: no-store, no-cache\n",
      "header: Content-Type: image/jpeg;charset=UTF-8\n",
      "header: Date: Tue, 17 Dec 2019 19:46:54 GMT\n",
      "header: hnweb: pw03\n",
      "header: Pragma: no-cache\n",
      "header: Server: Apache/2.4.6 (Red Hat)\n",
      "header: Strict-Transport-Security: max-age=31536000; includeSubDomains; preload\n",
      "header: transfer-encoding: chunked\n",
      "header: Connection: keep-alive\n"
     ]
    },
    {
     "name": "stderr",
     "output_type": "stream",
     "text": [
      "DEBUG:urllib3.connectionpool:Starting new HTTPS connection (1): catalog.archives.gov:443\n"
     ]
    },
    {
     "name": "stdout",
     "output_type": "stream",
     "text": [
      "send: b'GET /OpaAPI/media/38547962/content/dc-metro/rg-026/559642/2017-01/storis-wmec-38-1957-logbooks/storis-wmec-38-1957-logbooks_0127.JPG HTTP/1.1\\r\\nHost: catalog.archives.gov\\r\\nUser-Agent: python-requests/2.22.0\\r\\nAccept-Encoding: gzip, deflate\\r\\nAccept: */*\\r\\nConnection: keep-alive\\r\\n\\r\\n'\n"
     ]
    },
    {
     "name": "stderr",
     "output_type": "stream",
     "text": [
      "DEBUG:urllib3.connectionpool:https://catalog.archives.gov:443 \"GET /OpaAPI/media/38547962/content/dc-metro/rg-026/559642/2017-01/storis-wmec-38-1957-logbooks/storis-wmec-38-1957-logbooks_0127.JPG HTTP/1.1\" 200 None\n"
     ]
    },
    {
     "name": "stdout",
     "output_type": "stream",
     "text": [
      "reply: 'HTTP/1.1 200 OK\\r\\n'\n",
      "header: Access-Control-Allow-Credentials: true\n",
      "header: Access-Control-Allow-Methods: DELETE, HEAD, GET, OPTION, POST, PUT\n",
      "header: Access-Control-Expose-Headers: JSESSIONID\n",
      "header: Access-Control-Max-Age: 3600\n",
      "header: BALANCER_NAME: (null)\n",
      "header: BALANCER_ROUTE_CHANGED: 1\n",
      "header: BALANCER_SESSION_ROUTE: (null)\n",
      "header: BALANCER_SESSION_STICKY: (null)\n",
      "header: BALANCER_WORKER_NAME: ajp://pa01.aws.nac.nara.gov:8009/OpaAPI\n",
      "header: BALANCER_WORKER_ROUTE: pa01\n",
      "header: Cache-Control: no-store, no-cache\n",
      "header: Content-Type: image/jpeg;charset=UTF-8\n",
      "header: Date: Tue, 17 Dec 2019 19:46:55 GMT\n",
      "header: hnweb: pw04\n",
      "header: Pragma: no-cache\n",
      "header: Server: Apache\n",
      "header: Strict-Transport-Security: max-age=31536000; includeSubDomains; preload\n",
      "header: transfer-encoding: chunked\n",
      "header: Connection: keep-alive\n"
     ]
    },
    {
     "name": "stderr",
     "output_type": "stream",
     "text": [
      "DEBUG:urllib3.connectionpool:Starting new HTTPS connection (1): catalog.archives.gov:443\n"
     ]
    },
    {
     "name": "stdout",
     "output_type": "stream",
     "text": [
      "send: b'GET /OpaAPI/media/38547962/content/dc-metro/rg-026/559642/2017-01/storis-wmec-38-1957-logbooks/storis-wmec-38-1957-logbooks_0128.JPG HTTP/1.1\\r\\nHost: catalog.archives.gov\\r\\nUser-Agent: python-requests/2.22.0\\r\\nAccept-Encoding: gzip, deflate\\r\\nAccept: */*\\r\\nConnection: keep-alive\\r\\n\\r\\n'\n"
     ]
    },
    {
     "name": "stderr",
     "output_type": "stream",
     "text": [
      "DEBUG:urllib3.connectionpool:https://catalog.archives.gov:443 \"GET /OpaAPI/media/38547962/content/dc-metro/rg-026/559642/2017-01/storis-wmec-38-1957-logbooks/storis-wmec-38-1957-logbooks_0128.JPG HTTP/1.1\" 200 None\n"
     ]
    },
    {
     "name": "stdout",
     "output_type": "stream",
     "text": [
      "reply: 'HTTP/1.1 200 OK\\r\\n'\n",
      "header: Access-Control-Allow-Credentials: true\n",
      "header: Access-Control-Allow-Methods: DELETE, HEAD, GET, OPTION, POST, PUT\n",
      "header: Access-Control-Expose-Headers: JSESSIONID\n",
      "header: Access-Control-Max-Age: 3600\n",
      "header: BALANCER_NAME: (null)\n",
      "header: BALANCER_ROUTE_CHANGED: 1\n",
      "header: BALANCER_SESSION_ROUTE: (null)\n",
      "header: BALANCER_SESSION_STICKY: (null)\n",
      "header: BALANCER_WORKER_NAME: ajp://pa01.aws.nac.nara.gov:8009/OpaAPI\n",
      "header: BALANCER_WORKER_ROUTE: pa01\n",
      "header: Cache-Control: no-store, no-cache\n",
      "header: Content-Type: image/jpeg;charset=UTF-8\n",
      "header: Date: Tue, 17 Dec 2019 19:46:56 GMT\n",
      "header: hnweb: pw01\n",
      "header: Pragma: no-cache\n",
      "header: Server: Apache/2.4.6 (Red Hat)\n",
      "header: Strict-Transport-Security: max-age=31536000; includeSubDomains; preload\n",
      "header: transfer-encoding: chunked\n",
      "header: Connection: keep-alive\n"
     ]
    },
    {
     "name": "stderr",
     "output_type": "stream",
     "text": [
      "DEBUG:urllib3.connectionpool:Starting new HTTPS connection (1): catalog.archives.gov:443\n"
     ]
    },
    {
     "name": "stdout",
     "output_type": "stream",
     "text": [
      "send: b'GET /OpaAPI/media/38547962/content/dc-metro/rg-026/559642/2017-01/storis-wmec-38-1957-logbooks/storis-wmec-38-1957-logbooks_0129.JPG HTTP/1.1\\r\\nHost: catalog.archives.gov\\r\\nUser-Agent: python-requests/2.22.0\\r\\nAccept-Encoding: gzip, deflate\\r\\nAccept: */*\\r\\nConnection: keep-alive\\r\\n\\r\\n'\n"
     ]
    },
    {
     "name": "stderr",
     "output_type": "stream",
     "text": [
      "DEBUG:urllib3.connectionpool:https://catalog.archives.gov:443 \"GET /OpaAPI/media/38547962/content/dc-metro/rg-026/559642/2017-01/storis-wmec-38-1957-logbooks/storis-wmec-38-1957-logbooks_0129.JPG HTTP/1.1\" 200 None\n"
     ]
    },
    {
     "name": "stdout",
     "output_type": "stream",
     "text": [
      "reply: 'HTTP/1.1 200 OK\\r\\n'\n",
      "header: Access-Control-Allow-Credentials: true\n",
      "header: Access-Control-Allow-Methods: DELETE, HEAD, GET, OPTION, POST, PUT\n",
      "header: Access-Control-Expose-Headers: JSESSIONID\n",
      "header: Access-Control-Max-Age: 3600\n",
      "header: BALANCER_NAME: (null)\n",
      "header: BALANCER_ROUTE_CHANGED: 1\n",
      "header: BALANCER_SESSION_ROUTE: (null)\n",
      "header: BALANCER_SESSION_STICKY: (null)\n",
      "header: BALANCER_WORKER_NAME: ajp://pa01.aws.nac.nara.gov:8009/OpaAPI\n",
      "header: BALANCER_WORKER_ROUTE: pa01\n",
      "header: Cache-Control: no-store, no-cache\n",
      "header: Content-Type: image/jpeg;charset=UTF-8\n",
      "header: Date: Tue, 17 Dec 2019 19:46:57 GMT\n",
      "header: hnweb: pw04\n",
      "header: Pragma: no-cache\n",
      "header: Server: Apache\n",
      "header: Strict-Transport-Security: max-age=31536000; includeSubDomains; preload\n",
      "header: transfer-encoding: chunked\n",
      "header: Connection: keep-alive\n"
     ]
    },
    {
     "name": "stderr",
     "output_type": "stream",
     "text": [
      "DEBUG:urllib3.connectionpool:Starting new HTTPS connection (1): catalog.archives.gov:443\n"
     ]
    },
    {
     "name": "stdout",
     "output_type": "stream",
     "text": [
      "send: b'GET /OpaAPI/media/38547962/content/dc-metro/rg-026/559642/2017-01/storis-wmec-38-1957-logbooks/storis-wmec-38-1957-logbooks_0130.JPG HTTP/1.1\\r\\nHost: catalog.archives.gov\\r\\nUser-Agent: python-requests/2.22.0\\r\\nAccept-Encoding: gzip, deflate\\r\\nAccept: */*\\r\\nConnection: keep-alive\\r\\n\\r\\n'\n"
     ]
    },
    {
     "name": "stderr",
     "output_type": "stream",
     "text": [
      "DEBUG:urllib3.connectionpool:https://catalog.archives.gov:443 \"GET /OpaAPI/media/38547962/content/dc-metro/rg-026/559642/2017-01/storis-wmec-38-1957-logbooks/storis-wmec-38-1957-logbooks_0130.JPG HTTP/1.1\" 200 None\n"
     ]
    },
    {
     "name": "stdout",
     "output_type": "stream",
     "text": [
      "reply: 'HTTP/1.1 200 OK\\r\\n'\n",
      "header: Access-Control-Allow-Credentials: true\n",
      "header: Access-Control-Allow-Methods: DELETE, HEAD, GET, OPTION, POST, PUT\n",
      "header: Access-Control-Expose-Headers: JSESSIONID\n",
      "header: Access-Control-Max-Age: 3600\n",
      "header: BALANCER_NAME: (null)\n",
      "header: BALANCER_ROUTE_CHANGED: 1\n",
      "header: BALANCER_SESSION_ROUTE: (null)\n",
      "header: BALANCER_SESSION_STICKY: (null)\n",
      "header: BALANCER_WORKER_NAME: ajp://pa01.aws.nac.nara.gov:8009/OpaAPI\n",
      "header: BALANCER_WORKER_ROUTE: pa01\n",
      "header: Cache-Control: no-store, no-cache\n",
      "header: Content-Type: image/jpeg;charset=UTF-8\n",
      "header: Date: Tue, 17 Dec 2019 19:46:57 GMT\n",
      "header: hnweb: pw02\n",
      "header: Pragma: no-cache\n",
      "header: Server: Apache\n",
      "header: Strict-Transport-Security: max-age=31536000; includeSubDomains; preload\n",
      "header: transfer-encoding: chunked\n",
      "header: Connection: keep-alive\n"
     ]
    },
    {
     "name": "stderr",
     "output_type": "stream",
     "text": [
      "DEBUG:urllib3.connectionpool:Starting new HTTPS connection (1): catalog.archives.gov:443\n"
     ]
    },
    {
     "name": "stdout",
     "output_type": "stream",
     "text": [
      "send: b'GET /OpaAPI/media/38547962/content/dc-metro/rg-026/559642/2017-01/storis-wmec-38-1957-logbooks/storis-wmec-38-1957-logbooks_0131.JPG HTTP/1.1\\r\\nHost: catalog.archives.gov\\r\\nUser-Agent: python-requests/2.22.0\\r\\nAccept-Encoding: gzip, deflate\\r\\nAccept: */*\\r\\nConnection: keep-alive\\r\\n\\r\\n'\n"
     ]
    },
    {
     "name": "stderr",
     "output_type": "stream",
     "text": [
      "DEBUG:urllib3.connectionpool:https://catalog.archives.gov:443 \"GET /OpaAPI/media/38547962/content/dc-metro/rg-026/559642/2017-01/storis-wmec-38-1957-logbooks/storis-wmec-38-1957-logbooks_0131.JPG HTTP/1.1\" 200 None\n"
     ]
    },
    {
     "name": "stdout",
     "output_type": "stream",
     "text": [
      "reply: 'HTTP/1.1 200 OK\\r\\n'\n",
      "header: Access-Control-Allow-Credentials: true\n",
      "header: Access-Control-Allow-Methods: DELETE, HEAD, GET, OPTION, POST, PUT\n",
      "header: Access-Control-Expose-Headers: JSESSIONID\n",
      "header: Access-Control-Max-Age: 3600\n",
      "header: BALANCER_NAME: (null)\n",
      "header: BALANCER_ROUTE_CHANGED: 1\n",
      "header: BALANCER_SESSION_ROUTE: (null)\n",
      "header: BALANCER_SESSION_STICKY: (null)\n",
      "header: BALANCER_WORKER_NAME: ajp://pa01.aws.nac.nara.gov:8009/OpaAPI\n",
      "header: BALANCER_WORKER_ROUTE: pa01\n",
      "header: Cache-Control: no-store, no-cache\n",
      "header: Content-Type: image/jpeg;charset=UTF-8\n",
      "header: Date: Tue, 17 Dec 2019 19:46:58 GMT\n",
      "header: hnweb: pw03\n",
      "header: Pragma: no-cache\n",
      "header: Server: Apache/2.4.6 (Red Hat)\n",
      "header: Strict-Transport-Security: max-age=31536000; includeSubDomains; preload\n",
      "header: transfer-encoding: chunked\n",
      "header: Connection: keep-alive\n"
     ]
    },
    {
     "name": "stderr",
     "output_type": "stream",
     "text": [
      "DEBUG:urllib3.connectionpool:Starting new HTTPS connection (1): catalog.archives.gov:443\n"
     ]
    },
    {
     "name": "stdout",
     "output_type": "stream",
     "text": [
      "send: b'GET /OpaAPI/media/38547962/content/dc-metro/rg-026/559642/2017-01/storis-wmec-38-1957-logbooks/storis-wmec-38-1957-logbooks_0132.JPG HTTP/1.1\\r\\nHost: catalog.archives.gov\\r\\nUser-Agent: python-requests/2.22.0\\r\\nAccept-Encoding: gzip, deflate\\r\\nAccept: */*\\r\\nConnection: keep-alive\\r\\n\\r\\n'\n"
     ]
    },
    {
     "name": "stderr",
     "output_type": "stream",
     "text": [
      "DEBUG:urllib3.connectionpool:https://catalog.archives.gov:443 \"GET /OpaAPI/media/38547962/content/dc-metro/rg-026/559642/2017-01/storis-wmec-38-1957-logbooks/storis-wmec-38-1957-logbooks_0132.JPG HTTP/1.1\" 200 None\n"
     ]
    },
    {
     "name": "stdout",
     "output_type": "stream",
     "text": [
      "reply: 'HTTP/1.1 200 OK\\r\\n'\n",
      "header: Access-Control-Allow-Credentials: true\n",
      "header: Access-Control-Allow-Methods: DELETE, HEAD, GET, OPTION, POST, PUT\n",
      "header: Access-Control-Expose-Headers: JSESSIONID\n",
      "header: Access-Control-Max-Age: 3600\n",
      "header: BALANCER_NAME: (null)\n",
      "header: BALANCER_ROUTE_CHANGED: 1\n",
      "header: BALANCER_SESSION_ROUTE: (null)\n",
      "header: BALANCER_SESSION_STICKY: (null)\n",
      "header: BALANCER_WORKER_NAME: ajp://pa01.aws.nac.nara.gov:8009/OpaAPI\n",
      "header: BALANCER_WORKER_ROUTE: pa01\n",
      "header: Cache-Control: no-store, no-cache\n",
      "header: Content-Type: image/jpeg;charset=UTF-8\n",
      "header: Date: Tue, 17 Dec 2019 19:46:59 GMT\n",
      "header: hnweb: pw04\n",
      "header: Pragma: no-cache\n",
      "header: Server: Apache\n",
      "header: Strict-Transport-Security: max-age=31536000; includeSubDomains; preload\n",
      "header: transfer-encoding: chunked\n",
      "header: Connection: keep-alive\n"
     ]
    },
    {
     "name": "stderr",
     "output_type": "stream",
     "text": [
      "DEBUG:urllib3.connectionpool:Starting new HTTPS connection (1): catalog.archives.gov:443\n"
     ]
    },
    {
     "name": "stdout",
     "output_type": "stream",
     "text": [
      "send: b'GET /OpaAPI/media/38547962/content/dc-metro/rg-026/559642/2017-01/storis-wmec-38-1957-logbooks/storis-wmec-38-1957-logbooks_0133.JPG HTTP/1.1\\r\\nHost: catalog.archives.gov\\r\\nUser-Agent: python-requests/2.22.0\\r\\nAccept-Encoding: gzip, deflate\\r\\nAccept: */*\\r\\nConnection: keep-alive\\r\\n\\r\\n'\n"
     ]
    },
    {
     "name": "stderr",
     "output_type": "stream",
     "text": [
      "DEBUG:urllib3.connectionpool:https://catalog.archives.gov:443 \"GET /OpaAPI/media/38547962/content/dc-metro/rg-026/559642/2017-01/storis-wmec-38-1957-logbooks/storis-wmec-38-1957-logbooks_0133.JPG HTTP/1.1\" 200 None\n"
     ]
    },
    {
     "name": "stdout",
     "output_type": "stream",
     "text": [
      "reply: 'HTTP/1.1 200 OK\\r\\n'\n",
      "header: Access-Control-Allow-Credentials: true\n",
      "header: Access-Control-Allow-Methods: DELETE, HEAD, GET, OPTION, POST, PUT\n",
      "header: Access-Control-Expose-Headers: JSESSIONID\n",
      "header: Access-Control-Max-Age: 3600\n",
      "header: BALANCER_NAME: (null)\n",
      "header: BALANCER_ROUTE_CHANGED: 1\n",
      "header: BALANCER_SESSION_ROUTE: (null)\n",
      "header: BALANCER_SESSION_STICKY: (null)\n",
      "header: BALANCER_WORKER_NAME: ajp://pa01.aws.nac.nara.gov:8009/OpaAPI\n",
      "header: BALANCER_WORKER_ROUTE: pa01\n",
      "header: Cache-Control: no-store, no-cache\n",
      "header: Content-Type: image/jpeg;charset=UTF-8\n",
      "header: Date: Tue, 17 Dec 2019 19:47:00 GMT\n",
      "header: hnweb: pw01\n",
      "header: Pragma: no-cache\n",
      "header: Server: Apache/2.4.6 (Red Hat)\n",
      "header: Strict-Transport-Security: max-age=31536000; includeSubDomains; preload\n",
      "header: transfer-encoding: chunked\n",
      "header: Connection: keep-alive\n"
     ]
    },
    {
     "name": "stderr",
     "output_type": "stream",
     "text": [
      "DEBUG:urllib3.connectionpool:Starting new HTTPS connection (1): catalog.archives.gov:443\n"
     ]
    },
    {
     "name": "stdout",
     "output_type": "stream",
     "text": [
      "send: b'GET /OpaAPI/media/38547962/content/dc-metro/rg-026/559642/2017-01/storis-wmec-38-1957-logbooks/storis-wmec-38-1957-logbooks_0134.JPG HTTP/1.1\\r\\nHost: catalog.archives.gov\\r\\nUser-Agent: python-requests/2.22.0\\r\\nAccept-Encoding: gzip, deflate\\r\\nAccept: */*\\r\\nConnection: keep-alive\\r\\n\\r\\n'\n"
     ]
    },
    {
     "name": "stderr",
     "output_type": "stream",
     "text": [
      "DEBUG:urllib3.connectionpool:https://catalog.archives.gov:443 \"GET /OpaAPI/media/38547962/content/dc-metro/rg-026/559642/2017-01/storis-wmec-38-1957-logbooks/storis-wmec-38-1957-logbooks_0134.JPG HTTP/1.1\" 200 None\n"
     ]
    },
    {
     "name": "stdout",
     "output_type": "stream",
     "text": [
      "reply: 'HTTP/1.1 200 OK\\r\\n'\n",
      "header: Access-Control-Allow-Credentials: true\n",
      "header: Access-Control-Allow-Methods: DELETE, HEAD, GET, OPTION, POST, PUT\n",
      "header: Access-Control-Expose-Headers: JSESSIONID\n",
      "header: Access-Control-Max-Age: 3600\n",
      "header: BALANCER_NAME: (null)\n",
      "header: BALANCER_ROUTE_CHANGED: 1\n",
      "header: BALANCER_SESSION_ROUTE: (null)\n",
      "header: BALANCER_SESSION_STICKY: (null)\n",
      "header: BALANCER_WORKER_NAME: ajp://pa02.aws.nac.nara.gov:8009/OpaAPI\n",
      "header: BALANCER_WORKER_ROUTE: pa02\n",
      "header: Cache-Control: no-store, no-cache\n",
      "header: Content-Type: image/jpeg;charset=UTF-8\n",
      "header: Date: Tue, 17 Dec 2019 19:47:00 GMT\n",
      "header: hnweb: pw01\n",
      "header: Pragma: no-cache\n",
      "header: Server: Apache/2.4.6 (Red Hat)\n",
      "header: Strict-Transport-Security: max-age=31536000; includeSubDomains; preload\n",
      "header: transfer-encoding: chunked\n",
      "header: Connection: keep-alive\n"
     ]
    },
    {
     "name": "stderr",
     "output_type": "stream",
     "text": [
      "DEBUG:urllib3.connectionpool:Starting new HTTPS connection (1): catalog.archives.gov:443\n"
     ]
    },
    {
     "name": "stdout",
     "output_type": "stream",
     "text": [
      "send: b'GET /OpaAPI/media/38547962/content/dc-metro/rg-026/559642/2017-01/storis-wmec-38-1957-logbooks/storis-wmec-38-1957-logbooks_0135.JPG HTTP/1.1\\r\\nHost: catalog.archives.gov\\r\\nUser-Agent: python-requests/2.22.0\\r\\nAccept-Encoding: gzip, deflate\\r\\nAccept: */*\\r\\nConnection: keep-alive\\r\\n\\r\\n'\n"
     ]
    },
    {
     "name": "stderr",
     "output_type": "stream",
     "text": [
      "DEBUG:urllib3.connectionpool:https://catalog.archives.gov:443 \"GET /OpaAPI/media/38547962/content/dc-metro/rg-026/559642/2017-01/storis-wmec-38-1957-logbooks/storis-wmec-38-1957-logbooks_0135.JPG HTTP/1.1\" 200 None\n"
     ]
    },
    {
     "name": "stdout",
     "output_type": "stream",
     "text": [
      "reply: 'HTTP/1.1 200 OK\\r\\n'\n",
      "header: Access-Control-Allow-Credentials: true\n",
      "header: Access-Control-Allow-Methods: DELETE, HEAD, GET, OPTION, POST, PUT\n",
      "header: Access-Control-Expose-Headers: JSESSIONID\n",
      "header: Access-Control-Max-Age: 3600\n",
      "header: BALANCER_NAME: (null)\n",
      "header: BALANCER_ROUTE_CHANGED: 1\n",
      "header: BALANCER_SESSION_ROUTE: (null)\n",
      "header: BALANCER_SESSION_STICKY: (null)\n",
      "header: BALANCER_WORKER_NAME: ajp://pa01.aws.nac.nara.gov:8009/OpaAPI\n",
      "header: BALANCER_WORKER_ROUTE: pa01\n",
      "header: Cache-Control: no-store, no-cache\n",
      "header: Content-Type: image/jpeg;charset=UTF-8\n",
      "header: Date: Tue, 17 Dec 2019 19:47:01 GMT\n",
      "header: hnweb: pw03\n",
      "header: Pragma: no-cache\n",
      "header: Server: Apache/2.4.6 (Red Hat)\n",
      "header: Strict-Transport-Security: max-age=31536000; includeSubDomains; preload\n",
      "header: transfer-encoding: chunked\n",
      "header: Connection: keep-alive\n"
     ]
    },
    {
     "name": "stderr",
     "output_type": "stream",
     "text": [
      "DEBUG:urllib3.connectionpool:Starting new HTTPS connection (1): catalog.archives.gov:443\n"
     ]
    },
    {
     "name": "stdout",
     "output_type": "stream",
     "text": [
      "send: b'GET /OpaAPI/media/38547962/content/dc-metro/rg-026/559642/2017-01/storis-wmec-38-1957-logbooks/storis-wmec-38-1957-logbooks_0136.JPG HTTP/1.1\\r\\nHost: catalog.archives.gov\\r\\nUser-Agent: python-requests/2.22.0\\r\\nAccept-Encoding: gzip, deflate\\r\\nAccept: */*\\r\\nConnection: keep-alive\\r\\n\\r\\n'\n"
     ]
    },
    {
     "name": "stderr",
     "output_type": "stream",
     "text": [
      "DEBUG:urllib3.connectionpool:https://catalog.archives.gov:443 \"GET /OpaAPI/media/38547962/content/dc-metro/rg-026/559642/2017-01/storis-wmec-38-1957-logbooks/storis-wmec-38-1957-logbooks_0136.JPG HTTP/1.1\" 200 None\n"
     ]
    },
    {
     "name": "stdout",
     "output_type": "stream",
     "text": [
      "reply: 'HTTP/1.1 200 OK\\r\\n'\n",
      "header: Access-Control-Allow-Credentials: true\n",
      "header: Access-Control-Allow-Methods: DELETE, HEAD, GET, OPTION, POST, PUT\n",
      "header: Access-Control-Expose-Headers: JSESSIONID\n",
      "header: Access-Control-Max-Age: 3600\n",
      "header: BALANCER_NAME: (null)\n",
      "header: BALANCER_ROUTE_CHANGED: 1\n",
      "header: BALANCER_SESSION_ROUTE: (null)\n",
      "header: BALANCER_SESSION_STICKY: (null)\n",
      "header: BALANCER_WORKER_NAME: ajp://pa01.aws.nac.nara.gov:8009/OpaAPI\n",
      "header: BALANCER_WORKER_ROUTE: pa01\n",
      "header: Cache-Control: no-store, no-cache\n",
      "header: Content-Type: image/jpeg;charset=UTF-8\n",
      "header: Date: Tue, 17 Dec 2019 19:47:02 GMT\n",
      "header: hnweb: pw02\n",
      "header: Pragma: no-cache\n",
      "header: Server: Apache\n",
      "header: Strict-Transport-Security: max-age=31536000; includeSubDomains; preload\n",
      "header: transfer-encoding: chunked\n",
      "header: Connection: keep-alive\n"
     ]
    },
    {
     "name": "stderr",
     "output_type": "stream",
     "text": [
      "DEBUG:urllib3.connectionpool:Starting new HTTPS connection (1): catalog.archives.gov:443\n"
     ]
    },
    {
     "name": "stdout",
     "output_type": "stream",
     "text": [
      "send: b'GET /OpaAPI/media/38547962/content/dc-metro/rg-026/559642/2017-01/storis-wmec-38-1957-logbooks/storis-wmec-38-1957-logbooks_0137.JPG HTTP/1.1\\r\\nHost: catalog.archives.gov\\r\\nUser-Agent: python-requests/2.22.0\\r\\nAccept-Encoding: gzip, deflate\\r\\nAccept: */*\\r\\nConnection: keep-alive\\r\\n\\r\\n'\n"
     ]
    },
    {
     "name": "stderr",
     "output_type": "stream",
     "text": [
      "DEBUG:urllib3.connectionpool:https://catalog.archives.gov:443 \"GET /OpaAPI/media/38547962/content/dc-metro/rg-026/559642/2017-01/storis-wmec-38-1957-logbooks/storis-wmec-38-1957-logbooks_0137.JPG HTTP/1.1\" 200 None\n"
     ]
    },
    {
     "name": "stdout",
     "output_type": "stream",
     "text": [
      "reply: 'HTTP/1.1 200 OK\\r\\n'\n",
      "header: Access-Control-Allow-Credentials: true\n",
      "header: Access-Control-Allow-Methods: DELETE, HEAD, GET, OPTION, POST, PUT\n",
      "header: Access-Control-Expose-Headers: JSESSIONID\n",
      "header: Access-Control-Max-Age: 3600\n",
      "header: BALANCER_NAME: (null)\n",
      "header: BALANCER_ROUTE_CHANGED: 1\n",
      "header: BALANCER_SESSION_ROUTE: (null)\n",
      "header: BALANCER_SESSION_STICKY: (null)\n",
      "header: BALANCER_WORKER_NAME: ajp://pa01.aws.nac.nara.gov:8009/OpaAPI\n",
      "header: BALANCER_WORKER_ROUTE: pa01\n",
      "header: Cache-Control: no-store, no-cache\n",
      "header: Content-Type: image/jpeg;charset=UTF-8\n",
      "header: Date: Tue, 17 Dec 2019 19:47:03 GMT\n",
      "header: hnweb: pw04\n",
      "header: Pragma: no-cache\n",
      "header: Server: Apache\n",
      "header: Strict-Transport-Security: max-age=31536000; includeSubDomains; preload\n",
      "header: transfer-encoding: chunked\n",
      "header: Connection: keep-alive\n"
     ]
    },
    {
     "name": "stderr",
     "output_type": "stream",
     "text": [
      "DEBUG:urllib3.connectionpool:Starting new HTTPS connection (1): catalog.archives.gov:443\n"
     ]
    },
    {
     "name": "stdout",
     "output_type": "stream",
     "text": [
      "send: b'GET /OpaAPI/media/38547962/content/dc-metro/rg-026/559642/2017-01/storis-wmec-38-1957-logbooks/storis-wmec-38-1957-logbooks_0138.JPG HTTP/1.1\\r\\nHost: catalog.archives.gov\\r\\nUser-Agent: python-requests/2.22.0\\r\\nAccept-Encoding: gzip, deflate\\r\\nAccept: */*\\r\\nConnection: keep-alive\\r\\n\\r\\n'\n"
     ]
    },
    {
     "name": "stderr",
     "output_type": "stream",
     "text": [
      "DEBUG:urllib3.connectionpool:https://catalog.archives.gov:443 \"GET /OpaAPI/media/38547962/content/dc-metro/rg-026/559642/2017-01/storis-wmec-38-1957-logbooks/storis-wmec-38-1957-logbooks_0138.JPG HTTP/1.1\" 200 None\n"
     ]
    },
    {
     "name": "stdout",
     "output_type": "stream",
     "text": [
      "reply: 'HTTP/1.1 200 OK\\r\\n'\n",
      "header: Access-Control-Allow-Credentials: true\n",
      "header: Access-Control-Allow-Methods: DELETE, HEAD, GET, OPTION, POST, PUT\n",
      "header: Access-Control-Expose-Headers: JSESSIONID\n",
      "header: Access-Control-Max-Age: 3600\n",
      "header: BALANCER_NAME: (null)\n",
      "header: BALANCER_ROUTE_CHANGED: 1\n",
      "header: BALANCER_SESSION_ROUTE: (null)\n",
      "header: BALANCER_SESSION_STICKY: (null)\n",
      "header: BALANCER_WORKER_NAME: ajp://pa02.aws.nac.nara.gov:8009/OpaAPI\n",
      "header: BALANCER_WORKER_ROUTE: pa02\n",
      "header: Cache-Control: no-store, no-cache\n",
      "header: Content-Type: image/jpeg;charset=UTF-8\n",
      "header: Date: Tue, 17 Dec 2019 19:47:03 GMT\n",
      "header: hnweb: pw04\n",
      "header: Pragma: no-cache\n",
      "header: Server: Apache\n",
      "header: Strict-Transport-Security: max-age=31536000; includeSubDomains; preload\n",
      "header: transfer-encoding: chunked\n",
      "header: Connection: keep-alive\n"
     ]
    },
    {
     "name": "stderr",
     "output_type": "stream",
     "text": [
      "DEBUG:urllib3.connectionpool:Starting new HTTPS connection (1): catalog.archives.gov:443\n"
     ]
    },
    {
     "name": "stdout",
     "output_type": "stream",
     "text": [
      "send: b'GET /OpaAPI/media/38547962/content/dc-metro/rg-026/559642/2017-01/storis-wmec-38-1957-logbooks/storis-wmec-38-1957-logbooks_0139.JPG HTTP/1.1\\r\\nHost: catalog.archives.gov\\r\\nUser-Agent: python-requests/2.22.0\\r\\nAccept-Encoding: gzip, deflate\\r\\nAccept: */*\\r\\nConnection: keep-alive\\r\\n\\r\\n'\n"
     ]
    },
    {
     "name": "stderr",
     "output_type": "stream",
     "text": [
      "DEBUG:urllib3.connectionpool:https://catalog.archives.gov:443 \"GET /OpaAPI/media/38547962/content/dc-metro/rg-026/559642/2017-01/storis-wmec-38-1957-logbooks/storis-wmec-38-1957-logbooks_0139.JPG HTTP/1.1\" 200 None\n"
     ]
    },
    {
     "name": "stdout",
     "output_type": "stream",
     "text": [
      "reply: 'HTTP/1.1 200 OK\\r\\n'\n",
      "header: Access-Control-Allow-Credentials: true\n",
      "header: Access-Control-Allow-Methods: DELETE, HEAD, GET, OPTION, POST, PUT\n",
      "header: Access-Control-Expose-Headers: JSESSIONID\n",
      "header: Access-Control-Max-Age: 3600\n",
      "header: BALANCER_NAME: (null)\n",
      "header: BALANCER_ROUTE_CHANGED: 1\n",
      "header: BALANCER_SESSION_ROUTE: (null)\n",
      "header: BALANCER_SESSION_STICKY: (null)\n",
      "header: BALANCER_WORKER_NAME: ajp://pa01.aws.nac.nara.gov:8009/OpaAPI\n",
      "header: BALANCER_WORKER_ROUTE: pa01\n",
      "header: Cache-Control: no-store, no-cache\n",
      "header: Content-Type: image/jpeg;charset=UTF-8\n",
      "header: Date: Tue, 17 Dec 2019 19:47:04 GMT\n",
      "header: hnweb: pw04\n",
      "header: Pragma: no-cache\n",
      "header: Server: Apache\n",
      "header: Strict-Transport-Security: max-age=31536000; includeSubDomains; preload\n",
      "header: transfer-encoding: chunked\n",
      "header: Connection: keep-alive\n"
     ]
    },
    {
     "name": "stderr",
     "output_type": "stream",
     "text": [
      "DEBUG:urllib3.connectionpool:Starting new HTTPS connection (1): catalog.archives.gov:443\n"
     ]
    },
    {
     "name": "stdout",
     "output_type": "stream",
     "text": [
      "send: b'GET /OpaAPI/media/38547962/content/dc-metro/rg-026/559642/2017-01/storis-wmec-38-1957-logbooks/storis-wmec-38-1957-logbooks_0140.JPG HTTP/1.1\\r\\nHost: catalog.archives.gov\\r\\nUser-Agent: python-requests/2.22.0\\r\\nAccept-Encoding: gzip, deflate\\r\\nAccept: */*\\r\\nConnection: keep-alive\\r\\n\\r\\n'\n"
     ]
    },
    {
     "name": "stderr",
     "output_type": "stream",
     "text": [
      "DEBUG:urllib3.connectionpool:https://catalog.archives.gov:443 \"GET /OpaAPI/media/38547962/content/dc-metro/rg-026/559642/2017-01/storis-wmec-38-1957-logbooks/storis-wmec-38-1957-logbooks_0140.JPG HTTP/1.1\" 200 None\n"
     ]
    },
    {
     "name": "stdout",
     "output_type": "stream",
     "text": [
      "reply: 'HTTP/1.1 200 OK\\r\\n'\n",
      "header: Access-Control-Allow-Credentials: true\n",
      "header: Access-Control-Allow-Methods: DELETE, HEAD, GET, OPTION, POST, PUT\n",
      "header: Access-Control-Expose-Headers: JSESSIONID\n",
      "header: Access-Control-Max-Age: 3600\n",
      "header: BALANCER_NAME: (null)\n",
      "header: BALANCER_ROUTE_CHANGED: 1\n",
      "header: BALANCER_SESSION_ROUTE: (null)\n",
      "header: BALANCER_SESSION_STICKY: (null)\n",
      "header: BALANCER_WORKER_NAME: ajp://pa02.aws.nac.nara.gov:8009/OpaAPI\n",
      "header: BALANCER_WORKER_ROUTE: pa02\n",
      "header: Cache-Control: no-store, no-cache\n",
      "header: Content-Type: image/jpeg;charset=UTF-8\n",
      "header: Date: Tue, 17 Dec 2019 19:47:05 GMT\n",
      "header: hnweb: pw01\n",
      "header: Pragma: no-cache\n",
      "header: Server: Apache/2.4.6 (Red Hat)\n",
      "header: Strict-Transport-Security: max-age=31536000; includeSubDomains; preload\n",
      "header: transfer-encoding: chunked\n",
      "header: Connection: keep-alive\n"
     ]
    },
    {
     "name": "stderr",
     "output_type": "stream",
     "text": [
      "DEBUG:urllib3.connectionpool:Starting new HTTPS connection (1): catalog.archives.gov:443\n"
     ]
    },
    {
     "name": "stdout",
     "output_type": "stream",
     "text": [
      "send: b'GET /OpaAPI/media/38547962/content/dc-metro/rg-026/559642/2017-01/storis-wmec-38-1957-logbooks/storis-wmec-38-1957-logbooks_0141.JPG HTTP/1.1\\r\\nHost: catalog.archives.gov\\r\\nUser-Agent: python-requests/2.22.0\\r\\nAccept-Encoding: gzip, deflate\\r\\nAccept: */*\\r\\nConnection: keep-alive\\r\\n\\r\\n'\n"
     ]
    },
    {
     "name": "stderr",
     "output_type": "stream",
     "text": [
      "DEBUG:urllib3.connectionpool:https://catalog.archives.gov:443 \"GET /OpaAPI/media/38547962/content/dc-metro/rg-026/559642/2017-01/storis-wmec-38-1957-logbooks/storis-wmec-38-1957-logbooks_0141.JPG HTTP/1.1\" 200 None\n"
     ]
    },
    {
     "name": "stdout",
     "output_type": "stream",
     "text": [
      "reply: 'HTTP/1.1 200 OK\\r\\n'\n",
      "header: Access-Control-Allow-Credentials: true\n",
      "header: Access-Control-Allow-Methods: DELETE, HEAD, GET, OPTION, POST, PUT\n",
      "header: Access-Control-Expose-Headers: JSESSIONID\n",
      "header: Access-Control-Max-Age: 3600\n",
      "header: BALANCER_NAME: (null)\n",
      "header: BALANCER_ROUTE_CHANGED: 1\n",
      "header: BALANCER_SESSION_ROUTE: (null)\n",
      "header: BALANCER_SESSION_STICKY: (null)\n",
      "header: BALANCER_WORKER_NAME: ajp://pa01.aws.nac.nara.gov:8009/OpaAPI\n",
      "header: BALANCER_WORKER_ROUTE: pa01\n",
      "header: Cache-Control: no-store, no-cache\n",
      "header: Content-Type: image/jpeg;charset=UTF-8\n",
      "header: Date: Tue, 17 Dec 2019 19:47:05 GMT\n",
      "header: hnweb: pw01\n",
      "header: Pragma: no-cache\n",
      "header: Server: Apache/2.4.6 (Red Hat)\n",
      "header: Strict-Transport-Security: max-age=31536000; includeSubDomains; preload\n",
      "header: transfer-encoding: chunked\n",
      "header: Connection: keep-alive\n"
     ]
    },
    {
     "name": "stderr",
     "output_type": "stream",
     "text": [
      "DEBUG:urllib3.connectionpool:Starting new HTTPS connection (1): catalog.archives.gov:443\n"
     ]
    },
    {
     "name": "stdout",
     "output_type": "stream",
     "text": [
      "send: b'GET /OpaAPI/media/38547962/content/dc-metro/rg-026/559642/2017-01/storis-wmec-38-1957-logbooks/storis-wmec-38-1957-logbooks_0142.JPG HTTP/1.1\\r\\nHost: catalog.archives.gov\\r\\nUser-Agent: python-requests/2.22.0\\r\\nAccept-Encoding: gzip, deflate\\r\\nAccept: */*\\r\\nConnection: keep-alive\\r\\n\\r\\n'\n"
     ]
    },
    {
     "name": "stderr",
     "output_type": "stream",
     "text": [
      "DEBUG:urllib3.connectionpool:https://catalog.archives.gov:443 \"GET /OpaAPI/media/38547962/content/dc-metro/rg-026/559642/2017-01/storis-wmec-38-1957-logbooks/storis-wmec-38-1957-logbooks_0142.JPG HTTP/1.1\" 200 None\n"
     ]
    },
    {
     "name": "stdout",
     "output_type": "stream",
     "text": [
      "reply: 'HTTP/1.1 200 OK\\r\\n'\n",
      "header: Access-Control-Allow-Credentials: true\n",
      "header: Access-Control-Allow-Methods: DELETE, HEAD, GET, OPTION, POST, PUT\n",
      "header: Access-Control-Expose-Headers: JSESSIONID\n",
      "header: Access-Control-Max-Age: 3600\n",
      "header: BALANCER_NAME: (null)\n",
      "header: BALANCER_ROUTE_CHANGED: 1\n",
      "header: BALANCER_SESSION_ROUTE: (null)\n",
      "header: BALANCER_SESSION_STICKY: (null)\n",
      "header: BALANCER_WORKER_NAME: ajp://pa02.aws.nac.nara.gov:8009/OpaAPI\n",
      "header: BALANCER_WORKER_ROUTE: pa02\n",
      "header: Cache-Control: no-store, no-cache\n",
      "header: Content-Type: image/jpeg;charset=UTF-8\n",
      "header: Date: Tue, 17 Dec 2019 19:47:06 GMT\n",
      "header: hnweb: pw01\n",
      "header: Pragma: no-cache\n",
      "header: Server: Apache/2.4.6 (Red Hat)\n",
      "header: Strict-Transport-Security: max-age=31536000; includeSubDomains; preload\n",
      "header: transfer-encoding: chunked\n",
      "header: Connection: keep-alive\n"
     ]
    },
    {
     "name": "stderr",
     "output_type": "stream",
     "text": [
      "DEBUG:urllib3.connectionpool:Starting new HTTPS connection (1): catalog.archives.gov:443\n"
     ]
    },
    {
     "name": "stdout",
     "output_type": "stream",
     "text": [
      "send: b'GET /OpaAPI/media/38547962/content/dc-metro/rg-026/559642/2017-01/storis-wmec-38-1957-logbooks/storis-wmec-38-1957-logbooks_0143.JPG HTTP/1.1\\r\\nHost: catalog.archives.gov\\r\\nUser-Agent: python-requests/2.22.0\\r\\nAccept-Encoding: gzip, deflate\\r\\nAccept: */*\\r\\nConnection: keep-alive\\r\\n\\r\\n'\n"
     ]
    },
    {
     "name": "stderr",
     "output_type": "stream",
     "text": [
      "DEBUG:urllib3.connectionpool:https://catalog.archives.gov:443 \"GET /OpaAPI/media/38547962/content/dc-metro/rg-026/559642/2017-01/storis-wmec-38-1957-logbooks/storis-wmec-38-1957-logbooks_0143.JPG HTTP/1.1\" 200 None\n"
     ]
    },
    {
     "name": "stdout",
     "output_type": "stream",
     "text": [
      "reply: 'HTTP/1.1 200 OK\\r\\n'\n",
      "header: Access-Control-Allow-Credentials: true\n",
      "header: Access-Control-Allow-Methods: DELETE, HEAD, GET, OPTION, POST, PUT\n",
      "header: Access-Control-Expose-Headers: JSESSIONID\n",
      "header: Access-Control-Max-Age: 3600\n",
      "header: BALANCER_NAME: (null)\n",
      "header: BALANCER_ROUTE_CHANGED: 1\n",
      "header: BALANCER_SESSION_ROUTE: (null)\n",
      "header: BALANCER_SESSION_STICKY: (null)\n",
      "header: BALANCER_WORKER_NAME: ajp://pa02.aws.nac.nara.gov:8009/OpaAPI\n",
      "header: BALANCER_WORKER_ROUTE: pa02\n",
      "header: Cache-Control: no-store, no-cache\n",
      "header: Content-Type: image/jpeg;charset=UTF-8\n",
      "header: Date: Tue, 17 Dec 2019 19:47:07 GMT\n",
      "header: hnweb: pw03\n",
      "header: Pragma: no-cache\n",
      "header: Server: Apache/2.4.6 (Red Hat)\n",
      "header: Strict-Transport-Security: max-age=31536000; includeSubDomains; preload\n",
      "header: transfer-encoding: chunked\n",
      "header: Connection: keep-alive\n"
     ]
    },
    {
     "name": "stderr",
     "output_type": "stream",
     "text": [
      "DEBUG:urllib3.connectionpool:Starting new HTTPS connection (1): catalog.archives.gov:443\n"
     ]
    },
    {
     "name": "stdout",
     "output_type": "stream",
     "text": [
      "send: b'GET /OpaAPI/media/38547962/content/dc-metro/rg-026/559642/2017-01/storis-wmec-38-1957-logbooks/storis-wmec-38-1957-logbooks_0144.JPG HTTP/1.1\\r\\nHost: catalog.archives.gov\\r\\nUser-Agent: python-requests/2.22.0\\r\\nAccept-Encoding: gzip, deflate\\r\\nAccept: */*\\r\\nConnection: keep-alive\\r\\n\\r\\n'\n"
     ]
    },
    {
     "name": "stderr",
     "output_type": "stream",
     "text": [
      "DEBUG:urllib3.connectionpool:https://catalog.archives.gov:443 \"GET /OpaAPI/media/38547962/content/dc-metro/rg-026/559642/2017-01/storis-wmec-38-1957-logbooks/storis-wmec-38-1957-logbooks_0144.JPG HTTP/1.1\" 200 None\n"
     ]
    },
    {
     "name": "stdout",
     "output_type": "stream",
     "text": [
      "reply: 'HTTP/1.1 200 OK\\r\\n'\n",
      "header: Access-Control-Allow-Credentials: true\n",
      "header: Access-Control-Allow-Methods: DELETE, HEAD, GET, OPTION, POST, PUT\n",
      "header: Access-Control-Expose-Headers: JSESSIONID\n",
      "header: Access-Control-Max-Age: 3600\n",
      "header: BALANCER_NAME: (null)\n",
      "header: BALANCER_ROUTE_CHANGED: 1\n",
      "header: BALANCER_SESSION_ROUTE: (null)\n",
      "header: BALANCER_SESSION_STICKY: (null)\n",
      "header: BALANCER_WORKER_NAME: ajp://pa02.aws.nac.nara.gov:8009/OpaAPI\n",
      "header: BALANCER_WORKER_ROUTE: pa02\n",
      "header: Cache-Control: no-store, no-cache\n",
      "header: Content-Type: image/jpeg;charset=UTF-8\n",
      "header: Date: Tue, 17 Dec 2019 19:47:08 GMT\n",
      "header: hnweb: pw03\n",
      "header: Pragma: no-cache\n",
      "header: Server: Apache/2.4.6 (Red Hat)\n",
      "header: Strict-Transport-Security: max-age=31536000; includeSubDomains; preload\n",
      "header: transfer-encoding: chunked\n",
      "header: Connection: keep-alive\n"
     ]
    },
    {
     "name": "stderr",
     "output_type": "stream",
     "text": [
      "DEBUG:urllib3.connectionpool:Starting new HTTPS connection (1): catalog.archives.gov:443\n"
     ]
    },
    {
     "name": "stdout",
     "output_type": "stream",
     "text": [
      "send: b'GET /OpaAPI/media/38547962/content/dc-metro/rg-026/559642/2017-01/storis-wmec-38-1957-logbooks/storis-wmec-38-1957-logbooks_0145.JPG HTTP/1.1\\r\\nHost: catalog.archives.gov\\r\\nUser-Agent: python-requests/2.22.0\\r\\nAccept-Encoding: gzip, deflate\\r\\nAccept: */*\\r\\nConnection: keep-alive\\r\\n\\r\\n'\n"
     ]
    },
    {
     "name": "stderr",
     "output_type": "stream",
     "text": [
      "DEBUG:urllib3.connectionpool:https://catalog.archives.gov:443 \"GET /OpaAPI/media/38547962/content/dc-metro/rg-026/559642/2017-01/storis-wmec-38-1957-logbooks/storis-wmec-38-1957-logbooks_0145.JPG HTTP/1.1\" 200 None\n"
     ]
    },
    {
     "name": "stdout",
     "output_type": "stream",
     "text": [
      "reply: 'HTTP/1.1 200 OK\\r\\n'\n",
      "header: Access-Control-Allow-Credentials: true\n",
      "header: Access-Control-Allow-Methods: DELETE, HEAD, GET, OPTION, POST, PUT\n",
      "header: Access-Control-Expose-Headers: JSESSIONID\n",
      "header: Access-Control-Max-Age: 3600\n",
      "header: BALANCER_NAME: (null)\n",
      "header: BALANCER_ROUTE_CHANGED: 1\n",
      "header: BALANCER_SESSION_ROUTE: (null)\n",
      "header: BALANCER_SESSION_STICKY: (null)\n",
      "header: BALANCER_WORKER_NAME: ajp://pa01.aws.nac.nara.gov:8009/OpaAPI\n",
      "header: BALANCER_WORKER_ROUTE: pa01\n",
      "header: Cache-Control: no-store, no-cache\n",
      "header: Content-Type: image/jpeg;charset=UTF-8\n",
      "header: Date: Tue, 17 Dec 2019 19:47:08 GMT\n",
      "header: hnweb: pw04\n",
      "header: Pragma: no-cache\n",
      "header: Server: Apache\n",
      "header: Strict-Transport-Security: max-age=31536000; includeSubDomains; preload\n",
      "header: transfer-encoding: chunked\n",
      "header: Connection: keep-alive\n"
     ]
    }
   ],
   "source": [
    "# download images\n",
    "for img_info in entry_img_array: \n",
    "\n",
    "    # test for mimetype \"image/jpeg\"\n",
    "    # we don't want \"application/pdf\"\n",
    "    if img_info.get('file').get('@mime') == \"image/jpeg\":\n",
    "\n",
    "        img_name = img_info.get('file').get('@name')\n",
    "        img_url = img_info.get('file').get('@url')\n",
    "        img_res = requests.get(img_url)\n",
    "\n",
    "        # write a single image to file\n",
    "        local_img_name = \"{0}/{1}\".format(data, img_name)\n",
    "        if img_res.status_code == 200:\n",
    "            with open(local_img_name, 'wb') as img_f:\n",
    "                img_f.write(img_res.content)"
   ]
  },
  {
   "cell_type": "code",
   "execution_count": 9,
   "metadata": {},
   "outputs": [
    {
     "name": "stdout",
     "output_type": "stream",
     "text": [
      ".\r\n",
      "├── 2019-06-01\r\n",
      "│   ├── data\r\n",
      "│   │   ├── metadata.csv\r\n",
      "│   │   ├── nara_id_Manning-1914.json\r\n",
      "│   │   └── nara_id_storis-wmec-38-1957-logbooks.json\r\n",
      "│   └── out\r\n",
      "│       ├── 2019-11-25-121738-catalog.json\r\n",
      "│       ├── 2019-12-16-101637-catalog.json\r\n",
      "│       └── 2019-12-16-101749-catalog.json\r\n",
      "├── 2019-06-01-testing-downloads.ipynb\r\n",
      "├── 2019-06-01-working-example-usrc-manning.ipynb\r\n",
      "├── 2019-11-14-revisions-to-metadata-import.ipynb\r\n",
      "├── 2019-11-21\r\n",
      "│   ├── data\r\n",
      "│   │   ├── arc.csv\r\n",
      "│   │   └── ncar\r\n",
      "│   │       ├── doc.csv\r\n",
      "│   │       ├── mesa.jpg\r\n",
      "│   │       └── ncar.jpg\r\n",
      "│   └── out\r\n",
      "│       └── 2019-11-25-123939-catalog.json\r\n",
      "├── 2019-11-21-minimal-working-example.ipynb\r\n",
      "├── 2019-11-25\r\n",
      "│   ├── data\r\n",
      "│   │   ├── ADM_53\r\n",
      "│   │   │   ├── ADM\\ 53-68964\r\n",
      "│   │   │   │   └── metadata.csv\r\n",
      "│   │   │   ├── ADM\\ 53-74447\r\n",
      "│   │   │   │   └── metadata.csv\r\n",
      "│   │   │   ├── collect_sample.py\r\n",
      "│   │   │   └── metadata.csv\r\n",
      "│   │   ├── IDWR\r\n",
      "│   │   │   ├── 1892-07-01_1892-12-31\r\n",
      "│   │   │   │   └── metadata.csv\r\n",
      "│   │   │   ├── 1931-01-01_1931-06-30\r\n",
      "│   │   │   │   └── metadata.csv\r\n",
      "│   │   │   ├── collect_sample.py\r\n",
      "│   │   │   └── metadata.csv\r\n",
      "│   │   ├── internet-archive\r\n",
      "│   │   │   └── maryhelensteamba00mary.csv\r\n",
      "│   │   ├── NARA\r\n",
      "│   │   │   └── storis-wmec-38-1957-logbooks\r\n",
      "│   │   │       ├── metadata.csv\r\n",
      "│   │   │       └── nara_id_38547962\r\n",
      "│   │   │           └── storis-wmec-38-1957.csv\r\n",
      "│   │   ├── Second_Order_Stations\r\n",
      "│   │   │   ├── 1916\r\n",
      "│   │   │   │   └── metadata.csv\r\n",
      "│   │   │   ├── collect_sample.py\r\n",
      "│   │   │   └── metadata.csv\r\n",
      "│   │   ├── SPRI_Met_Logs\r\n",
      "│   │   │   ├── collect_sample.py\r\n",
      "│   │   │   ├── metadata.csv\r\n",
      "│   │   │   ├── MS_548_8_2_SL\r\n",
      "│   │   │   │   └── metadata.csv\r\n",
      "│   │   │   └── MS_74_SL\r\n",
      "│   │   │       └── metadata.csv\r\n",
      "│   │   ├── Todd_folios\r\n",
      "│   │   │   ├── 1883\r\n",
      "│   │   │   │   └── metadata.csv\r\n",
      "│   │   │   ├── 1933\r\n",
      "│   │   │   │   └── metadata.csv\r\n",
      "│   │   │   ├── collect_sample.py\r\n",
      "│   │   │   └── metadata.csv\r\n",
      "│   │   ├── UK_DWR\r\n",
      "│   │   │   ├── 1903\r\n",
      "│   │   │   │   └── metadata.csv\r\n",
      "│   │   │   ├── collect_sample.py\r\n",
      "│   │   │   └── metadata.csv\r\n",
      "│   │   └── Weather_Detective\r\n",
      "│   │       ├── collect_sample.py\r\n",
      "│   │       ├── January_1893\r\n",
      "│   │       │   └── metadata.csv\r\n",
      "│   │       └── metadata.csv\r\n",
      "│   └── out\r\n",
      "│       └── 2019-11-25-104112-catalog.json\r\n",
      "├── 2019-11-25-working-example.ipynb\r\n",
      "├── 2019-12-16\r\n",
      "│   ├── data\r\n",
      "│   │   ├── metadata.csv\r\n",
      "│   │   ├── nara_id_storis-wmec-38-1957-logbooks.json\r\n",
      "│   │   ├── storis-wmec-38-1957-logbooks_0126.JPG\r\n",
      "│   │   ├── storis-wmec-38-1957-logbooks_0127.JPG\r\n",
      "│   │   ├── storis-wmec-38-1957-logbooks_0128.JPG\r\n",
      "│   │   ├── storis-wmec-38-1957-logbooks_0129.JPG\r\n",
      "│   │   ├── storis-wmec-38-1957-logbooks_0130.JPG\r\n",
      "│   │   ├── storis-wmec-38-1957-logbooks_0131.JPG\r\n",
      "│   │   ├── storis-wmec-38-1957-logbooks_0132.JPG\r\n",
      "│   │   ├── storis-wmec-38-1957-logbooks_0133.JPG\r\n",
      "│   │   ├── storis-wmec-38-1957-logbooks_0134.JPG\r\n",
      "│   │   ├── storis-wmec-38-1957-logbooks_0135.JPG\r\n",
      "│   │   ├── storis-wmec-38-1957-logbooks_0136.JPG\r\n",
      "│   │   ├── storis-wmec-38-1957-logbooks_0137.JPG\r\n",
      "│   │   ├── storis-wmec-38-1957-logbooks_0138.JPG\r\n",
      "│   │   ├── storis-wmec-38-1957-logbooks_0139.JPG\r\n",
      "│   │   ├── storis-wmec-38-1957-logbooks_0140.JPG\r\n",
      "│   │   ├── storis-wmec-38-1957-logbooks_0141.JPG\r\n",
      "│   │   ├── storis-wmec-38-1957-logbooks_0142.JPG\r\n",
      "│   │   ├── storis-wmec-38-1957-logbooks_0143.JPG\r\n",
      "│   │   ├── storis-wmec-38-1957-logbooks_0144.JPG\r\n",
      "│   │   └── storis-wmec-38-1957-logbooks_0145.JPG\r\n",
      "│   └── out\r\n",
      "│       └── 2019-12-16-115615-catalog.json\r\n",
      "└── 2019-12-16-uscg-storis-mwe.ipynb\r\n",
      "\r\n",
      "35 directories, 69 files\r\n"
     ]
    }
   ],
   "source": [
    "!tree"
   ]
  },
  {
   "cell_type": "code",
   "execution_count": 10,
   "metadata": {},
   "outputs": [],
   "source": [
    "import csv\n",
    "import os\n",
    "\n",
    "with open(os.path.join(data, 'metadata.csv'), mode='w') as metadata_file:\n",
    "    metadata_writer = csv.writer(metadata_file, delimiter=',', quotechar='\"', quoting=csv.QUOTE_MINIMAL)\n",
    "    \n",
    "    metadata_writer.writerow(['archive.host_country', 'USA'])\n",
    "    metadata_writer.writerow(['document.contact_person', 'Kevin Wood'])\n",
    "    metadata_writer.writerow(['archive.notes', 'Images available via API at https://catalog.archives.gov/api/v1/38547962'])\n",
    "    metadata_writer.writerow(['platform.name', 'USCG Storis'])\n",
    "    metadata_writer.writerow(['document.id_within_archive', '38547962'])\n",
    "    metadata_writer.writerow(['document.id_within_archive_type', 'NARA ID'])\n",
    "    metadata_writer.writerow(['document.record_type', \"ships' logs\"])\n",
    "    metadata_writer.writerow(['document.accession_to_archive_date', '2016-08-19'])\n",
    "    metadata_writer.writerow(['document.standardized_region_list', 'north_atlantic'])\n",
    "    metadata_writer.writerow(['document.start_date', '1957-06-09'])\n",
    "    metadata_writer.writerow(['document.start_date', '1957-09-30'])\n",
    "    metadata_writer.writerow(['document.rights_statement', 'CC0 Public Domain'])\n",
    "    metadata_writer.writerow(['document.notes', ''])"
   ]
  },
  {
   "cell_type": "code",
   "execution_count": 11,
   "metadata": {},
   "outputs": [],
   "source": [
    "import sys\n",
    "sys.path.append('/glade/u/home/rdadata/lib/python/site-packages')\n",
    "sys.path.append('/glade/u/home/grainger/pyexiftool')"
   ]
  },
  {
   "cell_type": "code",
   "execution_count": 2,
   "metadata": {},
   "outputs": [],
   "source": [
    "%run -i rdai\n",
    "# We run rdai script interactively to obtain function definitions"
   ]
  },
  {
   "cell_type": "code",
   "execution_count": 13,
   "metadata": {},
   "outputs": [],
   "source": [
    "get_fixed_seq()\n",
    "# Have we generated a fixed sequence for uuids?\n",
    "# The global variable fixed_seq needs to be defined prior to calling mint_uuid"
   ]
  },
  {
   "cell_type": "code",
   "execution_count": 17,
   "metadata": {},
   "outputs": [
    {
     "name": "stdout",
     "output_type": "stream",
     "text": [
      "RDAI: Wrote tag EXIF:ImageUniqueID=37ea9580210611eaba89ac1f6bab1d82 to file 2019-12-16/data/storis-wmec-38-1957-logbooks_0126.JPG.\n",
      "RDAI: Wrote tag EXIF:ImageUniqueID=3802945c210611eaba89ac1f6bab1d82 to file 2019-12-16/data/storis-wmec-38-1957-logbooks_0127.JPG.\n",
      "RDAI: Wrote tag EXIF:ImageUniqueID=38198212210611eaba89ac1f6bab1d82 to file 2019-12-16/data/storis-wmec-38-1957-logbooks_0128.JPG.\n",
      "RDAI: Wrote tag EXIF:ImageUniqueID=38308494210611eaba89ac1f6bab1d82 to file 2019-12-16/data/storis-wmec-38-1957-logbooks_0129.JPG.\n",
      "RDAI: Wrote tag EXIF:ImageUniqueID=3847d224210611eaba89ac1f6bab1d82 to file 2019-12-16/data/storis-wmec-38-1957-logbooks_0130.JPG.\n",
      "RDAI: Wrote tag EXIF:ImageUniqueID=3861b058210611eaba89ac1f6bab1d82 to file 2019-12-16/data/storis-wmec-38-1957-logbooks_0131.JPG.\n",
      "RDAI: Wrote tag EXIF:ImageUniqueID=3878cbf4210611eaba89ac1f6bab1d82 to file 2019-12-16/data/storis-wmec-38-1957-logbooks_0132.JPG.\n",
      "RDAI: Wrote tag EXIF:ImageUniqueID=38923ccc210611eaba89ac1f6bab1d82 to file 2019-12-16/data/storis-wmec-38-1957-logbooks_0133.JPG.\n",
      "RDAI: Wrote tag EXIF:ImageUniqueID=38a90e6c210611eaba89ac1f6bab1d82 to file 2019-12-16/data/storis-wmec-38-1957-logbooks_0134.JPG.\n",
      "RDAI: Wrote tag EXIF:ImageUniqueID=38c04d18210611eaba89ac1f6bab1d82 to file 2019-12-16/data/storis-wmec-38-1957-logbooks_0135.JPG.\n",
      "RDAI: Wrote tag EXIF:ImageUniqueID=38dad37e210611eaba89ac1f6bab1d82 to file 2019-12-16/data/storis-wmec-38-1957-logbooks_0136.JPG.\n",
      "RDAI: Wrote tag EXIF:ImageUniqueID=38f1ff4a210611eaba89ac1f6bab1d82 to file 2019-12-16/data/storis-wmec-38-1957-logbooks_0137.JPG.\n",
      "RDAI: Wrote tag EXIF:ImageUniqueID=390913c6210611eaba89ac1f6bab1d82 to file 2019-12-16/data/storis-wmec-38-1957-logbooks_0138.JPG.\n",
      "RDAI: Wrote tag EXIF:ImageUniqueID=39209624210611eaba89ac1f6bab1d82 to file 2019-12-16/data/storis-wmec-38-1957-logbooks_0139.JPG.\n",
      "RDAI: Wrote tag EXIF:ImageUniqueID=393a0562210611eaba89ac1f6bab1d82 to file 2019-12-16/data/storis-wmec-38-1957-logbooks_0140.JPG.\n",
      "RDAI: Wrote tag EXIF:ImageUniqueID=39511ae6210611eaba89ac1f6bab1d82 to file 2019-12-16/data/storis-wmec-38-1957-logbooks_0141.JPG.\n",
      "RDAI: Wrote tag EXIF:ImageUniqueID=3967c854210611eaba89ac1f6bab1d82 to file 2019-12-16/data/storis-wmec-38-1957-logbooks_0142.JPG.\n",
      "RDAI: Wrote tag EXIF:ImageUniqueID=397ef618210611eaba89ac1f6bab1d82 to file 2019-12-16/data/storis-wmec-38-1957-logbooks_0143.JPG.\n",
      "RDAI: Wrote tag EXIF:ImageUniqueID=39965434210611eaba89ac1f6bab1d82 to file 2019-12-16/data/storis-wmec-38-1957-logbooks_0144.JPG.\n",
      "RDAI: Wrote tag EXIF:ImageUniqueID=39adeacc210611eaba89ac1f6bab1d82 to file 2019-12-16/data/storis-wmec-38-1957-logbooks_0145.JPG.\n"
     ]
    }
   ],
   "source": [
    "normalized_catalog = get_normalized_catalog(data)\n",
    "# We generate a metadata catalog (unnormalized) from the data directory.\n",
    "\n",
    "catalog = unnormalize_catalog(normalized_catalog)\n",
    "# We flatten the normalized catalog. \n",
    "# Each file in the data directory \"has its own entry\" in this catalog.\n",
    "# We'll eventually ignore non-image files.\n",
    "\n",
    "write_timestamped_catalog(catalog, out)\n",
    "# We write this version of the metadata catalog to the output directory."
   ]
  },
  {
   "cell_type": "code",
   "execution_count": 18,
   "metadata": {},
   "outputs": [],
   "source": [
    "catalog = read_timestamped_catalog(out)\n",
    "# We read in the most recent version of the metadata catalog from the out directory.\n",
    "\n",
    "elementary_family = [c for c in catalog if c['media_type'].startswith(\"image\")]\n",
    "# We create a list of all the entries in the catalog that are image files."
   ]
  },
  {
   "cell_type": "code",
   "execution_count": 19,
   "metadata": {},
   "outputs": [],
   "source": [
    "import os\n",
    "# We'll perform some file renames between the data directory and the out directory.\n",
    "\n",
    "# We move all the images in the catalog to the output directory.\n",
    "for member in elementary_family:\n",
    "    os.rename(member['file_path'], os.path.join(out, member['uuid']))"
   ]
  },
  {
   "cell_type": "code",
   "execution_count": 20,
   "metadata": {},
   "outputs": [
    {
     "name": "stdout",
     "output_type": "stream",
     "text": [
      ".\r\n",
      "├── 2019-06-01\r\n",
      "│   ├── data\r\n",
      "│   │   ├── metadata.csv\r\n",
      "│   │   ├── nara_id_Manning-1914.json\r\n",
      "│   │   └── nara_id_storis-wmec-38-1957-logbooks.json\r\n",
      "│   └── out\r\n",
      "│       ├── 2019-11-25-121738-catalog.json\r\n",
      "│       ├── 2019-12-16-101637-catalog.json\r\n",
      "│       └── 2019-12-16-101749-catalog.json\r\n",
      "├── 2019-06-01-testing-downloads.ipynb\r\n",
      "├── 2019-06-01-working-example-usrc-manning.ipynb\r\n",
      "├── 2019-11-14-revisions-to-metadata-import.ipynb\r\n",
      "├── 2019-11-21\r\n",
      "│   ├── data\r\n",
      "│   │   ├── arc.csv\r\n",
      "│   │   └── ncar\r\n",
      "│   │       ├── doc.csv\r\n",
      "│   │       ├── mesa.jpg\r\n",
      "│   │       └── ncar.jpg\r\n",
      "│   └── out\r\n",
      "│       └── 2019-11-25-123939-catalog.json\r\n",
      "├── 2019-11-21-minimal-working-example.ipynb\r\n",
      "├── 2019-11-25\r\n",
      "│   ├── data\r\n",
      "│   │   ├── ADM_53\r\n",
      "│   │   │   ├── ADM\\ 53-68964\r\n",
      "│   │   │   │   └── metadata.csv\r\n",
      "│   │   │   ├── ADM\\ 53-74447\r\n",
      "│   │   │   │   └── metadata.csv\r\n",
      "│   │   │   ├── collect_sample.py\r\n",
      "│   │   │   └── metadata.csv\r\n",
      "│   │   ├── IDWR\r\n",
      "│   │   │   ├── 1892-07-01_1892-12-31\r\n",
      "│   │   │   │   └── metadata.csv\r\n",
      "│   │   │   ├── 1931-01-01_1931-06-30\r\n",
      "│   │   │   │   └── metadata.csv\r\n",
      "│   │   │   ├── collect_sample.py\r\n",
      "│   │   │   └── metadata.csv\r\n",
      "│   │   ├── internet-archive\r\n",
      "│   │   │   └── maryhelensteamba00mary.csv\r\n",
      "│   │   ├── NARA\r\n",
      "│   │   │   └── storis-wmec-38-1957-logbooks\r\n",
      "│   │   │       ├── metadata.csv\r\n",
      "│   │   │       └── nara_id_38547962\r\n",
      "│   │   │           └── storis-wmec-38-1957.csv\r\n",
      "│   │   ├── Second_Order_Stations\r\n",
      "│   │   │   ├── 1916\r\n",
      "│   │   │   │   └── metadata.csv\r\n",
      "│   │   │   ├── collect_sample.py\r\n",
      "│   │   │   └── metadata.csv\r\n",
      "│   │   ├── SPRI_Met_Logs\r\n",
      "│   │   │   ├── collect_sample.py\r\n",
      "│   │   │   ├── metadata.csv\r\n",
      "│   │   │   ├── MS_548_8_2_SL\r\n",
      "│   │   │   │   └── metadata.csv\r\n",
      "│   │   │   └── MS_74_SL\r\n",
      "│   │   │       └── metadata.csv\r\n",
      "│   │   ├── Todd_folios\r\n",
      "│   │   │   ├── 1883\r\n",
      "│   │   │   │   └── metadata.csv\r\n",
      "│   │   │   ├── 1933\r\n",
      "│   │   │   │   └── metadata.csv\r\n",
      "│   │   │   ├── collect_sample.py\r\n",
      "│   │   │   └── metadata.csv\r\n",
      "│   │   ├── UK_DWR\r\n",
      "│   │   │   ├── 1903\r\n",
      "│   │   │   │   └── metadata.csv\r\n",
      "│   │   │   ├── collect_sample.py\r\n",
      "│   │   │   └── metadata.csv\r\n",
      "│   │   └── Weather_Detective\r\n",
      "│   │       ├── collect_sample.py\r\n",
      "│   │       ├── January_1893\r\n",
      "│   │       │   └── metadata.csv\r\n",
      "│   │       └── metadata.csv\r\n",
      "│   └── out\r\n",
      "│       └── 2019-11-25-104112-catalog.json\r\n",
      "├── 2019-11-25-working-example.ipynb\r\n",
      "├── 2019-12-16\r\n",
      "│   ├── data\r\n",
      "│   │   ├── metadata.csv\r\n",
      "│   │   └── nara_id_storis-wmec-38-1957-logbooks.json\r\n",
      "│   └── out\r\n",
      "│       ├── 2019-12-16-115615-catalog.json\r\n",
      "│       ├── 2019-12-17-124755-catalog.json\r\n",
      "│       ├── 2019-12-17-124807-catalog.json\r\n",
      "│       ├── 2019-12-17-124823-catalog.json\r\n",
      "│       ├── 2019-12-17-124840-catalog.json\r\n",
      "│       ├── 37ea9580210611eaba89ac1f6bab1d82\r\n",
      "│       ├── 3802945c210611eaba89ac1f6bab1d82\r\n",
      "│       ├── 38198212210611eaba89ac1f6bab1d82\r\n",
      "│       ├── 38308494210611eaba89ac1f6bab1d82\r\n",
      "│       ├── 3847d224210611eaba89ac1f6bab1d82\r\n",
      "│       ├── 3861b058210611eaba89ac1f6bab1d82\r\n",
      "│       ├── 3878cbf4210611eaba89ac1f6bab1d82\r\n",
      "│       ├── 38923ccc210611eaba89ac1f6bab1d82\r\n",
      "│       ├── 38a90e6c210611eaba89ac1f6bab1d82\r\n",
      "│       ├── 38c04d18210611eaba89ac1f6bab1d82\r\n",
      "│       ├── 38dad37e210611eaba89ac1f6bab1d82\r\n",
      "│       ├── 38f1ff4a210611eaba89ac1f6bab1d82\r\n",
      "│       ├── 390913c6210611eaba89ac1f6bab1d82\r\n",
      "│       ├── 39209624210611eaba89ac1f6bab1d82\r\n",
      "│       ├── 393a0562210611eaba89ac1f6bab1d82\r\n",
      "│       ├── 39511ae6210611eaba89ac1f6bab1d82\r\n",
      "│       ├── 3967c854210611eaba89ac1f6bab1d82\r\n",
      "│       ├── 397ef618210611eaba89ac1f6bab1d82\r\n",
      "│       ├── 39965434210611eaba89ac1f6bab1d82\r\n",
      "│       └── 39adeacc210611eaba89ac1f6bab1d82\r\n",
      "└── 2019-12-16-uscg-storis-mwe.ipynb\r\n",
      "\r\n",
      "35 directories, 73 files\r\n"
     ]
    }
   ],
   "source": [
    "!tree"
   ]
  },
  {
   "cell_type": "code",
   "execution_count": 21,
   "metadata": {},
   "outputs": [],
   "source": [
    "# Conversely, we move all the images in the catalog back to the data directory.\n",
    "for member in elementary_family:\n",
    "    os.rename(os.path.join(out, member['uuid']), member['file_path'])"
   ]
  },
  {
   "cell_type": "code",
   "execution_count": 22,
   "metadata": {},
   "outputs": [
    {
     "name": "stdout",
     "output_type": "stream",
     "text": [
      ".\r\n",
      "├── 2019-06-01\r\n",
      "│   ├── data\r\n",
      "│   │   ├── metadata.csv\r\n",
      "│   │   ├── nara_id_Manning-1914.json\r\n",
      "│   │   └── nara_id_storis-wmec-38-1957-logbooks.json\r\n",
      "│   └── out\r\n",
      "│       ├── 2019-11-25-121738-catalog.json\r\n",
      "│       ├── 2019-12-16-101637-catalog.json\r\n",
      "│       └── 2019-12-16-101749-catalog.json\r\n",
      "├── 2019-06-01-testing-downloads.ipynb\r\n",
      "├── 2019-06-01-working-example-usrc-manning.ipynb\r\n",
      "├── 2019-11-14-revisions-to-metadata-import.ipynb\r\n",
      "├── 2019-11-21\r\n",
      "│   ├── data\r\n",
      "│   │   ├── arc.csv\r\n",
      "│   │   └── ncar\r\n",
      "│   │       ├── doc.csv\r\n",
      "│   │       ├── mesa.jpg\r\n",
      "│   │       └── ncar.jpg\r\n",
      "│   └── out\r\n",
      "│       └── 2019-11-25-123939-catalog.json\r\n",
      "├── 2019-11-21-minimal-working-example.ipynb\r\n",
      "├── 2019-11-25\r\n",
      "│   ├── data\r\n",
      "│   │   ├── ADM_53\r\n",
      "│   │   │   ├── ADM\\ 53-68964\r\n",
      "│   │   │   │   └── metadata.csv\r\n",
      "│   │   │   ├── ADM\\ 53-74447\r\n",
      "│   │   │   │   └── metadata.csv\r\n",
      "│   │   │   ├── collect_sample.py\r\n",
      "│   │   │   └── metadata.csv\r\n",
      "│   │   ├── IDWR\r\n",
      "│   │   │   ├── 1892-07-01_1892-12-31\r\n",
      "│   │   │   │   └── metadata.csv\r\n",
      "│   │   │   ├── 1931-01-01_1931-06-30\r\n",
      "│   │   │   │   └── metadata.csv\r\n",
      "│   │   │   ├── collect_sample.py\r\n",
      "│   │   │   └── metadata.csv\r\n",
      "│   │   ├── internet-archive\r\n",
      "│   │   │   └── maryhelensteamba00mary.csv\r\n",
      "│   │   ├── NARA\r\n",
      "│   │   │   └── storis-wmec-38-1957-logbooks\r\n",
      "│   │   │       ├── metadata.csv\r\n",
      "│   │   │       └── nara_id_38547962\r\n",
      "│   │   │           └── storis-wmec-38-1957.csv\r\n",
      "│   │   ├── Second_Order_Stations\r\n",
      "│   │   │   ├── 1916\r\n",
      "│   │   │   │   └── metadata.csv\r\n",
      "│   │   │   ├── collect_sample.py\r\n",
      "│   │   │   └── metadata.csv\r\n",
      "│   │   ├── SPRI_Met_Logs\r\n",
      "│   │   │   ├── collect_sample.py\r\n",
      "│   │   │   ├── metadata.csv\r\n",
      "│   │   │   ├── MS_548_8_2_SL\r\n",
      "│   │   │   │   └── metadata.csv\r\n",
      "│   │   │   └── MS_74_SL\r\n",
      "│   │   │       └── metadata.csv\r\n",
      "│   │   ├── Todd_folios\r\n",
      "│   │   │   ├── 1883\r\n",
      "│   │   │   │   └── metadata.csv\r\n",
      "│   │   │   ├── 1933\r\n",
      "│   │   │   │   └── metadata.csv\r\n",
      "│   │   │   ├── collect_sample.py\r\n",
      "│   │   │   └── metadata.csv\r\n",
      "│   │   ├── UK_DWR\r\n",
      "│   │   │   ├── 1903\r\n",
      "│   │   │   │   └── metadata.csv\r\n",
      "│   │   │   ├── collect_sample.py\r\n",
      "│   │   │   └── metadata.csv\r\n",
      "│   │   └── Weather_Detective\r\n",
      "│   │       ├── collect_sample.py\r\n",
      "│   │       ├── January_1893\r\n",
      "│   │       │   └── metadata.csv\r\n",
      "│   │       └── metadata.csv\r\n",
      "│   └── out\r\n",
      "│       └── 2019-11-25-104112-catalog.json\r\n",
      "├── 2019-11-25-working-example.ipynb\r\n",
      "├── 2019-12-16\r\n",
      "│   ├── data\r\n",
      "│   │   ├── metadata.csv\r\n",
      "│   │   ├── nara_id_storis-wmec-38-1957-logbooks.json\r\n",
      "│   │   ├── storis-wmec-38-1957-logbooks_0126.JPG\r\n",
      "│   │   ├── storis-wmec-38-1957-logbooks_0127.JPG\r\n",
      "│   │   ├── storis-wmec-38-1957-logbooks_0128.JPG\r\n",
      "│   │   ├── storis-wmec-38-1957-logbooks_0129.JPG\r\n",
      "│   │   ├── storis-wmec-38-1957-logbooks_0130.JPG\r\n",
      "│   │   ├── storis-wmec-38-1957-logbooks_0131.JPG\r\n",
      "│   │   ├── storis-wmec-38-1957-logbooks_0132.JPG\r\n",
      "│   │   ├── storis-wmec-38-1957-logbooks_0133.JPG\r\n",
      "│   │   ├── storis-wmec-38-1957-logbooks_0134.JPG\r\n",
      "│   │   ├── storis-wmec-38-1957-logbooks_0135.JPG\r\n",
      "│   │   ├── storis-wmec-38-1957-logbooks_0136.JPG\r\n",
      "│   │   ├── storis-wmec-38-1957-logbooks_0137.JPG\r\n",
      "│   │   ├── storis-wmec-38-1957-logbooks_0138.JPG\r\n",
      "│   │   ├── storis-wmec-38-1957-logbooks_0139.JPG\r\n",
      "│   │   ├── storis-wmec-38-1957-logbooks_0140.JPG\r\n",
      "│   │   ├── storis-wmec-38-1957-logbooks_0141.JPG\r\n",
      "│   │   ├── storis-wmec-38-1957-logbooks_0142.JPG\r\n",
      "│   │   ├── storis-wmec-38-1957-logbooks_0143.JPG\r\n",
      "│   │   ├── storis-wmec-38-1957-logbooks_0144.JPG\r\n",
      "│   │   └── storis-wmec-38-1957-logbooks_0145.JPG\r\n",
      "│   └── out\r\n",
      "│       ├── 2019-12-16-115615-catalog.json\r\n",
      "│       ├── 2019-12-17-124755-catalog.json\r\n",
      "│       ├── 2019-12-17-124807-catalog.json\r\n",
      "│       ├── 2019-12-17-124823-catalog.json\r\n",
      "│       └── 2019-12-17-124840-catalog.json\r\n",
      "└── 2019-12-16-uscg-storis-mwe.ipynb\r\n",
      "\r\n",
      "35 directories, 73 files\r\n"
     ]
    }
   ],
   "source": [
    "!tree"
   ]
  },
  {
   "cell_type": "code",
   "execution_count": null,
   "metadata": {},
   "outputs": [],
   "source": []
  }
 ],
 "metadata": {
  "kernelspec": {
   "display_name": "Python 3",
   "language": "python",
   "name": "python3"
  },
  "language_info": {
   "codemirror_mode": {
    "name": "ipython",
    "version": 3
   },
   "file_extension": ".py",
   "mimetype": "text/x-python",
   "name": "python",
   "nbconvert_exporter": "python",
   "pygments_lexer": "ipython3",
   "version": "3.7.3"
  }
 },
 "nbformat": 4,
 "nbformat_minor": 4
}
