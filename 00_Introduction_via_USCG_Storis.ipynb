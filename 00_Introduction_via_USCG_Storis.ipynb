{
 "cells": [
  {
   "cell_type": "markdown",
   "metadata": {},
   "source": [
    "## Preliminaries\n",
    "\n",
    "*We'll set up a working directory and download a small sample\n",
    "of images to ingest.*"
   ]
  },
  {
   "cell_type": "code",
   "execution_count": 1,
   "metadata": {
    "attributes": {
     "classes": [],
     "id": "",
     "n": "50"
    }
   },
   "outputs": [],
   "source": [
    "import os\n",
    "\n",
    "# We create a working directory for this example.\n",
    "os.makedirs(\"00_files\", exist_ok=True)\n",
    "\n",
    "# We create a \"data\" subdirectory for the images and the metadata tag files.\n",
    "os.makedirs(\"00_files\", exist_ok=True)\n",
    "data = \"00_files/data\"\n",
    "\n",
    "# We create an \"out\" subdirectory for the processed images and the metadata catalog.\n",
    "os.makedirs(\"00_files/out\", exist_ok=True)\n",
    "out  = \"00_files/out\"  "
   ]
  },
  {
   "cell_type": "markdown",
   "metadata": {},
   "source": [
    "Let's download a sample collection of 20 images from the logbooks of the USCG\n",
    "Storis."
   ]
  },
  {
   "cell_type": "code",
   "execution_count": 2,
   "metadata": {
    "attributes": {
     "classes": [],
     "id": "",
     "n": "51"
    }
   },
   "outputs": [
    {
     "name": "stderr",
     "output_type": "stream",
     "text": [
      "DEBUG:urllib3.connectionpool:Starting new HTTPS connection (1): catalog.archives.gov:443\n",
      "DEBUG:urllib3.connectionpool:https://catalog.archives.gov:443 \"GET /api/v1/?naIds=38547962 HTTP/1.1\" 200 None\n"
     ]
    },
    {
     "name": "stdout",
     "output_type": "stream",
     "text": [
      "send: b'GET /api/v1/?naIds=38547962 HTTP/1.1\\r\\nHost: catalog.archives.gov\\r\\nUser-Agent: python-requests/2.21.0\\r\\nAccept-Encoding: gzip, deflate\\r\\nAccept: */*\\r\\nConnection: keep-alive\\r\\n\\r\\n'\n",
      "reply: 'HTTP/1.1 200 OK\\r\\n'\n",
      "header: Access-Control-Allow-Credentials: true\n",
      "header: Access-Control-Allow-Methods: DELETE, HEAD, GET, OPTION, POST, PUT\n",
      "header: Access-Control-Expose-Headers: JSESSIONID\n",
      "header: Access-Control-Max-Age: 3600\n",
      "header: BALANCER_NAME: (null)\n",
      "header: BALANCER_ROUTE_CHANGED: 1\n",
      "header: BALANCER_SESSION_ROUTE: (null)\n",
      "header: BALANCER_SESSION_STICKY: (null)\n",
      "header: BALANCER_WORKER_NAME: ajp://pa01.aws.nac.nara.gov:8009/OpaAPI\n",
      "header: BALANCER_WORKER_ROUTE: pa01\n",
      "header: Cache-Control: no-store, no-cache\n",
      "header: Content-Type: application/json;charset=UTF-8\n",
      "header: Date: Tue, 14 Jan 2020 00:52:56 GMT\n",
      "header: hnweb: pw03\n",
      "header: Pragma: no-cache\n",
      "header: Server: Apache/2.4.6 (Red Hat)\n",
      "header: Strict-Transport-Security: max-age=31536000; includeSubDomains; preload\n",
      "header: transfer-encoding: chunked\n",
      "header: Connection: keep-alive\n"
     ]
    },
    {
     "name": "stderr",
     "output_type": "stream",
     "text": [
      "DEBUG:urllib3.connectionpool:Starting new HTTPS connection (1): catalog.archives.gov:443\n"
     ]
    },
    {
     "name": "stdout",
     "output_type": "stream",
     "text": [
      "send: b'GET /OpaAPI/media/38547962/content/dc-metro/rg-026/559642/2017-01/storis-wmec-38-1957-logbooks/storis-wmec-38-1957-logbooks_0126.JPG HTTP/1.1\\r\\nHost: catalog.archives.gov\\r\\nUser-Agent: python-requests/2.21.0\\r\\nAccept-Encoding: gzip, deflate\\r\\nAccept: */*\\r\\nConnection: keep-alive\\r\\n\\r\\n'\n"
     ]
    },
    {
     "name": "stderr",
     "output_type": "stream",
     "text": [
      "DEBUG:urllib3.connectionpool:https://catalog.archives.gov:443 \"GET /OpaAPI/media/38547962/content/dc-metro/rg-026/559642/2017-01/storis-wmec-38-1957-logbooks/storis-wmec-38-1957-logbooks_0126.JPG HTTP/1.1\" 200 None\n"
     ]
    },
    {
     "name": "stdout",
     "output_type": "stream",
     "text": [
      "reply: 'HTTP/1.1 200 OK\\r\\n'\n",
      "header: Access-Control-Allow-Credentials: true\n",
      "header: Access-Control-Allow-Methods: DELETE, HEAD, GET, OPTION, POST, PUT\n",
      "header: Access-Control-Expose-Headers: JSESSIONID\n",
      "header: Access-Control-Max-Age: 3600\n",
      "header: BALANCER_NAME: (null)\n",
      "header: BALANCER_ROUTE_CHANGED: 1\n",
      "header: BALANCER_SESSION_ROUTE: (null)\n",
      "header: BALANCER_SESSION_STICKY: (null)\n",
      "header: BALANCER_WORKER_NAME: ajp://pa01.aws.nac.nara.gov:8009/OpaAPI\n",
      "header: BALANCER_WORKER_ROUTE: pa01\n",
      "header: Cache-Control: no-store, no-cache\n",
      "header: Content-Type: image/jpeg;charset=UTF-8\n",
      "header: Date: Tue, 14 Jan 2020 00:52:58 GMT\n",
      "header: hnweb: pw04\n",
      "header: Pragma: no-cache\n",
      "header: Server: Apache\n",
      "header: Strict-Transport-Security: max-age=31536000; includeSubDomains; preload\n",
      "header: transfer-encoding: chunked\n",
      "header: Connection: keep-alive\n"
     ]
    },
    {
     "name": "stderr",
     "output_type": "stream",
     "text": [
      "DEBUG:urllib3.connectionpool:Starting new HTTPS connection (1): catalog.archives.gov:443\n"
     ]
    },
    {
     "name": "stdout",
     "output_type": "stream",
     "text": [
      "send: b'GET /OpaAPI/media/38547962/content/dc-metro/rg-026/559642/2017-01/storis-wmec-38-1957-logbooks/storis-wmec-38-1957-logbooks_0127.JPG HTTP/1.1\\r\\nHost: catalog.archives.gov\\r\\nUser-Agent: python-requests/2.21.0\\r\\nAccept-Encoding: gzip, deflate\\r\\nAccept: */*\\r\\nConnection: keep-alive\\r\\n\\r\\n'\n"
     ]
    },
    {
     "name": "stderr",
     "output_type": "stream",
     "text": [
      "DEBUG:urllib3.connectionpool:https://catalog.archives.gov:443 \"GET /OpaAPI/media/38547962/content/dc-metro/rg-026/559642/2017-01/storis-wmec-38-1957-logbooks/storis-wmec-38-1957-logbooks_0127.JPG HTTP/1.1\" 200 None\n"
     ]
    },
    {
     "name": "stdout",
     "output_type": "stream",
     "text": [
      "reply: 'HTTP/1.1 200 OK\\r\\n'\n",
      "header: Access-Control-Allow-Credentials: true\n",
      "header: Access-Control-Allow-Methods: DELETE, HEAD, GET, OPTION, POST, PUT\n",
      "header: Access-Control-Expose-Headers: JSESSIONID\n",
      "header: Access-Control-Max-Age: 3600\n",
      "header: BALANCER_NAME: (null)\n",
      "header: BALANCER_ROUTE_CHANGED: 1\n",
      "header: BALANCER_SESSION_ROUTE: (null)\n",
      "header: BALANCER_SESSION_STICKY: (null)\n",
      "header: BALANCER_WORKER_NAME: ajp://pa03.aws.nac.nara.gov:8009/OpaAPI\n",
      "header: BALANCER_WORKER_ROUTE: pa03\n",
      "header: Cache-Control: no-store, no-cache\n",
      "header: Content-Type: image/jpeg;charset=UTF-8\n",
      "header: Date: Tue, 14 Jan 2020 00:52:59 GMT\n",
      "header: hnweb: pw02\n",
      "header: Pragma: no-cache\n",
      "header: Server: Apache\n",
      "header: Strict-Transport-Security: max-age=31536000; includeSubDomains; preload\n",
      "header: transfer-encoding: chunked\n",
      "header: Connection: keep-alive\n"
     ]
    },
    {
     "name": "stderr",
     "output_type": "stream",
     "text": [
      "DEBUG:urllib3.connectionpool:Starting new HTTPS connection (1): catalog.archives.gov:443\n"
     ]
    },
    {
     "name": "stdout",
     "output_type": "stream",
     "text": [
      "send: b'GET /OpaAPI/media/38547962/content/dc-metro/rg-026/559642/2017-01/storis-wmec-38-1957-logbooks/storis-wmec-38-1957-logbooks_0128.JPG HTTP/1.1\\r\\nHost: catalog.archives.gov\\r\\nUser-Agent: python-requests/2.21.0\\r\\nAccept-Encoding: gzip, deflate\\r\\nAccept: */*\\r\\nConnection: keep-alive\\r\\n\\r\\n'\n"
     ]
    },
    {
     "name": "stderr",
     "output_type": "stream",
     "text": [
      "DEBUG:urllib3.connectionpool:https://catalog.archives.gov:443 \"GET /OpaAPI/media/38547962/content/dc-metro/rg-026/559642/2017-01/storis-wmec-38-1957-logbooks/storis-wmec-38-1957-logbooks_0128.JPG HTTP/1.1\" 200 None\n"
     ]
    },
    {
     "name": "stdout",
     "output_type": "stream",
     "text": [
      "reply: 'HTTP/1.1 200 OK\\r\\n'\n",
      "header: Access-Control-Allow-Credentials: true\n",
      "header: Access-Control-Allow-Methods: DELETE, HEAD, GET, OPTION, POST, PUT\n",
      "header: Access-Control-Expose-Headers: JSESSIONID\n",
      "header: Access-Control-Max-Age: 3600\n",
      "header: BALANCER_NAME: (null)\n",
      "header: BALANCER_ROUTE_CHANGED: 1\n",
      "header: BALANCER_SESSION_ROUTE: (null)\n",
      "header: BALANCER_SESSION_STICKY: (null)\n",
      "header: BALANCER_WORKER_NAME: ajp://pa02.aws.nac.nara.gov:8009/OpaAPI\n",
      "header: BALANCER_WORKER_ROUTE: pa02\n",
      "header: Cache-Control: no-store, no-cache\n",
      "header: Content-Type: image/jpeg;charset=UTF-8\n",
      "header: Date: Tue, 14 Jan 2020 00:53:01 GMT\n",
      "header: hnweb: pw04\n",
      "header: Pragma: no-cache\n",
      "header: Server: Apache\n",
      "header: Strict-Transport-Security: max-age=31536000; includeSubDomains; preload\n",
      "header: transfer-encoding: chunked\n",
      "header: Connection: keep-alive\n"
     ]
    },
    {
     "name": "stderr",
     "output_type": "stream",
     "text": [
      "DEBUG:urllib3.connectionpool:Starting new HTTPS connection (1): catalog.archives.gov:443\n"
     ]
    },
    {
     "name": "stdout",
     "output_type": "stream",
     "text": [
      "send: b'GET /OpaAPI/media/38547962/content/dc-metro/rg-026/559642/2017-01/storis-wmec-38-1957-logbooks/storis-wmec-38-1957-logbooks_0129.JPG HTTP/1.1\\r\\nHost: catalog.archives.gov\\r\\nUser-Agent: python-requests/2.21.0\\r\\nAccept-Encoding: gzip, deflate\\r\\nAccept: */*\\r\\nConnection: keep-alive\\r\\n\\r\\n'\n"
     ]
    },
    {
     "name": "stderr",
     "output_type": "stream",
     "text": [
      "DEBUG:urllib3.connectionpool:https://catalog.archives.gov:443 \"GET /OpaAPI/media/38547962/content/dc-metro/rg-026/559642/2017-01/storis-wmec-38-1957-logbooks/storis-wmec-38-1957-logbooks_0129.JPG HTTP/1.1\" 200 None\n"
     ]
    },
    {
     "name": "stdout",
     "output_type": "stream",
     "text": [
      "reply: 'HTTP/1.1 200 OK\\r\\n'\n",
      "header: Access-Control-Allow-Credentials: true\n",
      "header: Access-Control-Allow-Methods: DELETE, HEAD, GET, OPTION, POST, PUT\n",
      "header: Access-Control-Expose-Headers: JSESSIONID\n",
      "header: Access-Control-Max-Age: 3600\n",
      "header: BALANCER_NAME: (null)\n",
      "header: BALANCER_ROUTE_CHANGED: 1\n",
      "header: BALANCER_SESSION_ROUTE: (null)\n",
      "header: BALANCER_SESSION_STICKY: (null)\n",
      "header: BALANCER_WORKER_NAME: ajp://pa01.aws.nac.nara.gov:8009/OpaAPI\n",
      "header: BALANCER_WORKER_ROUTE: pa01\n",
      "header: Cache-Control: no-store, no-cache\n",
      "header: Content-Type: image/jpeg;charset=UTF-8\n",
      "header: Date: Tue, 14 Jan 2020 00:53:02 GMT\n",
      "header: hnweb: pw02\n",
      "header: Pragma: no-cache\n",
      "header: Server: Apache\n",
      "header: Strict-Transport-Security: max-age=31536000; includeSubDomains; preload\n",
      "header: transfer-encoding: chunked\n",
      "header: Connection: keep-alive\n"
     ]
    },
    {
     "name": "stderr",
     "output_type": "stream",
     "text": [
      "DEBUG:urllib3.connectionpool:Starting new HTTPS connection (1): catalog.archives.gov:443\n"
     ]
    },
    {
     "name": "stdout",
     "output_type": "stream",
     "text": [
      "send: b'GET /OpaAPI/media/38547962/content/dc-metro/rg-026/559642/2017-01/storis-wmec-38-1957-logbooks/storis-wmec-38-1957-logbooks_0130.JPG HTTP/1.1\\r\\nHost: catalog.archives.gov\\r\\nUser-Agent: python-requests/2.21.0\\r\\nAccept-Encoding: gzip, deflate\\r\\nAccept: */*\\r\\nConnection: keep-alive\\r\\n\\r\\n'\n"
     ]
    },
    {
     "name": "stderr",
     "output_type": "stream",
     "text": [
      "DEBUG:urllib3.connectionpool:https://catalog.archives.gov:443 \"GET /OpaAPI/media/38547962/content/dc-metro/rg-026/559642/2017-01/storis-wmec-38-1957-logbooks/storis-wmec-38-1957-logbooks_0130.JPG HTTP/1.1\" 200 None\n"
     ]
    },
    {
     "name": "stdout",
     "output_type": "stream",
     "text": [
      "reply: 'HTTP/1.1 200 OK\\r\\n'\n",
      "header: Access-Control-Allow-Credentials: true\n",
      "header: Access-Control-Allow-Methods: DELETE, HEAD, GET, OPTION, POST, PUT\n",
      "header: Access-Control-Expose-Headers: JSESSIONID\n",
      "header: Access-Control-Max-Age: 3600\n",
      "header: BALANCER_NAME: (null)\n",
      "header: BALANCER_ROUTE_CHANGED: 1\n",
      "header: BALANCER_SESSION_ROUTE: (null)\n",
      "header: BALANCER_SESSION_STICKY: (null)\n",
      "header: BALANCER_WORKER_NAME: ajp://pa04.aws.nac.nara.gov:8009/OpaAPI\n",
      "header: BALANCER_WORKER_ROUTE: pa04\n",
      "header: Cache-Control: no-store, no-cache\n",
      "header: Content-Type: image/jpeg;charset=UTF-8\n",
      "header: Date: Tue, 14 Jan 2020 00:53:04 GMT\n",
      "header: hnweb: pw04\n",
      "header: Pragma: no-cache\n",
      "header: Server: Apache\n",
      "header: Strict-Transport-Security: max-age=31536000; includeSubDomains; preload\n",
      "header: transfer-encoding: chunked\n",
      "header: Connection: keep-alive\n"
     ]
    },
    {
     "name": "stderr",
     "output_type": "stream",
     "text": [
      "DEBUG:urllib3.connectionpool:Starting new HTTPS connection (1): catalog.archives.gov:443\n"
     ]
    },
    {
     "name": "stdout",
     "output_type": "stream",
     "text": [
      "send: b'GET /OpaAPI/media/38547962/content/dc-metro/rg-026/559642/2017-01/storis-wmec-38-1957-logbooks/storis-wmec-38-1957-logbooks_0131.JPG HTTP/1.1\\r\\nHost: catalog.archives.gov\\r\\nUser-Agent: python-requests/2.21.0\\r\\nAccept-Encoding: gzip, deflate\\r\\nAccept: */*\\r\\nConnection: keep-alive\\r\\n\\r\\n'\n"
     ]
    },
    {
     "name": "stderr",
     "output_type": "stream",
     "text": [
      "DEBUG:urllib3.connectionpool:https://catalog.archives.gov:443 \"GET /OpaAPI/media/38547962/content/dc-metro/rg-026/559642/2017-01/storis-wmec-38-1957-logbooks/storis-wmec-38-1957-logbooks_0131.JPG HTTP/1.1\" 200 None\n"
     ]
    },
    {
     "name": "stdout",
     "output_type": "stream",
     "text": [
      "reply: 'HTTP/1.1 200 OK\\r\\n'\n",
      "header: Access-Control-Allow-Credentials: true\n",
      "header: Access-Control-Allow-Methods: DELETE, HEAD, GET, OPTION, POST, PUT\n",
      "header: Access-Control-Expose-Headers: JSESSIONID\n",
      "header: Access-Control-Max-Age: 3600\n",
      "header: BALANCER_NAME: (null)\n",
      "header: BALANCER_ROUTE_CHANGED: 1\n",
      "header: BALANCER_SESSION_ROUTE: (null)\n",
      "header: BALANCER_SESSION_STICKY: (null)\n",
      "header: BALANCER_WORKER_NAME: ajp://pa03.aws.nac.nara.gov:8009/OpaAPI\n",
      "header: BALANCER_WORKER_ROUTE: pa03\n",
      "header: Cache-Control: no-store, no-cache\n",
      "header: Content-Type: image/jpeg;charset=UTF-8\n",
      "header: Date: Tue, 14 Jan 2020 00:53:06 GMT\n",
      "header: hnweb: pw04\n",
      "header: Pragma: no-cache\n",
      "header: Server: Apache\n",
      "header: Strict-Transport-Security: max-age=31536000; includeSubDomains; preload\n",
      "header: transfer-encoding: chunked\n",
      "header: Connection: keep-alive\n"
     ]
    },
    {
     "name": "stderr",
     "output_type": "stream",
     "text": [
      "DEBUG:urllib3.connectionpool:Starting new HTTPS connection (1): catalog.archives.gov:443\n"
     ]
    },
    {
     "name": "stdout",
     "output_type": "stream",
     "text": [
      "send: b'GET /OpaAPI/media/38547962/content/dc-metro/rg-026/559642/2017-01/storis-wmec-38-1957-logbooks/storis-wmec-38-1957-logbooks_0132.JPG HTTP/1.1\\r\\nHost: catalog.archives.gov\\r\\nUser-Agent: python-requests/2.21.0\\r\\nAccept-Encoding: gzip, deflate\\r\\nAccept: */*\\r\\nConnection: keep-alive\\r\\n\\r\\n'\n"
     ]
    },
    {
     "name": "stderr",
     "output_type": "stream",
     "text": [
      "DEBUG:urllib3.connectionpool:https://catalog.archives.gov:443 \"GET /OpaAPI/media/38547962/content/dc-metro/rg-026/559642/2017-01/storis-wmec-38-1957-logbooks/storis-wmec-38-1957-logbooks_0132.JPG HTTP/1.1\" 200 None\n"
     ]
    },
    {
     "name": "stdout",
     "output_type": "stream",
     "text": [
      "reply: 'HTTP/1.1 200 OK\\r\\n'\n",
      "header: Access-Control-Allow-Credentials: true\n",
      "header: Access-Control-Allow-Methods: DELETE, HEAD, GET, OPTION, POST, PUT\n",
      "header: Access-Control-Expose-Headers: JSESSIONID\n",
      "header: Access-Control-Max-Age: 3600\n",
      "header: BALANCER_NAME: (null)\n",
      "header: BALANCER_ROUTE_CHANGED: 1\n",
      "header: BALANCER_SESSION_ROUTE: (null)\n",
      "header: BALANCER_SESSION_STICKY: (null)\n",
      "header: BALANCER_WORKER_NAME: ajp://pa01.aws.nac.nara.gov:8009/OpaAPI\n",
      "header: BALANCER_WORKER_ROUTE: pa01\n",
      "header: Cache-Control: no-store, no-cache\n",
      "header: Content-Type: image/jpeg;charset=UTF-8\n",
      "header: Date: Tue, 14 Jan 2020 00:53:08 GMT\n",
      "header: hnweb: pw02\n",
      "header: Pragma: no-cache\n",
      "header: Server: Apache\n",
      "header: Strict-Transport-Security: max-age=31536000; includeSubDomains; preload\n",
      "header: transfer-encoding: chunked\n",
      "header: Connection: keep-alive\n"
     ]
    },
    {
     "name": "stderr",
     "output_type": "stream",
     "text": [
      "DEBUG:urllib3.connectionpool:Starting new HTTPS connection (1): catalog.archives.gov:443\n"
     ]
    },
    {
     "name": "stdout",
     "output_type": "stream",
     "text": [
      "send: b'GET /OpaAPI/media/38547962/content/dc-metro/rg-026/559642/2017-01/storis-wmec-38-1957-logbooks/storis-wmec-38-1957-logbooks_0133.JPG HTTP/1.1\\r\\nHost: catalog.archives.gov\\r\\nUser-Agent: python-requests/2.21.0\\r\\nAccept-Encoding: gzip, deflate\\r\\nAccept: */*\\r\\nConnection: keep-alive\\r\\n\\r\\n'\n"
     ]
    },
    {
     "name": "stderr",
     "output_type": "stream",
     "text": [
      "DEBUG:urllib3.connectionpool:https://catalog.archives.gov:443 \"GET /OpaAPI/media/38547962/content/dc-metro/rg-026/559642/2017-01/storis-wmec-38-1957-logbooks/storis-wmec-38-1957-logbooks_0133.JPG HTTP/1.1\" 200 None\n"
     ]
    },
    {
     "name": "stdout",
     "output_type": "stream",
     "text": [
      "reply: 'HTTP/1.1 200 OK\\r\\n'\n",
      "header: Access-Control-Allow-Credentials: true\n",
      "header: Access-Control-Allow-Methods: DELETE, HEAD, GET, OPTION, POST, PUT\n",
      "header: Access-Control-Expose-Headers: JSESSIONID\n",
      "header: Access-Control-Max-Age: 3600\n",
      "header: BALANCER_NAME: (null)\n",
      "header: BALANCER_ROUTE_CHANGED: 1\n",
      "header: BALANCER_SESSION_ROUTE: (null)\n",
      "header: BALANCER_SESSION_STICKY: (null)\n",
      "header: BALANCER_WORKER_NAME: ajp://pa02.aws.nac.nara.gov:8009/OpaAPI\n",
      "header: BALANCER_WORKER_ROUTE: pa02\n",
      "header: Cache-Control: no-store, no-cache\n",
      "header: Content-Type: image/jpeg;charset=UTF-8\n",
      "header: Date: Tue, 14 Jan 2020 00:53:10 GMT\n",
      "header: hnweb: pw02\n",
      "header: Pragma: no-cache\n",
      "header: Server: Apache\n",
      "header: Strict-Transport-Security: max-age=31536000; includeSubDomains; preload\n",
      "header: transfer-encoding: chunked\n",
      "header: Connection: keep-alive\n"
     ]
    },
    {
     "name": "stderr",
     "output_type": "stream",
     "text": [
      "DEBUG:urllib3.connectionpool:Starting new HTTPS connection (1): catalog.archives.gov:443\n"
     ]
    },
    {
     "name": "stdout",
     "output_type": "stream",
     "text": [
      "send: b'GET /OpaAPI/media/38547962/content/dc-metro/rg-026/559642/2017-01/storis-wmec-38-1957-logbooks/storis-wmec-38-1957-logbooks_0134.JPG HTTP/1.1\\r\\nHost: catalog.archives.gov\\r\\nUser-Agent: python-requests/2.21.0\\r\\nAccept-Encoding: gzip, deflate\\r\\nAccept: */*\\r\\nConnection: keep-alive\\r\\n\\r\\n'\n"
     ]
    },
    {
     "name": "stderr",
     "output_type": "stream",
     "text": [
      "DEBUG:urllib3.connectionpool:https://catalog.archives.gov:443 \"GET /OpaAPI/media/38547962/content/dc-metro/rg-026/559642/2017-01/storis-wmec-38-1957-logbooks/storis-wmec-38-1957-logbooks_0134.JPG HTTP/1.1\" 200 None\n"
     ]
    },
    {
     "name": "stdout",
     "output_type": "stream",
     "text": [
      "reply: 'HTTP/1.1 200 OK\\r\\n'\n",
      "header: Access-Control-Allow-Credentials: true\n",
      "header: Access-Control-Allow-Methods: DELETE, HEAD, GET, OPTION, POST, PUT\n",
      "header: Access-Control-Expose-Headers: JSESSIONID\n",
      "header: Access-Control-Max-Age: 3600\n",
      "header: BALANCER_NAME: (null)\n",
      "header: BALANCER_ROUTE_CHANGED: 1\n",
      "header: BALANCER_SESSION_ROUTE: (null)\n",
      "header: BALANCER_SESSION_STICKY: (null)\n",
      "header: BALANCER_WORKER_NAME: ajp://pa02.aws.nac.nara.gov:8009/OpaAPI\n",
      "header: BALANCER_WORKER_ROUTE: pa02\n",
      "header: Cache-Control: no-store, no-cache\n",
      "header: Content-Type: image/jpeg;charset=UTF-8\n",
      "header: Date: Tue, 14 Jan 2020 00:53:12 GMT\n",
      "header: hnweb: pw04\n",
      "header: Pragma: no-cache\n",
      "header: Server: Apache\n",
      "header: Strict-Transport-Security: max-age=31536000; includeSubDomains; preload\n",
      "header: transfer-encoding: chunked\n",
      "header: Connection: keep-alive\n"
     ]
    },
    {
     "name": "stderr",
     "output_type": "stream",
     "text": [
      "DEBUG:urllib3.connectionpool:Starting new HTTPS connection (1): catalog.archives.gov:443\n"
     ]
    },
    {
     "name": "stdout",
     "output_type": "stream",
     "text": [
      "send: b'GET /OpaAPI/media/38547962/content/dc-metro/rg-026/559642/2017-01/storis-wmec-38-1957-logbooks/storis-wmec-38-1957-logbooks_0135.JPG HTTP/1.1\\r\\nHost: catalog.archives.gov\\r\\nUser-Agent: python-requests/2.21.0\\r\\nAccept-Encoding: gzip, deflate\\r\\nAccept: */*\\r\\nConnection: keep-alive\\r\\n\\r\\n'\n"
     ]
    },
    {
     "name": "stderr",
     "output_type": "stream",
     "text": [
      "DEBUG:urllib3.connectionpool:https://catalog.archives.gov:443 \"GET /OpaAPI/media/38547962/content/dc-metro/rg-026/559642/2017-01/storis-wmec-38-1957-logbooks/storis-wmec-38-1957-logbooks_0135.JPG HTTP/1.1\" 200 None\n"
     ]
    },
    {
     "name": "stdout",
     "output_type": "stream",
     "text": [
      "reply: 'HTTP/1.1 200 OK\\r\\n'\n",
      "header: Access-Control-Allow-Credentials: true\n",
      "header: Access-Control-Allow-Methods: DELETE, HEAD, GET, OPTION, POST, PUT\n",
      "header: Access-Control-Expose-Headers: JSESSIONID\n",
      "header: Access-Control-Max-Age: 3600\n",
      "header: BALANCER_NAME: (null)\n",
      "header: BALANCER_ROUTE_CHANGED: 1\n",
      "header: BALANCER_SESSION_ROUTE: (null)\n",
      "header: BALANCER_SESSION_STICKY: (null)\n",
      "header: BALANCER_WORKER_NAME: ajp://pa03.aws.nac.nara.gov:8009/OpaAPI\n",
      "header: BALANCER_WORKER_ROUTE: pa03\n",
      "header: Cache-Control: no-store, no-cache\n",
      "header: Content-Type: image/jpeg;charset=UTF-8\n",
      "header: Date: Tue, 14 Jan 2020 00:53:13 GMT\n",
      "header: hnweb: pw04\n",
      "header: Pragma: no-cache\n",
      "header: Server: Apache\n",
      "header: Strict-Transport-Security: max-age=31536000; includeSubDomains; preload\n",
      "header: transfer-encoding: chunked\n",
      "header: Connection: keep-alive\n"
     ]
    },
    {
     "name": "stderr",
     "output_type": "stream",
     "text": [
      "DEBUG:urllib3.connectionpool:Starting new HTTPS connection (1): catalog.archives.gov:443\n"
     ]
    },
    {
     "name": "stdout",
     "output_type": "stream",
     "text": [
      "send: b'GET /OpaAPI/media/38547962/content/dc-metro/rg-026/559642/2017-01/storis-wmec-38-1957-logbooks/storis-wmec-38-1957-logbooks_0136.JPG HTTP/1.1\\r\\nHost: catalog.archives.gov\\r\\nUser-Agent: python-requests/2.21.0\\r\\nAccept-Encoding: gzip, deflate\\r\\nAccept: */*\\r\\nConnection: keep-alive\\r\\n\\r\\n'\n"
     ]
    },
    {
     "name": "stderr",
     "output_type": "stream",
     "text": [
      "DEBUG:urllib3.connectionpool:https://catalog.archives.gov:443 \"GET /OpaAPI/media/38547962/content/dc-metro/rg-026/559642/2017-01/storis-wmec-38-1957-logbooks/storis-wmec-38-1957-logbooks_0136.JPG HTTP/1.1\" 200 None\n"
     ]
    },
    {
     "name": "stdout",
     "output_type": "stream",
     "text": [
      "reply: 'HTTP/1.1 200 OK\\r\\n'\n",
      "header: Access-Control-Allow-Credentials: true\n",
      "header: Access-Control-Allow-Methods: DELETE, HEAD, GET, OPTION, POST, PUT\n",
      "header: Access-Control-Expose-Headers: JSESSIONID\n",
      "header: Access-Control-Max-Age: 3600\n",
      "header: BALANCER_NAME: (null)\n",
      "header: BALANCER_ROUTE_CHANGED: 1\n",
      "header: BALANCER_SESSION_ROUTE: (null)\n",
      "header: BALANCER_SESSION_STICKY: (null)\n",
      "header: BALANCER_WORKER_NAME: ajp://pa04.aws.nac.nara.gov:8009/OpaAPI\n",
      "header: BALANCER_WORKER_ROUTE: pa04\n",
      "header: Cache-Control: no-store, no-cache\n",
      "header: Content-Type: image/jpeg;charset=UTF-8\n",
      "header: Date: Tue, 14 Jan 2020 00:53:15 GMT\n",
      "header: hnweb: pw03\n",
      "header: Pragma: no-cache\n",
      "header: Server: Apache/2.4.6 (Red Hat)\n",
      "header: Strict-Transport-Security: max-age=31536000; includeSubDomains; preload\n",
      "header: transfer-encoding: chunked\n",
      "header: Connection: keep-alive\n"
     ]
    },
    {
     "name": "stderr",
     "output_type": "stream",
     "text": [
      "DEBUG:urllib3.connectionpool:Starting new HTTPS connection (1): catalog.archives.gov:443\n",
      "DEBUG:urllib3.connectionpool:https://catalog.archives.gov:443 \"GET /OpaAPI/media/38547962/content/dc-metro/rg-026/559642/2017-01/storis-wmec-38-1957-logbooks/storis-wmec-38-1957-logbooks_0137.JPG HTTP/1.1\" 200 None\n"
     ]
    },
    {
     "name": "stdout",
     "output_type": "stream",
     "text": [
      "send: b'GET /OpaAPI/media/38547962/content/dc-metro/rg-026/559642/2017-01/storis-wmec-38-1957-logbooks/storis-wmec-38-1957-logbooks_0137.JPG HTTP/1.1\\r\\nHost: catalog.archives.gov\\r\\nUser-Agent: python-requests/2.21.0\\r\\nAccept-Encoding: gzip, deflate\\r\\nAccept: */*\\r\\nConnection: keep-alive\\r\\n\\r\\n'\n",
      "reply: 'HTTP/1.1 200 OK\\r\\n'\n",
      "header: Access-Control-Allow-Credentials: true\n",
      "header: Access-Control-Allow-Methods: DELETE, HEAD, GET, OPTION, POST, PUT\n",
      "header: Access-Control-Expose-Headers: JSESSIONID\n",
      "header: Access-Control-Max-Age: 3600\n",
      "header: BALANCER_NAME: (null)\n",
      "header: BALANCER_ROUTE_CHANGED: 1\n",
      "header: BALANCER_SESSION_ROUTE: (null)\n",
      "header: BALANCER_SESSION_STICKY: (null)\n",
      "header: BALANCER_WORKER_NAME: ajp://pa02.aws.nac.nara.gov:8009/OpaAPI\n",
      "header: BALANCER_WORKER_ROUTE: pa02\n",
      "header: Cache-Control: no-store, no-cache\n",
      "header: Content-Type: image/jpeg;charset=UTF-8\n",
      "header: Date: Tue, 14 Jan 2020 00:53:17 GMT\n",
      "header: hnweb: pw03\n",
      "header: Pragma: no-cache\n",
      "header: Server: Apache/2.4.6 (Red Hat)\n",
      "header: Strict-Transport-Security: max-age=31536000; includeSubDomains; preload\n",
      "header: transfer-encoding: chunked\n",
      "header: Connection: keep-alive\n"
     ]
    },
    {
     "name": "stderr",
     "output_type": "stream",
     "text": [
      "DEBUG:urllib3.connectionpool:Starting new HTTPS connection (1): catalog.archives.gov:443\n"
     ]
    },
    {
     "name": "stdout",
     "output_type": "stream",
     "text": [
      "send: b'GET /OpaAPI/media/38547962/content/dc-metro/rg-026/559642/2017-01/storis-wmec-38-1957-logbooks/storis-wmec-38-1957-logbooks_0138.JPG HTTP/1.1\\r\\nHost: catalog.archives.gov\\r\\nUser-Agent: python-requests/2.21.0\\r\\nAccept-Encoding: gzip, deflate\\r\\nAccept: */*\\r\\nConnection: keep-alive\\r\\n\\r\\n'\n"
     ]
    },
    {
     "name": "stderr",
     "output_type": "stream",
     "text": [
      "DEBUG:urllib3.connectionpool:https://catalog.archives.gov:443 \"GET /OpaAPI/media/38547962/content/dc-metro/rg-026/559642/2017-01/storis-wmec-38-1957-logbooks/storis-wmec-38-1957-logbooks_0138.JPG HTTP/1.1\" 200 None\n"
     ]
    },
    {
     "name": "stdout",
     "output_type": "stream",
     "text": [
      "reply: 'HTTP/1.1 200 OK\\r\\n'\n",
      "header: Access-Control-Allow-Credentials: true\n",
      "header: Access-Control-Allow-Methods: DELETE, HEAD, GET, OPTION, POST, PUT\n",
      "header: Access-Control-Expose-Headers: JSESSIONID\n",
      "header: Access-Control-Max-Age: 3600\n",
      "header: BALANCER_NAME: (null)\n",
      "header: BALANCER_ROUTE_CHANGED: 1\n",
      "header: BALANCER_SESSION_ROUTE: (null)\n",
      "header: BALANCER_SESSION_STICKY: (null)\n",
      "header: BALANCER_WORKER_NAME: ajp://pa02.aws.nac.nara.gov:8009/OpaAPI\n",
      "header: BALANCER_WORKER_ROUTE: pa02\n",
      "header: Cache-Control: no-store, no-cache\n",
      "header: Content-Type: image/jpeg;charset=UTF-8\n",
      "header: Date: Tue, 14 Jan 2020 00:53:19 GMT\n",
      "header: hnweb: pw02\n",
      "header: Pragma: no-cache\n",
      "header: Server: Apache\n",
      "header: Strict-Transport-Security: max-age=31536000; includeSubDomains; preload\n",
      "header: transfer-encoding: chunked\n",
      "header: Connection: keep-alive\n"
     ]
    },
    {
     "name": "stderr",
     "output_type": "stream",
     "text": [
      "DEBUG:urllib3.connectionpool:Starting new HTTPS connection (1): catalog.archives.gov:443\n"
     ]
    },
    {
     "name": "stdout",
     "output_type": "stream",
     "text": [
      "send: b'GET /OpaAPI/media/38547962/content/dc-metro/rg-026/559642/2017-01/storis-wmec-38-1957-logbooks/storis-wmec-38-1957-logbooks_0139.JPG HTTP/1.1\\r\\nHost: catalog.archives.gov\\r\\nUser-Agent: python-requests/2.21.0\\r\\nAccept-Encoding: gzip, deflate\\r\\nAccept: */*\\r\\nConnection: keep-alive\\r\\n\\r\\n'\n"
     ]
    },
    {
     "name": "stderr",
     "output_type": "stream",
     "text": [
      "DEBUG:urllib3.connectionpool:https://catalog.archives.gov:443 \"GET /OpaAPI/media/38547962/content/dc-metro/rg-026/559642/2017-01/storis-wmec-38-1957-logbooks/storis-wmec-38-1957-logbooks_0139.JPG HTTP/1.1\" 200 None\n"
     ]
    },
    {
     "name": "stdout",
     "output_type": "stream",
     "text": [
      "reply: 'HTTP/1.1 200 OK\\r\\n'\n",
      "header: Access-Control-Allow-Credentials: true\n",
      "header: Access-Control-Allow-Methods: DELETE, HEAD, GET, OPTION, POST, PUT\n",
      "header: Access-Control-Expose-Headers: JSESSIONID\n",
      "header: Access-Control-Max-Age: 3600\n",
      "header: BALANCER_NAME: (null)\n",
      "header: BALANCER_ROUTE_CHANGED: 1\n",
      "header: BALANCER_SESSION_ROUTE: (null)\n",
      "header: BALANCER_SESSION_STICKY: (null)\n",
      "header: BALANCER_WORKER_NAME: ajp://pa04.aws.nac.nara.gov:8009/OpaAPI\n",
      "header: BALANCER_WORKER_ROUTE: pa04\n",
      "header: Cache-Control: no-store, no-cache\n",
      "header: Content-Type: image/jpeg;charset=UTF-8\n",
      "header: Date: Tue, 14 Jan 2020 00:53:20 GMT\n",
      "header: hnweb: pw03\n",
      "header: Pragma: no-cache\n",
      "header: Server: Apache/2.4.6 (Red Hat)\n",
      "header: Strict-Transport-Security: max-age=31536000; includeSubDomains; preload\n",
      "header: transfer-encoding: chunked\n",
      "header: Connection: keep-alive\n"
     ]
    },
    {
     "name": "stderr",
     "output_type": "stream",
     "text": [
      "DEBUG:urllib3.connectionpool:Starting new HTTPS connection (1): catalog.archives.gov:443\n"
     ]
    },
    {
     "name": "stdout",
     "output_type": "stream",
     "text": [
      "send: b'GET /OpaAPI/media/38547962/content/dc-metro/rg-026/559642/2017-01/storis-wmec-38-1957-logbooks/storis-wmec-38-1957-logbooks_0140.JPG HTTP/1.1\\r\\nHost: catalog.archives.gov\\r\\nUser-Agent: python-requests/2.21.0\\r\\nAccept-Encoding: gzip, deflate\\r\\nAccept: */*\\r\\nConnection: keep-alive\\r\\n\\r\\n'\n"
     ]
    },
    {
     "name": "stderr",
     "output_type": "stream",
     "text": [
      "DEBUG:urllib3.connectionpool:https://catalog.archives.gov:443 \"GET /OpaAPI/media/38547962/content/dc-metro/rg-026/559642/2017-01/storis-wmec-38-1957-logbooks/storis-wmec-38-1957-logbooks_0140.JPG HTTP/1.1\" 200 None\n"
     ]
    },
    {
     "name": "stdout",
     "output_type": "stream",
     "text": [
      "reply: 'HTTP/1.1 200 OK\\r\\n'\n",
      "header: Access-Control-Allow-Credentials: true\n",
      "header: Access-Control-Allow-Methods: DELETE, HEAD, GET, OPTION, POST, PUT\n",
      "header: Access-Control-Expose-Headers: JSESSIONID\n",
      "header: Access-Control-Max-Age: 3600\n",
      "header: BALANCER_NAME: (null)\n",
      "header: BALANCER_ROUTE_CHANGED: 1\n",
      "header: BALANCER_SESSION_ROUTE: (null)\n",
      "header: BALANCER_SESSION_STICKY: (null)\n",
      "header: BALANCER_WORKER_NAME: ajp://pa04.aws.nac.nara.gov:8009/OpaAPI\n",
      "header: BALANCER_WORKER_ROUTE: pa04\n",
      "header: Cache-Control: no-store, no-cache\n",
      "header: Content-Type: image/jpeg;charset=UTF-8\n",
      "header: Date: Tue, 14 Jan 2020 00:53:22 GMT\n",
      "header: hnweb: pw02\n",
      "header: Pragma: no-cache\n",
      "header: Server: Apache\n",
      "header: Strict-Transport-Security: max-age=31536000; includeSubDomains; preload\n",
      "header: transfer-encoding: chunked\n",
      "header: Connection: keep-alive\n"
     ]
    },
    {
     "name": "stderr",
     "output_type": "stream",
     "text": [
      "DEBUG:urllib3.connectionpool:Starting new HTTPS connection (1): catalog.archives.gov:443\n"
     ]
    },
    {
     "name": "stdout",
     "output_type": "stream",
     "text": [
      "send: b'GET /OpaAPI/media/38547962/content/dc-metro/rg-026/559642/2017-01/storis-wmec-38-1957-logbooks/storis-wmec-38-1957-logbooks_0141.JPG HTTP/1.1\\r\\nHost: catalog.archives.gov\\r\\nUser-Agent: python-requests/2.21.0\\r\\nAccept-Encoding: gzip, deflate\\r\\nAccept: */*\\r\\nConnection: keep-alive\\r\\n\\r\\n'\n"
     ]
    },
    {
     "name": "stderr",
     "output_type": "stream",
     "text": [
      "DEBUG:urllib3.connectionpool:https://catalog.archives.gov:443 \"GET /OpaAPI/media/38547962/content/dc-metro/rg-026/559642/2017-01/storis-wmec-38-1957-logbooks/storis-wmec-38-1957-logbooks_0141.JPG HTTP/1.1\" 200 None\n"
     ]
    },
    {
     "name": "stdout",
     "output_type": "stream",
     "text": [
      "reply: 'HTTP/1.1 200 OK\\r\\n'\n",
      "header: Access-Control-Allow-Credentials: true\n",
      "header: Access-Control-Allow-Methods: DELETE, HEAD, GET, OPTION, POST, PUT\n",
      "header: Access-Control-Expose-Headers: JSESSIONID\n",
      "header: Access-Control-Max-Age: 3600\n",
      "header: BALANCER_NAME: (null)\n",
      "header: BALANCER_ROUTE_CHANGED: 1\n",
      "header: BALANCER_SESSION_ROUTE: (null)\n",
      "header: BALANCER_SESSION_STICKY: (null)\n",
      "header: BALANCER_WORKER_NAME: ajp://pa04.aws.nac.nara.gov:8009/OpaAPI\n",
      "header: BALANCER_WORKER_ROUTE: pa04\n",
      "header: Cache-Control: no-store, no-cache\n",
      "header: Content-Type: image/jpeg;charset=UTF-8\n",
      "header: Date: Tue, 14 Jan 2020 00:53:24 GMT\n",
      "header: hnweb: pw04\n",
      "header: Pragma: no-cache\n",
      "header: Server: Apache\n",
      "header: Strict-Transport-Security: max-age=31536000; includeSubDomains; preload\n",
      "header: transfer-encoding: chunked\n",
      "header: Connection: keep-alive\n"
     ]
    },
    {
     "name": "stderr",
     "output_type": "stream",
     "text": [
      "DEBUG:urllib3.connectionpool:Starting new HTTPS connection (1): catalog.archives.gov:443\n"
     ]
    },
    {
     "name": "stdout",
     "output_type": "stream",
     "text": [
      "send: b'GET /OpaAPI/media/38547962/content/dc-metro/rg-026/559642/2017-01/storis-wmec-38-1957-logbooks/storis-wmec-38-1957-logbooks_0142.JPG HTTP/1.1\\r\\nHost: catalog.archives.gov\\r\\nUser-Agent: python-requests/2.21.0\\r\\nAccept-Encoding: gzip, deflate\\r\\nAccept: */*\\r\\nConnection: keep-alive\\r\\n\\r\\n'\n"
     ]
    },
    {
     "name": "stderr",
     "output_type": "stream",
     "text": [
      "DEBUG:urllib3.connectionpool:https://catalog.archives.gov:443 \"GET /OpaAPI/media/38547962/content/dc-metro/rg-026/559642/2017-01/storis-wmec-38-1957-logbooks/storis-wmec-38-1957-logbooks_0142.JPG HTTP/1.1\" 200 None\n"
     ]
    },
    {
     "name": "stdout",
     "output_type": "stream",
     "text": [
      "reply: 'HTTP/1.1 200 OK\\r\\n'\n",
      "header: Access-Control-Allow-Credentials: true\n",
      "header: Access-Control-Allow-Methods: DELETE, HEAD, GET, OPTION, POST, PUT\n",
      "header: Access-Control-Expose-Headers: JSESSIONID\n",
      "header: Access-Control-Max-Age: 3600\n",
      "header: BALANCER_NAME: (null)\n",
      "header: BALANCER_ROUTE_CHANGED: 1\n",
      "header: BALANCER_SESSION_ROUTE: (null)\n",
      "header: BALANCER_SESSION_STICKY: (null)\n",
      "header: BALANCER_WORKER_NAME: ajp://pa04.aws.nac.nara.gov:8009/OpaAPI\n",
      "header: BALANCER_WORKER_ROUTE: pa04\n",
      "header: Cache-Control: no-store, no-cache\n",
      "header: Content-Type: image/jpeg;charset=UTF-8\n",
      "header: Date: Tue, 14 Jan 2020 00:53:26 GMT\n",
      "header: hnweb: pw01\n",
      "header: Pragma: no-cache\n",
      "header: Server: Apache/2.4.6 (Red Hat)\n",
      "header: Strict-Transport-Security: max-age=31536000; includeSubDomains; preload\n",
      "header: transfer-encoding: chunked\n",
      "header: Connection: keep-alive\n"
     ]
    },
    {
     "name": "stderr",
     "output_type": "stream",
     "text": [
      "DEBUG:urllib3.connectionpool:Starting new HTTPS connection (1): catalog.archives.gov:443\n"
     ]
    },
    {
     "name": "stdout",
     "output_type": "stream",
     "text": [
      "send: b'GET /OpaAPI/media/38547962/content/dc-metro/rg-026/559642/2017-01/storis-wmec-38-1957-logbooks/storis-wmec-38-1957-logbooks_0143.JPG HTTP/1.1\\r\\nHost: catalog.archives.gov\\r\\nUser-Agent: python-requests/2.21.0\\r\\nAccept-Encoding: gzip, deflate\\r\\nAccept: */*\\r\\nConnection: keep-alive\\r\\n\\r\\n'\n"
     ]
    },
    {
     "name": "stderr",
     "output_type": "stream",
     "text": [
      "DEBUG:urllib3.connectionpool:https://catalog.archives.gov:443 \"GET /OpaAPI/media/38547962/content/dc-metro/rg-026/559642/2017-01/storis-wmec-38-1957-logbooks/storis-wmec-38-1957-logbooks_0143.JPG HTTP/1.1\" 200 None\n"
     ]
    },
    {
     "name": "stdout",
     "output_type": "stream",
     "text": [
      "reply: 'HTTP/1.1 200 OK\\r\\n'\n",
      "header: Access-Control-Allow-Credentials: true\n",
      "header: Access-Control-Allow-Methods: DELETE, HEAD, GET, OPTION, POST, PUT\n",
      "header: Access-Control-Expose-Headers: JSESSIONID\n",
      "header: Access-Control-Max-Age: 3600\n",
      "header: BALANCER_NAME: (null)\n",
      "header: BALANCER_ROUTE_CHANGED: 1\n",
      "header: BALANCER_SESSION_ROUTE: (null)\n",
      "header: BALANCER_SESSION_STICKY: (null)\n",
      "header: BALANCER_WORKER_NAME: ajp://pa04.aws.nac.nara.gov:8009/OpaAPI\n",
      "header: BALANCER_WORKER_ROUTE: pa04\n",
      "header: Cache-Control: no-store, no-cache\n",
      "header: Content-Type: image/jpeg;charset=UTF-8\n",
      "header: Date: Tue, 14 Jan 2020 00:53:27 GMT\n",
      "header: hnweb: pw02\n",
      "header: Pragma: no-cache\n",
      "header: Server: Apache\n",
      "header: Strict-Transport-Security: max-age=31536000; includeSubDomains; preload\n",
      "header: transfer-encoding: chunked\n",
      "header: Connection: keep-alive\n"
     ]
    },
    {
     "name": "stderr",
     "output_type": "stream",
     "text": [
      "DEBUG:urllib3.connectionpool:Starting new HTTPS connection (1): catalog.archives.gov:443\n"
     ]
    },
    {
     "name": "stdout",
     "output_type": "stream",
     "text": [
      "send: b'GET /OpaAPI/media/38547962/content/dc-metro/rg-026/559642/2017-01/storis-wmec-38-1957-logbooks/storis-wmec-38-1957-logbooks_0144.JPG HTTP/1.1\\r\\nHost: catalog.archives.gov\\r\\nUser-Agent: python-requests/2.21.0\\r\\nAccept-Encoding: gzip, deflate\\r\\nAccept: */*\\r\\nConnection: keep-alive\\r\\n\\r\\n'\n"
     ]
    },
    {
     "name": "stderr",
     "output_type": "stream",
     "text": [
      "DEBUG:urllib3.connectionpool:https://catalog.archives.gov:443 \"GET /OpaAPI/media/38547962/content/dc-metro/rg-026/559642/2017-01/storis-wmec-38-1957-logbooks/storis-wmec-38-1957-logbooks_0144.JPG HTTP/1.1\" 200 None\n"
     ]
    },
    {
     "name": "stdout",
     "output_type": "stream",
     "text": [
      "reply: 'HTTP/1.1 200 OK\\r\\n'\n",
      "header: Access-Control-Allow-Credentials: true\n",
      "header: Access-Control-Allow-Methods: DELETE, HEAD, GET, OPTION, POST, PUT\n",
      "header: Access-Control-Expose-Headers: JSESSIONID\n",
      "header: Access-Control-Max-Age: 3600\n",
      "header: BALANCER_NAME: (null)\n",
      "header: BALANCER_ROUTE_CHANGED: 1\n",
      "header: BALANCER_SESSION_ROUTE: (null)\n",
      "header: BALANCER_SESSION_STICKY: (null)\n",
      "header: BALANCER_WORKER_NAME: ajp://pa01.aws.nac.nara.gov:8009/OpaAPI\n",
      "header: BALANCER_WORKER_ROUTE: pa01\n",
      "header: Cache-Control: no-store, no-cache\n",
      "header: Content-Type: image/jpeg;charset=UTF-8\n",
      "header: Date: Tue, 14 Jan 2020 00:53:35 GMT\n",
      "header: hnweb: pw04\n",
      "header: Pragma: no-cache\n",
      "header: Server: Apache\n",
      "header: Strict-Transport-Security: max-age=31536000; includeSubDomains; preload\n",
      "header: transfer-encoding: chunked\n",
      "header: Connection: keep-alive\n"
     ]
    },
    {
     "name": "stderr",
     "output_type": "stream",
     "text": [
      "DEBUG:urllib3.connectionpool:Starting new HTTPS connection (1): catalog.archives.gov:443\n"
     ]
    },
    {
     "name": "stdout",
     "output_type": "stream",
     "text": [
      "send: b'GET /OpaAPI/media/38547962/content/dc-metro/rg-026/559642/2017-01/storis-wmec-38-1957-logbooks/storis-wmec-38-1957-logbooks_0145.JPG HTTP/1.1\\r\\nHost: catalog.archives.gov\\r\\nUser-Agent: python-requests/2.21.0\\r\\nAccept-Encoding: gzip, deflate\\r\\nAccept: */*\\r\\nConnection: keep-alive\\r\\n\\r\\n'\n"
     ]
    },
    {
     "name": "stderr",
     "output_type": "stream",
     "text": [
      "DEBUG:urllib3.connectionpool:https://catalog.archives.gov:443 \"GET /OpaAPI/media/38547962/content/dc-metro/rg-026/559642/2017-01/storis-wmec-38-1957-logbooks/storis-wmec-38-1957-logbooks_0145.JPG HTTP/1.1\" 200 None\n"
     ]
    },
    {
     "name": "stdout",
     "output_type": "stream",
     "text": [
      "reply: 'HTTP/1.1 200 OK\\r\\n'\n",
      "header: Access-Control-Allow-Credentials: true\n",
      "header: Access-Control-Allow-Methods: DELETE, HEAD, GET, OPTION, POST, PUT\n",
      "header: Access-Control-Expose-Headers: JSESSIONID\n",
      "header: Access-Control-Max-Age: 3600\n",
      "header: BALANCER_NAME: (null)\n",
      "header: BALANCER_ROUTE_CHANGED: 1\n",
      "header: BALANCER_SESSION_ROUTE: (null)\n",
      "header: BALANCER_SESSION_STICKY: (null)\n",
      "header: BALANCER_WORKER_NAME: ajp://pa04.aws.nac.nara.gov:8009/OpaAPI\n",
      "header: BALANCER_WORKER_ROUTE: pa04\n",
      "header: Cache-Control: no-store, no-cache\n",
      "header: Content-Type: image/jpeg;charset=UTF-8\n",
      "header: Date: Tue, 14 Jan 2020 00:53:38 GMT\n",
      "header: hnweb: pw04\n",
      "header: Pragma: no-cache\n",
      "header: Server: Apache\n",
      "header: Strict-Transport-Security: max-age=31536000; includeSubDomains; preload\n",
      "header: transfer-encoding: chunked\n",
      "header: Connection: keep-alive\n"
     ]
    }
   ],
   "source": [
    "import requests\n",
    "import logging\n",
    "import http.client\n",
    "\n",
    "# To set up logging.\n",
    "# https://stackoverflow.com/questions/16337511/\n",
    "http.client.HTTPConnection.debuglevel = 1\n",
    "logging.basicConfig()\n",
    "logging.getLogger().setLevel(logging.DEBUG)\n",
    "requests_log = logging.getLogger(\"requests.packages.urllib3\")\n",
    "requests_log.setLevel(logging.DEBUG)\n",
    "requests_log.propagate = True\n",
    "\n",
    "# To access the NARA API for images of the USCG Storis' 1957 logbook.\n",
    "nara_id = \"38547962\"\n",
    "api_base = 'https://catalog.archives.gov/api/v1/'\n",
    "api_url = '{0}?naIds={1}'.format(api_base, nara_id)\n",
    "res = requests.get(api_url)\n",
    "\n",
    "# To parse the NARA API output for metadata.\n",
    "entry_img_array = res.json().get('opaResponse').get('results').get('result')[0].get('objects').get('object')\n",
    "digital_directory = entry_img_array[0].get('file').get('@path').split(\"/\")[-2]\n",
    "\n",
    "# To write the NARA API output to file for reference.\n",
    "api_output = \"{0}/nara_id_{1}.json\".format(data, digital_directory, nara_id)\n",
    "if res.status_code == 200:\n",
    "    with open(api_output, 'wb') as f:\n",
    "        f.write(res.content)\n",
    "\n",
    "# To download images of 40 pages of the Storis' logbooks.\n",
    "for img_info in entry_img_array: \n",
    "\n",
    "    # We test for mimetype \"image/jpeg\"---we don't want to download any files\n",
    "    # with mimetype \"application/pdf\".\n",
    "    if img_info.get('file').get('@mime') == \"image/jpeg\":\n",
    "\n",
    "        img_name = img_info.get('file').get('@name')\n",
    "        img_url = img_info.get('file').get('@url')\n",
    "        img_res = requests.get(img_url)\n",
    "\n",
    "        # To write a single image to file.\n",
    "        local_img_name = \"{0}/{1}\".format(data, img_name)\n",
    "        if img_res.status_code == 200:\n",
    "            with open(local_img_name, 'wb') as img_f:\n",
    "                img_f.write(img_res.content)"
   ]
  },
  {
   "cell_type": "markdown",
   "metadata": {},
   "source": [
    "Let's write a metadata tagfile in the \"data\" subdirectory with the minimal\n",
    "required metadata for the sample of images."
   ]
  },
  {
   "cell_type": "code",
   "execution_count": 3,
   "metadata": {
    "attributes": {
     "classes": [],
     "id": "",
     "n": "52"
    }
   },
   "outputs": [],
   "source": [
    "import csv\n",
    "\n",
    "with open(os.path.join(data, 'metadata.csv'), mode='w') as metadata_file:\n",
    "    metadata_writer = csv.writer(metadata_file, delimiter=',', quotechar='\"', quoting=csv.QUOTE_MINIMAL)\n",
    "    \n",
    "    metadata_writer.writerow(['archive.host_country', 'USA'])\n",
    "    metadata_writer.writerow(['document.contact_person', 'Kevin Wood'])\n",
    "    metadata_writer.writerow(['archive.notes', 'Images available via API at https://catalog.archives.gov/api/v1/38547962'])\n",
    "    metadata_writer.writerow(['platform.name', 'USCG Storis'])\n",
    "    metadata_writer.writerow(['document.id_within_archive', '38547962'])\n",
    "    metadata_writer.writerow(['document.id_within_archive_type', 'NARA ID'])\n",
    "    metadata_writer.writerow(['document.record_type', \"ships' logs\"])\n",
    "    metadata_writer.writerow(['document.accession_to_archive_date', '2016-08-19'])\n",
    "    metadata_writer.writerow(['document.standardized_region_list', 'north_atlantic'])\n",
    "    metadata_writer.writerow(['document.start_date', '1957-06-09'])\n",
    "    metadata_writer.writerow(['document.start_date', '1957-09-30'])\n",
    "    metadata_writer.writerow(['document.rights_statement', 'CC0 Public Domain'])\n",
    "    metadata_writer.writerow(['document.notes', ''])"
   ]
  },
  {
   "cell_type": "markdown",
   "metadata": {},
   "source": [
    "During ingest we'll associate the above metadata to the 20 samples images. In\n",
    "practice, any `.csv` file in the `data` subdirectory will be parsed as a\n",
    "metadata tagefile. For example, the tagfile `metadata.csv` provides metadata for\n",
    "images in the same directory `uscg-storis/data` as itself and in all\n",
    "subdirectory below itself. \n",
    "\n",
    "To enable users to provide \"hierarchical\" metadata,\n",
    "the information in a tagfile from a subdirectory has precendence over any\n",
    "tagfiles from parent directories. (The idea is to provide the *most specific\n",
    "metadata* for images in the same directory as the images themselves, while\n",
    "parent directories might provide *general metadata* for a whole collection of\n",
    "images.)\n",
    "\n",
    "Here's what the tagfile we created looks like."
   ]
  },
  {
   "cell_type": "code",
   "execution_count": 11,
   "metadata": {
    "attributes": {
     "classes": [],
     "id": "",
     "n": "53"
    }
   },
   "outputs": [
    {
     "data": {
      "text/html": [
       "<div>\n",
       "<style scoped>\n",
       "    .dataframe tbody tr th:only-of-type {\n",
       "        vertical-align: middle;\n",
       "    }\n",
       "\n",
       "    .dataframe tbody tr th {\n",
       "        vertical-align: top;\n",
       "    }\n",
       "\n",
       "    .dataframe thead th {\n",
       "        text-align: right;\n",
       "    }\n",
       "</style>\n",
       "<table border=\"1\" class=\"dataframe\">\n",
       "  <thead>\n",
       "    <tr style=\"text-align: right;\">\n",
       "      <th></th>\n",
       "      <th>field</th>\n",
       "      <th>value</th>\n",
       "    </tr>\n",
       "  </thead>\n",
       "  <tbody>\n",
       "    <tr>\n",
       "      <th>0</th>\n",
       "      <td>archive.host_country</td>\n",
       "      <td>USA</td>\n",
       "    </tr>\n",
       "    <tr>\n",
       "      <th>1</th>\n",
       "      <td>document.contact_person</td>\n",
       "      <td>Kevin Wood</td>\n",
       "    </tr>\n",
       "    <tr>\n",
       "      <th>2</th>\n",
       "      <td>archive.notes</td>\n",
       "      <td>Images available via API at https://catalog.ar...</td>\n",
       "    </tr>\n",
       "    <tr>\n",
       "      <th>3</th>\n",
       "      <td>platform.name</td>\n",
       "      <td>USCG Storis</td>\n",
       "    </tr>\n",
       "    <tr>\n",
       "      <th>4</th>\n",
       "      <td>document.id_within_archive</td>\n",
       "      <td>38547962</td>\n",
       "    </tr>\n",
       "    <tr>\n",
       "      <th>5</th>\n",
       "      <td>document.id_within_archive_type</td>\n",
       "      <td>NARA ID</td>\n",
       "    </tr>\n",
       "    <tr>\n",
       "      <th>6</th>\n",
       "      <td>document.record_type</td>\n",
       "      <td>ships' logs</td>\n",
       "    </tr>\n",
       "    <tr>\n",
       "      <th>7</th>\n",
       "      <td>document.accession_to_archive_date</td>\n",
       "      <td>2016-08-19</td>\n",
       "    </tr>\n",
       "    <tr>\n",
       "      <th>8</th>\n",
       "      <td>document.standardized_region_list</td>\n",
       "      <td>north_atlantic</td>\n",
       "    </tr>\n",
       "    <tr>\n",
       "      <th>9</th>\n",
       "      <td>document.start_date</td>\n",
       "      <td>1957-06-09</td>\n",
       "    </tr>\n",
       "    <tr>\n",
       "      <th>10</th>\n",
       "      <td>document.start_date</td>\n",
       "      <td>1957-09-30</td>\n",
       "    </tr>\n",
       "    <tr>\n",
       "      <th>11</th>\n",
       "      <td>document.rights_statement</td>\n",
       "      <td>CC0 Public Domain</td>\n",
       "    </tr>\n",
       "    <tr>\n",
       "      <th>12</th>\n",
       "      <td>document.notes</td>\n",
       "      <td>NaN</td>\n",
       "    </tr>\n",
       "  </tbody>\n",
       "</table>\n",
       "</div>"
      ],
      "text/plain": [
       "                                 field  \\\n",
       "0                 archive.host_country   \n",
       "1              document.contact_person   \n",
       "2                        archive.notes   \n",
       "3                        platform.name   \n",
       "4           document.id_within_archive   \n",
       "5      document.id_within_archive_type   \n",
       "6                 document.record_type   \n",
       "7   document.accession_to_archive_date   \n",
       "8    document.standardized_region_list   \n",
       "9                  document.start_date   \n",
       "10                 document.start_date   \n",
       "11           document.rights_statement   \n",
       "12                      document.notes   \n",
       "\n",
       "                                                value  \n",
       "0                                                 USA  \n",
       "1                                          Kevin Wood  \n",
       "2   Images available via API at https://catalog.ar...  \n",
       "3                                         USCG Storis  \n",
       "4                                            38547962  \n",
       "5                                             NARA ID  \n",
       "6                                         ships' logs  \n",
       "7                                          2016-08-19  \n",
       "8                                      north_atlantic  \n",
       "9                                          1957-06-09  \n",
       "10                                         1957-09-30  \n",
       "11                                  CC0 Public Domain  \n",
       "12                                                NaN  "
      ]
     },
     "execution_count": 11,
     "metadata": {},
     "output_type": "execute_result"
    }
   ],
   "source": [
    "import pandas as pd\n",
    "df = pd.read_csv(os.path.join(data, \"metadata.csv\"), header=None, names=[\"field\", \"value\"])\n",
    "df"
   ]
  },
  {
   "cell_type": "markdown",
   "metadata": {},
   "source": [
    "## Ingesting images\n",
    "\n",
    "First, we'll interactively load \"helper\" functions as defined in the `rdai`\n",
    "module."
   ]
  },
  {
   "cell_type": "code",
   "execution_count": 12,
   "metadata": {
    "attributes": {
     "classes": [],
     "id": "",
     "n": "57"
    }
   },
   "outputs": [],
   "source": [
    "%run -i scripts/utils.py"
   ]
  },
  {
   "cell_type": "markdown",
   "metadata": {},
   "source": [
    "Now, we'll define the global variable `fixed_seq` in order to call `mint_uuid`\n",
    "for each image file."
   ]
  },
  {
   "cell_type": "code",
   "execution_count": 13,
   "metadata": {
    "attributes": {
     "classes": [],
     "id": "",
     "n": "55"
    }
   },
   "outputs": [],
   "source": [
    "# We generate a fixed sequence for uuids.\n",
    "get_fixed_seq()"
   ]
  },
  {
   "cell_type": "markdown",
   "metadata": {},
   "source": [
    "If we're on casper, then we'll need to load python-magic from `rdadata`. Else,\n",
    "we assume the python-magic package has already been installed, e.g., with `pip3\n",
    "install python-magic --user`."
   ]
  },
  {
   "cell_type": "code",
   "execution_count": 8,
   "metadata": {
    "attributes": {
     "classes": [],
     "id": "",
     "n": "58"
    }
   },
   "outputs": [],
   "source": [
    "import sys\n",
    "sys.path.append('/glade/u/home/rdadata/lib/python/site-packages')"
   ]
  },
  {
   "cell_type": "code",
   "execution_count": 9,
   "metadata": {
    "attributes": {
     "classes": [],
     "id": "",
     "n": "66"
    }
   },
   "outputs": [],
   "source": [
    "# get_exiftool()\n",
    "import subprocess\n",
    "repo_dir = subprocess.Popen(['git', 'rev-parse', '--show-toplevel'], stdout=subprocess.PIPE).communicate()[0].rstrip().decode('utf-8')\n",
    "import sys\n",
    "sys.path.append(os.path.join(repo_dir, \"dependencies/pyexiftool\"))\n",
    "import exiftool"
   ]
  },
  {
   "cell_type": "code",
   "execution_count": 17,
   "metadata": {
    "attributes": {
     "classes": [],
     "id": "",
     "n": "67"
    }
   },
   "outputs": [
    {
     "name": "stdout",
     "output_type": "stream",
     "text": [
      "RDAI: Tag EXIF:ImageUniqueID=4ed9a76e366811ea8e2808119645fa1c already exists in file 00_files/data/storis-wmec-38-1957-logbooks_0126.JPG.\n",
      "RDAI: Tag EXIF:ImageUniqueID=4f111cf4366811ea8e2808119645fa1c already exists in file 00_files/data/storis-wmec-38-1957-logbooks_0127.JPG.\n",
      "RDAI: Tag EXIF:ImageUniqueID=4f47a8e6366811ea8e2808119645fa1c already exists in file 00_files/data/storis-wmec-38-1957-logbooks_0128.JPG.\n",
      "RDAI: Tag EXIF:ImageUniqueID=4f8020c2366811ea8e2808119645fa1c already exists in file 00_files/data/storis-wmec-38-1957-logbooks_0129.JPG.\n",
      "RDAI: Tag EXIF:ImageUniqueID=4fb66cd2366811ea8e2808119645fa1c already exists in file 00_files/data/storis-wmec-38-1957-logbooks_0130.JPG.\n",
      "RDAI: Tag EXIF:ImageUniqueID=4fefcfb6366811ea8e2808119645fa1c already exists in file 00_files/data/storis-wmec-38-1957-logbooks_0131.JPG.\n",
      "RDAI: Tag EXIF:ImageUniqueID=5026e75e366811ea8e2808119645fa1c already exists in file 00_files/data/storis-wmec-38-1957-logbooks_0132.JPG.\n",
      "RDAI: Tag EXIF:ImageUniqueID=505fe90a366811ea8e2808119645fa1c already exists in file 00_files/data/storis-wmec-38-1957-logbooks_0133.JPG.\n",
      "RDAI: Tag EXIF:ImageUniqueID=50982694366811ea8e2808119645fa1c already exists in file 00_files/data/storis-wmec-38-1957-logbooks_0134.JPG.\n",
      "RDAI: Tag EXIF:ImageUniqueID=50d6f07a366811ea8e2808119645fa1c already exists in file 00_files/data/storis-wmec-38-1957-logbooks_0135.JPG.\n",
      "RDAI: Tag EXIF:ImageUniqueID=51129990366811ea8e2808119645fa1c already exists in file 00_files/data/storis-wmec-38-1957-logbooks_0136.JPG.\n",
      "RDAI: Tag EXIF:ImageUniqueID=514d5eb8366811ea8e2808119645fa1c already exists in file 00_files/data/storis-wmec-38-1957-logbooks_0137.JPG.\n",
      "RDAI: Tag EXIF:ImageUniqueID=5184d44c366811ea8e2808119645fa1c already exists in file 00_files/data/storis-wmec-38-1957-logbooks_0138.JPG.\n",
      "RDAI: Tag EXIF:ImageUniqueID=51bde8d4366811ea8e2808119645fa1c already exists in file 00_files/data/storis-wmec-38-1957-logbooks_0139.JPG.\n",
      "RDAI: Tag EXIF:ImageUniqueID=51f74be8366811ea8e2808119645fa1c already exists in file 00_files/data/storis-wmec-38-1957-logbooks_0140.JPG.\n",
      "RDAI: Tag EXIF:ImageUniqueID=522edcca366811ea8e2808119645fa1c already exists in file 00_files/data/storis-wmec-38-1957-logbooks_0141.JPG.\n",
      "RDAI: Tag EXIF:ImageUniqueID=5268759e366811ea8e2808119645fa1c already exists in file 00_files/data/storis-wmec-38-1957-logbooks_0142.JPG.\n",
      "RDAI: Tag EXIF:ImageUniqueID=52a1d928366811ea8e2808119645fa1c already exists in file 00_files/data/storis-wmec-38-1957-logbooks_0143.JPG.\n",
      "RDAI: Tag EXIF:ImageUniqueID=52d96f40366811ea8e2808119645fa1c already exists in file 00_files/data/storis-wmec-38-1957-logbooks_0144.JPG.\n",
      "RDAI: Tag EXIF:ImageUniqueID=531294b6366811ea8e2808119645fa1c already exists in file 00_files/data/storis-wmec-38-1957-logbooks_0145.JPG.\n",
      "RDAI: Tag EXIF:ImageUniqueID=531294b6366811ea8e2808119645fa1c already exists in file 00_files/data/tmp/storis-wmec-38-1957-logbooks_0145.JPG.\n"
     ]
    }
   ],
   "source": [
    "normalized_catalog = get_normalized_catalog(data)\n",
    "# We generate a metadata catalog (unnormalized) from the data directory."
   ]
  },
  {
   "cell_type": "code",
   "execution_count": 16,
   "metadata": {},
   "outputs": [
    {
     "name": "stdout",
     "output_type": "stream",
     "text": [
      "\u001b[36m.\u001b[00m\r\n",
      "├── \u001b[36m00_files\u001b[00m\r\n",
      "│   ├── \u001b[36mdata\u001b[00m\r\n",
      "│   │   ├── \u001b[32mmetadata.csv\u001b[00m\r\n",
      "│   │   ├── nara_id_storis-wmec-38-1957-logbooks.json\r\n",
      "│   │   ├── \u001b[33mstoris-wmec-38-1957-logbooks_0126.JPG\u001b[00m\r\n",
      "│   │   ├── \u001b[33mstoris-wmec-38-1957-logbooks_0127.JPG\u001b[00m\r\n",
      "│   │   ├── \u001b[33mstoris-wmec-38-1957-logbooks_0128.JPG\u001b[00m\r\n",
      "│   │   ├── \u001b[33mstoris-wmec-38-1957-logbooks_0129.JPG\u001b[00m\r\n",
      "│   │   ├── \u001b[33mstoris-wmec-38-1957-logbooks_0130.JPG\u001b[00m\r\n",
      "│   │   ├── \u001b[33mstoris-wmec-38-1957-logbooks_0131.JPG\u001b[00m\r\n",
      "│   │   ├── \u001b[33mstoris-wmec-38-1957-logbooks_0132.JPG\u001b[00m\r\n",
      "│   │   ├── \u001b[33mstoris-wmec-38-1957-logbooks_0133.JPG\u001b[00m\r\n",
      "│   │   ├── \u001b[33mstoris-wmec-38-1957-logbooks_0134.JPG\u001b[00m\r\n",
      "│   │   ├── \u001b[33mstoris-wmec-38-1957-logbooks_0135.JPG\u001b[00m\r\n",
      "│   │   ├── \u001b[33mstoris-wmec-38-1957-logbooks_0136.JPG\u001b[00m\r\n",
      "│   │   ├── \u001b[33mstoris-wmec-38-1957-logbooks_0137.JPG\u001b[00m\r\n",
      "│   │   ├── \u001b[33mstoris-wmec-38-1957-logbooks_0138.JPG\u001b[00m\r\n",
      "│   │   ├── \u001b[33mstoris-wmec-38-1957-logbooks_0139.JPG\u001b[00m\r\n",
      "│   │   ├── \u001b[33mstoris-wmec-38-1957-logbooks_0140.JPG\u001b[00m\r\n",
      "│   │   ├── \u001b[33mstoris-wmec-38-1957-logbooks_0141.JPG\u001b[00m\r\n",
      "│   │   ├── \u001b[33mstoris-wmec-38-1957-logbooks_0142.JPG\u001b[00m\r\n",
      "│   │   ├── \u001b[33mstoris-wmec-38-1957-logbooks_0143.JPG\u001b[00m\r\n",
      "│   │   ├── \u001b[33mstoris-wmec-38-1957-logbooks_0144.JPG\u001b[00m\r\n",
      "│   │   ├── \u001b[33mstoris-wmec-38-1957-logbooks_0145.JPG\u001b[00m\r\n",
      "│   │   └── \u001b[36mtmp\u001b[00m\r\n",
      "│   │       ├── \u001b[32mmetadata.csv\u001b[00m\r\n",
      "│   │       └── \u001b[33mstoris-wmec-38-1957-logbooks_0145.JPG\u001b[00m\r\n",
      "│   └── \u001b[36mout\u001b[00m\r\n",
      "│       ├── 2019-12-19-142309-catalog.json\r\n",
      "│       └── 2020-01-13-165348-catalog.json\r\n",
      "├── 00_Introduction_via_USCG_Storis.ipynb\r\n",
      "├── \u001b[36m01_files\u001b[00m\r\n",
      "├── 01_Minimal_Metadata_Guide.ipynb\r\n",
      "├── \u001b[36m02_files\u001b[00m\r\n",
      "├── 02_Preparing_Images_for_the_RDA.ipynb\r\n",
      "├── 03_mySQL_Build_Guide.ipynb\r\n",
      "├── \u001b[36mdependencies\u001b[00m\r\n",
      "│   ├── \u001b[36mexiftool\u001b[00m\r\n",
      "│   │   ├── \u001b[36marg_files\u001b[00m\r\n",
      "│   │   │   ├── exif2iptc.args\r\n",
      "│   │   │   ├── exif2xmp.args\r\n",
      "│   │   │   ├── gps2xmp.args\r\n",
      "│   │   │   ├── iptc2exif.args\r\n",
      "│   │   │   ├── iptc2xmp.args\r\n",
      "│   │   │   ├── iptcCore.args\r\n",
      "│   │   │   ├── pdf2xmp.args\r\n",
      "│   │   │   ├── xmp2exif.args\r\n",
      "│   │   │   ├── xmp2gps.args\r\n",
      "│   │   │   ├── xmp2iptc.args\r\n",
      "│   │   │   └── xmp2pdf.args\r\n",
      "│   │   ├── Changes\r\n",
      "│   │   ├── \u001b[36mconfig_files\u001b[00m\r\n",
      "│   │   │   ├── age.config\r\n",
      "│   │   │   ├── bibble.config\r\n",
      "│   │   │   ├── convert_regions.config\r\n",
      "│   │   │   ├── example.config\r\n",
      "│   │   │   ├── fotoware.config\r\n",
      "│   │   │   ├── gps2utm.config\r\n",
      "│   │   │   ├── nksc.config\r\n",
      "│   │   │   ├── photoshop_paths.config\r\n",
      "│   │   │   ├── picasa_faces.config\r\n",
      "│   │   │   ├── rotate_regions.config\r\n",
      "│   │   │   ├── tiff_version.config\r\n",
      "│   │   │   └── time_zone.config\r\n",
      "│   │   ├── \u001b[01;31mexiftool\u001b[00m\r\n",
      "│   │   ├── \u001b[36mfmt_files\u001b[00m\r\n",
      "│   │   │   ├── gpx.fmt\r\n",
      "│   │   │   ├── gpx_wpt.fmt\r\n",
      "│   │   │   ├── kml.fmt\r\n",
      "│   │   │   └── kml_track.fmt\r\n",
      "│   │   ├── \u001b[36mlib\u001b[00m\r\n",
      "│   │   │   ├── \u001b[36mFile\u001b[00m\r\n",
      "│   │   │   │   ├── \u001b[32mRandomAccess.pm\u001b[00m\r\n",
      "│   │   │   │   └── \u001b[32mRandomAccess.pod\u001b[00m\r\n",
      "│   │   │   └── \u001b[36mImage\u001b[00m\r\n",
      "│   │   │       ├── \u001b[36mExifTool\u001b[00m\r\n",
      "│   │   │       │   ├── \u001b[32mAES.pm\u001b[00m\r\n",
      "│   │   │       │   ├── \u001b[32mAFCP.pm\u001b[00m\r\n",
      "│   │   │       │   ├── \u001b[32mAIFF.pm\u001b[00m\r\n",
      "│   │   │       │   ├── \u001b[32mAPE.pm\u001b[00m\r\n",
      "│   │   │       │   ├── \u001b[32mAPP12.pm\u001b[00m\r\n",
      "│   │   │       │   ├── \u001b[32mApple.pm\u001b[00m\r\n",
      "│   │   │       │   ├── \u001b[32mASF.pm\u001b[00m\r\n",
      "│   │   │       │   ├── \u001b[32mAudible.pm\u001b[00m\r\n",
      "│   │   │       │   ├── \u001b[32mBigTIFF.pm\u001b[00m\r\n",
      "│   │   │       │   ├── \u001b[32mBMP.pm\u001b[00m\r\n",
      "│   │   │       │   ├── \u001b[32mBPG.pm\u001b[00m\r\n",
      "│   │   │       │   ├── \u001b[32mBuildTagLookup.pm\u001b[00m\r\n",
      "│   │   │       │   ├── \u001b[32mBZZ.pm\u001b[00m\r\n",
      "│   │   │       │   ├── \u001b[32mCanonCustom.pm\u001b[00m\r\n",
      "│   │   │       │   ├── \u001b[32mCanon.pm\u001b[00m\r\n",
      "│   │   │       │   ├── \u001b[32mCanonRaw.pm\u001b[00m\r\n",
      "│   │   │       │   ├── \u001b[32mCanonVRD.pm\u001b[00m\r\n",
      "│   │   │       │   ├── \u001b[32mCaptureOne.pm\u001b[00m\r\n",
      "│   │   │       │   ├── \u001b[32mCasio.pm\u001b[00m\r\n",
      "│   │   │       │   ├── \u001b[36mCharset\u001b[00m\r\n",
      "│   │   │       │   │   ├── \u001b[32mArabic.pm\u001b[00m\r\n",
      "│   │   │       │   │   ├── \u001b[32mBaltic.pm\u001b[00m\r\n",
      "│   │   │       │   │   ├── \u001b[32mCyrillic.pm\u001b[00m\r\n",
      "│   │   │       │   │   ├── \u001b[32mDOSLatin1.pm\u001b[00m\r\n",
      "│   │   │       │   │   ├── \u001b[32mDOSLatinUS.pm\u001b[00m\r\n",
      "│   │   │       │   │   ├── \u001b[32mGreek.pm\u001b[00m\r\n",
      "│   │   │       │   │   ├── \u001b[32mHebrew.pm\u001b[00m\r\n",
      "│   │   │       │   │   ├── \u001b[32mJIS.pm\u001b[00m\r\n",
      "│   │   │       │   │   ├── \u001b[32mLatin2.pm\u001b[00m\r\n",
      "│   │   │       │   │   ├── \u001b[32mLatin.pm\u001b[00m\r\n",
      "│   │   │       │   │   ├── \u001b[32mMacArabic.pm\u001b[00m\r\n",
      "│   │   │       │   │   ├── \u001b[32mMacChineseCN.pm\u001b[00m\r\n",
      "│   │   │       │   │   ├── \u001b[32mMacChineseTW.pm\u001b[00m\r\n",
      "│   │   │       │   │   ├── \u001b[32mMacCroatian.pm\u001b[00m\r\n",
      "│   │   │       │   │   ├── \u001b[32mMacCyrillic.pm\u001b[00m\r\n",
      "│   │   │       │   │   ├── \u001b[32mMacGreek.pm\u001b[00m\r\n",
      "│   │   │       │   │   ├── \u001b[32mMacHebrew.pm\u001b[00m\r\n",
      "│   │   │       │   │   ├── \u001b[32mMacIceland.pm\u001b[00m\r\n",
      "│   │   │       │   │   ├── \u001b[32mMacJapanese.pm\u001b[00m\r\n",
      "│   │   │       │   │   ├── \u001b[32mMacKorean.pm\u001b[00m\r\n",
      "│   │   │       │   │   ├── \u001b[32mMacLatin2.pm\u001b[00m\r\n",
      "│   │   │       │   │   ├── \u001b[32mMacRomanian.pm\u001b[00m\r\n",
      "│   │   │       │   │   ├── \u001b[32mMacRoman.pm\u001b[00m\r\n",
      "│   │   │       │   │   ├── \u001b[32mMacRSymbol.pm\u001b[00m\r\n",
      "│   │   │       │   │   ├── \u001b[32mMacThai.pm\u001b[00m\r\n",
      "│   │   │       │   │   ├── \u001b[32mMacTurkish.pm\u001b[00m\r\n",
      "│   │   │       │   │   ├── \u001b[32mPDFDoc.pm\u001b[00m\r\n",
      "│   │   │       │   │   ├── \u001b[32mShiftJIS.pm\u001b[00m\r\n",
      "│   │   │       │   │   ├── \u001b[32mSymbol.pm\u001b[00m\r\n",
      "│   │   │       │   │   ├── \u001b[32mThai.pm\u001b[00m\r\n",
      "│   │   │       │   │   ├── \u001b[32mTurkish.pm\u001b[00m\r\n",
      "│   │   │       │   │   └── \u001b[32mVietnam.pm\u001b[00m\r\n",
      "│   │   │       │   ├── \u001b[32mCharset.pm\u001b[00m\r\n",
      "│   │   │       │   ├── \u001b[32mDarwinCore.pm\u001b[00m\r\n",
      "│   │   │       │   ├── \u001b[32mDICOM.pm\u001b[00m\r\n",
      "│   │   │       │   ├── \u001b[32mDJI.pm\u001b[00m\r\n",
      "│   │   │       │   ├── \u001b[32mDjVu.pm\u001b[00m\r\n",
      "│   │   │       │   ├── \u001b[32mDNG.pm\u001b[00m\r\n",
      "│   │   │       │   ├── \u001b[32mDPX.pm\u001b[00m\r\n",
      "│   │   │       │   ├── \u001b[32mDV.pm\u001b[00m\r\n",
      "│   │   │       │   ├── \u001b[32mEXE.pm\u001b[00m\r\n",
      "│   │   │       │   ├── \u001b[32mExif.pm\u001b[00m\r\n",
      "│   │   │       │   ├── \u001b[32mFITS.pm\u001b[00m\r\n",
      "│   │   │       │   ├── \u001b[32mFixup.pm\u001b[00m\r\n",
      "│   │   │       │   ├── \u001b[32mFLAC.pm\u001b[00m\r\n",
      "│   │   │       │   ├── \u001b[32mFlashPix.pm\u001b[00m\r\n",
      "│   │   │       │   ├── \u001b[32mFlash.pm\u001b[00m\r\n",
      "│   │   │       │   ├── \u001b[32mFLIF.pm\u001b[00m\r\n",
      "│   │   │       │   ├── \u001b[32mFLIR.pm\u001b[00m\r\n",
      "│   │   │       │   ├── \u001b[32mFont.pm\u001b[00m\r\n",
      "│   │   │       │   ├── \u001b[32mFotoStation.pm\u001b[00m\r\n",
      "│   │   │       │   ├── \u001b[32mFujiFilm.pm\u001b[00m\r\n",
      "│   │   │       │   ├── \u001b[32mGeotag.pm\u001b[00m\r\n",
      "│   │   │       │   ├── \u001b[32mGeoTiff.pm\u001b[00m\r\n",
      "│   │   │       │   ├── \u001b[32mGE.pm\u001b[00m\r\n",
      "│   │   │       │   ├── \u001b[32mGIF.pm\u001b[00m\r\n",
      "│   │   │       │   ├── \u001b[32mGIMP.pm\u001b[00m\r\n",
      "│   │   │       │   ├── \u001b[32mGoPro.pm\u001b[00m\r\n",
      "│   │   │       │   ├── \u001b[32mGPS.pm\u001b[00m\r\n",
      "│   │   │       │   ├── \u001b[32mH264.pm\u001b[00m\r\n",
      "│   │   │       │   ├── \u001b[32mHP.pm\u001b[00m\r\n",
      "│   │   │       │   ├── \u001b[32mHtmlDump.pm\u001b[00m\r\n",
      "│   │   │       │   ├── \u001b[32mHTML.pm\u001b[00m\r\n",
      "│   │   │       │   ├── \u001b[32mICC_Profile.pm\u001b[00m\r\n",
      "│   │   │       │   ├── \u001b[32mID3.pm\u001b[00m\r\n",
      "│   │   │       │   ├── \u001b[32mImport.pm\u001b[00m\r\n",
      "│   │   │       │   ├── \u001b[32mInDesign.pm\u001b[00m\r\n",
      "│   │   │       │   ├── \u001b[32mIPTC.pm\u001b[00m\r\n",
      "│   │   │       │   ├── \u001b[32mISO.pm\u001b[00m\r\n",
      "│   │   │       │   ├── \u001b[32mITC.pm\u001b[00m\r\n",
      "│   │   │       │   ├── \u001b[32miWork.pm\u001b[00m\r\n",
      "│   │   │       │   ├── \u001b[32mJpeg2000.pm\u001b[00m\r\n",
      "│   │   │       │   ├── \u001b[32mJPEGDigest.pm\u001b[00m\r\n",
      "│   │   │       │   ├── \u001b[32mJPEG.pm\u001b[00m\r\n",
      "│   │   │       │   ├── \u001b[32mJSON.pm\u001b[00m\r\n",
      "│   │   │       │   ├── \u001b[32mJVC.pm\u001b[00m\r\n",
      "│   │   │       │   ├── \u001b[32mKodak.pm\u001b[00m\r\n",
      "│   │   │       │   ├── \u001b[32mKyoceraRaw.pm\u001b[00m\r\n",
      "│   │   │       │   ├── \u001b[36mLang\u001b[00m\r\n",
      "│   │   │       │   │   ├── \u001b[32mcs.pm\u001b[00m\r\n",
      "│   │   │       │   │   ├── \u001b[32mde.pm\u001b[00m\r\n",
      "│   │   │       │   │   ├── \u001b[32men_ca.pm\u001b[00m\r\n",
      "│   │   │       │   │   ├── \u001b[32men_gb.pm\u001b[00m\r\n",
      "│   │   │       │   │   ├── \u001b[32mes.pm\u001b[00m\r\n",
      "│   │   │       │   │   ├── \u001b[32mfi.pm\u001b[00m\r\n",
      "│   │   │       │   │   ├── \u001b[32mfr.pm\u001b[00m\r\n",
      "│   │   │       │   │   ├── \u001b[32mit.pm\u001b[00m\r\n",
      "│   │   │       │   │   ├── \u001b[32mja.pm\u001b[00m\r\n",
      "│   │   │       │   │   ├── \u001b[32mko.pm\u001b[00m\r\n",
      "│   │   │       │   │   ├── \u001b[32mnl.pm\u001b[00m\r\n",
      "│   │   │       │   │   ├── \u001b[32mpl.pm\u001b[00m\r\n",
      "│   │   │       │   │   ├── \u001b[32mru.pm\u001b[00m\r\n",
      "│   │   │       │   │   ├── \u001b[32msv.pm\u001b[00m\r\n",
      "│   │   │       │   │   ├── \u001b[32mtr.pm\u001b[00m\r\n",
      "│   │   │       │   │   ├── \u001b[32mzh_cn.pm\u001b[00m\r\n",
      "│   │   │       │   │   └── \u001b[32mzh_tw.pm\u001b[00m\r\n",
      "│   │   │       │   ├── \u001b[32mLeaf.pm\u001b[00m\r\n",
      "│   │   │       │   ├── \u001b[32mLNK.pm\u001b[00m\r\n",
      "│   │   │       │   ├── \u001b[32mLytro.pm\u001b[00m\r\n",
      "│   │   │       │   ├── \u001b[32mM2TS.pm\u001b[00m\r\n",
      "│   │   │       │   ├── \u001b[32mMacOS.pm\u001b[00m\r\n",
      "│   │   │       │   ├── \u001b[32mMakerNotes.pm\u001b[00m\r\n",
      "│   │   │       │   ├── \u001b[32mMatroska.pm\u001b[00m\r\n",
      "│   │   │       │   ├── \u001b[32mMicrosoft.pm\u001b[00m\r\n",
      "│   │   │       │   ├── \u001b[32mMIE.pm\u001b[00m\r\n",
      "│   │   │       │   ├── \u001b[32mMIEUnits.pod\u001b[00m\r\n",
      "│   │   │       │   ├── \u001b[32mMIFF.pm\u001b[00m\r\n",
      "│   │   │       │   ├── \u001b[32mMinolta.pm\u001b[00m\r\n",
      "│   │   │       │   ├── \u001b[32mMinoltaRaw.pm\u001b[00m\r\n",
      "│   │   │       │   ├── \u001b[32mMNG.pm\u001b[00m\r\n",
      "│   │   │       │   ├── \u001b[32mMOI.pm\u001b[00m\r\n",
      "│   │   │       │   ├── \u001b[32mMotorola.pm\u001b[00m\r\n",
      "│   │   │       │   ├── \u001b[32mMPC.pm\u001b[00m\r\n",
      "│   │   │       │   ├── \u001b[32mMPEG.pm\u001b[00m\r\n",
      "│   │   │       │   ├── \u001b[32mMPF.pm\u001b[00m\r\n",
      "│   │   │       │   ├── \u001b[32mMWG.pm\u001b[00m\r\n",
      "│   │   │       │   ├── \u001b[32mMXF.pm\u001b[00m\r\n",
      "│   │   │       │   ├── \u001b[32mNikonCapture.pm\u001b[00m\r\n",
      "│   │   │       │   ├── \u001b[32mNikonCustom.pm\u001b[00m\r\n",
      "│   │   │       │   ├── \u001b[32mNikon.pm\u001b[00m\r\n",
      "│   │   │       │   ├── \u001b[32mNintendo.pm\u001b[00m\r\n",
      "│   │   │       │   ├── \u001b[32mOgg.pm\u001b[00m\r\n",
      "│   │   │       │   ├── \u001b[32mOlympus.pm\u001b[00m\r\n",
      "│   │   │       │   ├── \u001b[32mOOXML.pm\u001b[00m\r\n",
      "│   │   │       │   ├── \u001b[32mOpenEXR.pm\u001b[00m\r\n",
      "│   │   │       │   ├── \u001b[32mOpus.pm\u001b[00m\r\n",
      "│   │   │       │   ├── \u001b[32mPalm.pm\u001b[00m\r\n",
      "│   │   │       │   ├── \u001b[32mPanasonic.pm\u001b[00m\r\n",
      "│   │   │       │   ├── \u001b[32mPanasonicRaw.pm\u001b[00m\r\n",
      "│   │   │       │   ├── \u001b[32mParrot.pm\u001b[00m\r\n",
      "│   │   │       │   ├── \u001b[32mPCX.pm\u001b[00m\r\n",
      "│   │   │       │   ├── \u001b[32mPDF.pm\u001b[00m\r\n",
      "│   │   │       │   ├── \u001b[32mPentax.pm\u001b[00m\r\n",
      "│   │   │       │   ├── \u001b[32mPGF.pm\u001b[00m\r\n",
      "│   │   │       │   ├── \u001b[32mPhaseOne.pm\u001b[00m\r\n",
      "│   │   │       │   ├── \u001b[32mPhotoCD.pm\u001b[00m\r\n",
      "│   │   │       │   ├── \u001b[32mPhotoMechanic.pm\u001b[00m\r\n",
      "│   │   │       │   ├── \u001b[32mPhotoshop.pm\u001b[00m\r\n",
      "│   │   │       │   ├── \u001b[32mPICT.pm\u001b[00m\r\n",
      "│   │   │       │   ├── \u001b[32mPLIST.pm\u001b[00m\r\n",
      "│   │   │       │   ├── \u001b[32mPLUS.pm\u001b[00m\r\n",
      "│   │   │       │   ├── \u001b[32mPNG.pm\u001b[00m\r\n",
      "│   │   │       │   ├── \u001b[32mPostScript.pm\u001b[00m\r\n",
      "│   │   │       │   ├── \u001b[32mPPM.pm\u001b[00m\r\n",
      "│   │   │       │   ├── \u001b[32mPrintIM.pm\u001b[00m\r\n",
      "│   │   │       │   ├── \u001b[32mPSP.pm\u001b[00m\r\n",
      "│   │   │       │   ├── \u001b[32mQualcomm.pm\u001b[00m\r\n",
      "│   │   │       │   ├── \u001b[32mQuickTime.pm\u001b[00m\r\n",
      "│   │   │       │   ├── \u001b[32mQuickTimeStream.pl\u001b[00m\r\n",
      "│   │   │       │   ├── \u001b[32mRadiance.pm\u001b[00m\r\n",
      "│   │   │       │   ├── \u001b[32mRawzor.pm\u001b[00m\r\n",
      "│   │   │       │   ├── README\r\n",
      "│   │   │       │   ├── \u001b[32mReal.pm\u001b[00m\r\n",
      "│   │   │       │   ├── \u001b[32mReconyx.pm\u001b[00m\r\n",
      "│   │   │       │   ├── \u001b[32mRed.pm\u001b[00m\r\n",
      "│   │   │       │   ├── \u001b[32mRicoh.pm\u001b[00m\r\n",
      "│   │   │       │   ├── \u001b[32mRIFF.pm\u001b[00m\r\n",
      "│   │   │       │   ├── \u001b[32mRSRC.pm\u001b[00m\r\n",
      "│   │   │       │   ├── \u001b[32mRTF.pm\u001b[00m\r\n",
      "│   │   │       │   ├── \u001b[32mSamsung.pm\u001b[00m\r\n",
      "│   │   │       │   ├── \u001b[32mSanyo.pm\u001b[00m\r\n",
      "│   │   │       │   ├── \u001b[32mScalado.pm\u001b[00m\r\n",
      "│   │   │       │   ├── \u001b[32mShift.pl\u001b[00m\r\n",
      "│   │   │       │   ├── \u001b[32mShortcuts.pm\u001b[00m\r\n",
      "│   │   │       │   ├── \u001b[32mSigma.pm\u001b[00m\r\n",
      "│   │   │       │   ├── \u001b[32mSigmaRaw.pm\u001b[00m\r\n",
      "│   │   │       │   ├── \u001b[32mSonyIDC.pm\u001b[00m\r\n",
      "│   │   │       │   ├── \u001b[32mSony.pm\u001b[00m\r\n",
      "│   │   │       │   ├── \u001b[32mStim.pm\u001b[00m\r\n",
      "│   │   │       │   ├── \u001b[32mTagInfoXML.pm\u001b[00m\r\n",
      "│   │   │       │   ├── \u001b[32mTagLookup.pm\u001b[00m\r\n",
      "│   │   │       │   ├── \u001b[32mTagNames.pod\u001b[00m\r\n",
      "│   │   │       │   ├── \u001b[32mText.pm\u001b[00m\r\n",
      "│   │   │       │   ├── \u001b[32mTheora.pm\u001b[00m\r\n",
      "│   │   │       │   ├── \u001b[32mTorrent.pm\u001b[00m\r\n",
      "│   │   │       │   ├── \u001b[32mUnknown.pm\u001b[00m\r\n",
      "│   │   │       │   ├── \u001b[32mValidate.pm\u001b[00m\r\n",
      "│   │   │       │   ├── \u001b[32mVCard.pm\u001b[00m\r\n",
      "│   │   │       │   ├── \u001b[32mVorbis.pm\u001b[00m\r\n",
      "│   │   │       │   ├── \u001b[32mWriteCanonRaw.pl\u001b[00m\r\n",
      "│   │   │       │   ├── \u001b[32mWriteExif.pl\u001b[00m\r\n",
      "│   │   │       │   ├── \u001b[32mWriteIPTC.pl\u001b[00m\r\n",
      "│   │   │       │   ├── \u001b[32mWritePDF.pl\u001b[00m\r\n",
      "│   │   │       │   ├── \u001b[32mWritePhotoshop.pl\u001b[00m\r\n",
      "│   │   │       │   ├── \u001b[32mWritePNG.pl\u001b[00m\r\n",
      "│   │   │       │   ├── \u001b[32mWritePostScript.pl\u001b[00m\r\n",
      "│   │   │       │   ├── \u001b[32mWriteQuickTime.pl\u001b[00m\r\n",
      "│   │   │       │   ├── \u001b[32mWriter.pl\u001b[00m\r\n",
      "│   │   │       │   ├── \u001b[32mWriteXMP.pl\u001b[00m\r\n",
      "│   │   │       │   ├── \u001b[32mWTV.pm\u001b[00m\r\n",
      "│   │   │       │   ├── \u001b[32mXMP2.pl\u001b[00m\r\n",
      "│   │   │       │   ├── \u001b[32mXMP.pm\u001b[00m\r\n",
      "│   │   │       │   ├── \u001b[32mXMPStruct.pl\u001b[00m\r\n",
      "│   │   │       │   └── \u001b[32mZIP.pm\u001b[00m\r\n",
      "│   │   │       ├── \u001b[32mExifTool.pm\u001b[00m\r\n",
      "│   │   │       └── \u001b[32mExifTool.pod\u001b[00m\r\n",
      "│   │   ├── Makefile.PL\r\n",
      "│   │   ├── MANIFEST\r\n",
      "│   │   ├── META.json\r\n",
      "│   │   ├── META.yml\r\n",
      "│   │   ├── perl-Image-ExifTool.spec\r\n",
      "│   │   └── README\r\n",
      "│   └── \u001b[36mpyexiftool\u001b[00m\r\n",
      "│       ├── COPYING.BSD\r\n",
      "│       ├── COPYING.GPL\r\n",
      "│       └── \u001b[32mexiftool.py\u001b[00m\r\n",
      "├── LICENSE\r\n",
      "├── Makefile\r\n",
      "├── \u001b[32mREADME.md\u001b[00m\r\n",
      "├── \u001b[36mschema\u001b[00m\r\n",
      "│   ├── \u001b[32marchive.sql\u001b[00m\r\n",
      "│   ├── \u001b[32mdocument.sql\u001b[00m\r\n",
      "│   ├── \u001b[32mimage.sql\u001b[00m\r\n",
      "│   ├── \u001b[32mminimal-metadata.csv\u001b[00m\r\n",
      "│   ├── \u001b[32mobservation.sql\u001b[00m\r\n",
      "│   └── \u001b[32mplatform.sql\u001b[00m\r\n",
      "├── \u001b[36mscripts\u001b[00m\r\n",
      "│   └── \u001b[01;31mutils.py\u001b[00m\r\n",
      "└── \u001b[36muser\u001b[00m\r\n",
      "    └── mysql_args\r\n",
      "\r\n",
      "21 directories, 295 files\r\n"
     ]
    }
   ],
   "source": [
    "!tree"
   ]
  },
  {
   "cell_type": "code",
   "execution_count": 18,
   "metadata": {},
   "outputs": [
    {
     "data": {
      "text/plain": [
       "{'contents': [{'file_path': '00_files/data/metadata.csv',\n",
       "   'media_type': 'text/plain'},\n",
       "  {'file_path': '00_files/data/nara_id_storis-wmec-38-1957-logbooks.json',\n",
       "   'media_type': 'text/plain'},\n",
       "  {'file_path': '00_files/data/storis-wmec-38-1957-logbooks_0126.JPG',\n",
       "   'media_type': 'image/jpeg',\n",
       "   'uuid': '4ed9a76e366811ea8e2808119645fa1c'},\n",
       "  {'file_path': '00_files/data/storis-wmec-38-1957-logbooks_0127.JPG',\n",
       "   'media_type': 'image/jpeg',\n",
       "   'uuid': '4f111cf4366811ea8e2808119645fa1c'},\n",
       "  {'file_path': '00_files/data/storis-wmec-38-1957-logbooks_0128.JPG',\n",
       "   'media_type': 'image/jpeg',\n",
       "   'uuid': '4f47a8e6366811ea8e2808119645fa1c'},\n",
       "  {'file_path': '00_files/data/storis-wmec-38-1957-logbooks_0129.JPG',\n",
       "   'media_type': 'image/jpeg',\n",
       "   'uuid': '4f8020c2366811ea8e2808119645fa1c'},\n",
       "  {'file_path': '00_files/data/storis-wmec-38-1957-logbooks_0130.JPG',\n",
       "   'media_type': 'image/jpeg',\n",
       "   'uuid': '4fb66cd2366811ea8e2808119645fa1c'},\n",
       "  {'file_path': '00_files/data/storis-wmec-38-1957-logbooks_0131.JPG',\n",
       "   'media_type': 'image/jpeg',\n",
       "   'uuid': '4fefcfb6366811ea8e2808119645fa1c'},\n",
       "  {'file_path': '00_files/data/storis-wmec-38-1957-logbooks_0132.JPG',\n",
       "   'media_type': 'image/jpeg',\n",
       "   'uuid': '5026e75e366811ea8e2808119645fa1c'},\n",
       "  {'file_path': '00_files/data/storis-wmec-38-1957-logbooks_0133.JPG',\n",
       "   'media_type': 'image/jpeg',\n",
       "   'uuid': '505fe90a366811ea8e2808119645fa1c'},\n",
       "  {'file_path': '00_files/data/storis-wmec-38-1957-logbooks_0134.JPG',\n",
       "   'media_type': 'image/jpeg',\n",
       "   'uuid': '50982694366811ea8e2808119645fa1c'},\n",
       "  {'file_path': '00_files/data/storis-wmec-38-1957-logbooks_0135.JPG',\n",
       "   'media_type': 'image/jpeg',\n",
       "   'uuid': '50d6f07a366811ea8e2808119645fa1c'},\n",
       "  {'file_path': '00_files/data/storis-wmec-38-1957-logbooks_0136.JPG',\n",
       "   'media_type': 'image/jpeg',\n",
       "   'uuid': '51129990366811ea8e2808119645fa1c'},\n",
       "  {'file_path': '00_files/data/storis-wmec-38-1957-logbooks_0137.JPG',\n",
       "   'media_type': 'image/jpeg',\n",
       "   'uuid': '514d5eb8366811ea8e2808119645fa1c'},\n",
       "  {'file_path': '00_files/data/storis-wmec-38-1957-logbooks_0138.JPG',\n",
       "   'media_type': 'image/jpeg',\n",
       "   'uuid': '5184d44c366811ea8e2808119645fa1c'},\n",
       "  {'file_path': '00_files/data/storis-wmec-38-1957-logbooks_0139.JPG',\n",
       "   'media_type': 'image/jpeg',\n",
       "   'uuid': '51bde8d4366811ea8e2808119645fa1c'},\n",
       "  {'file_path': '00_files/data/storis-wmec-38-1957-logbooks_0140.JPG',\n",
       "   'media_type': 'image/jpeg',\n",
       "   'uuid': '51f74be8366811ea8e2808119645fa1c'},\n",
       "  {'file_path': '00_files/data/storis-wmec-38-1957-logbooks_0141.JPG',\n",
       "   'media_type': 'image/jpeg',\n",
       "   'uuid': '522edcca366811ea8e2808119645fa1c'},\n",
       "  {'file_path': '00_files/data/storis-wmec-38-1957-logbooks_0142.JPG',\n",
       "   'media_type': 'image/jpeg',\n",
       "   'uuid': '5268759e366811ea8e2808119645fa1c'},\n",
       "  {'file_path': '00_files/data/storis-wmec-38-1957-logbooks_0143.JPG',\n",
       "   'media_type': 'image/jpeg',\n",
       "   'uuid': '52a1d928366811ea8e2808119645fa1c'},\n",
       "  {'file_path': '00_files/data/storis-wmec-38-1957-logbooks_0144.JPG',\n",
       "   'media_type': 'image/jpeg',\n",
       "   'uuid': '52d96f40366811ea8e2808119645fa1c'},\n",
       "  {'file_path': '00_files/data/storis-wmec-38-1957-logbooks_0145.JPG',\n",
       "   'media_type': 'image/jpeg',\n",
       "   'uuid': '531294b6366811ea8e2808119645fa1c'},\n",
       "  {'contents': [{'file_path': '00_files/data/tmp/metadata.csv',\n",
       "     'media_type': 'text/plain'},\n",
       "    {'file_path': '00_files/data/tmp/storis-wmec-38-1957-logbooks_0145.JPG',\n",
       "     'media_type': 'image/jpeg',\n",
       "     'uuid': '531294b6366811ea8e2808119645fa1c'}],\n",
       "   'platform.name': 'USCG Autumn'}],\n",
       " 'archive.host_country': 'USA',\n",
       " 'document.contact_person': 'Kevin Wood',\n",
       " 'archive.notes': 'Images available via API at https://catalog.archives.gov/api/v1/38547962',\n",
       " 'platform.name': 'USCG Storis',\n",
       " 'document.id_within_archive': '38547962',\n",
       " 'document.id_within_archive_type': 'NARA ID',\n",
       " 'document.record_type': \"ships' logs\",\n",
       " 'document.accession_to_archive_date': '2016-08-19',\n",
       " 'document.standardized_region_list': 'north_atlantic',\n",
       " 'document.start_date': '1957-09-30',\n",
       " 'document.rights_statement': 'CC0 Public Domain',\n",
       " 'document.notes': ''}"
      ]
     },
     "execution_count": 18,
     "metadata": {},
     "output_type": "execute_result"
    }
   ],
   "source": [
    "normalized_catalog"
   ]
  },
  {
   "cell_type": "code",
   "execution_count": 19,
   "metadata": {
    "attributes": {
     "classes": [],
     "id": "",
     "n": "67"
    }
   },
   "outputs": [],
   "source": [
    "catalog = unnormalize_catalog(normalized_catalog)\n",
    "# We flatten the normalized catalog. \n",
    "# Each file in the data directory \"has its own entry\" in this catalog.\n",
    "# We'll eventually ignore non-image files."
   ]
  },
  {
   "cell_type": "code",
   "execution_count": 21,
   "metadata": {},
   "outputs": [
    {
     "data": {
      "text/plain": [
       "[{'archive.host_country': 'USA',\n",
       "  'document.contact_person': 'Kevin Wood',\n",
       "  'archive.notes': 'Images available via API at https://catalog.archives.gov/api/v1/38547962',\n",
       "  'platform.name': 'USCG Storis',\n",
       "  'document.id_within_archive': '38547962',\n",
       "  'document.id_within_archive_type': 'NARA ID',\n",
       "  'document.record_type': \"ships' logs\",\n",
       "  'document.accession_to_archive_date': '2016-08-19',\n",
       "  'document.standardized_region_list': 'north_atlantic',\n",
       "  'document.start_date': '1957-09-30',\n",
       "  'document.rights_statement': 'CC0 Public Domain',\n",
       "  'document.notes': '',\n",
       "  'file_path': '00_files/data/metadata.csv',\n",
       "  'media_type': 'text/plain'},\n",
       " {'archive.host_country': 'USA',\n",
       "  'document.contact_person': 'Kevin Wood',\n",
       "  'archive.notes': 'Images available via API at https://catalog.archives.gov/api/v1/38547962',\n",
       "  'platform.name': 'USCG Storis',\n",
       "  'document.id_within_archive': '38547962',\n",
       "  'document.id_within_archive_type': 'NARA ID',\n",
       "  'document.record_type': \"ships' logs\",\n",
       "  'document.accession_to_archive_date': '2016-08-19',\n",
       "  'document.standardized_region_list': 'north_atlantic',\n",
       "  'document.start_date': '1957-09-30',\n",
       "  'document.rights_statement': 'CC0 Public Domain',\n",
       "  'document.notes': '',\n",
       "  'file_path': '00_files/data/nara_id_storis-wmec-38-1957-logbooks.json',\n",
       "  'media_type': 'text/plain'},\n",
       " {'archive.host_country': 'USA',\n",
       "  'document.contact_person': 'Kevin Wood',\n",
       "  'archive.notes': 'Images available via API at https://catalog.archives.gov/api/v1/38547962',\n",
       "  'platform.name': 'USCG Storis',\n",
       "  'document.id_within_archive': '38547962',\n",
       "  'document.id_within_archive_type': 'NARA ID',\n",
       "  'document.record_type': \"ships' logs\",\n",
       "  'document.accession_to_archive_date': '2016-08-19',\n",
       "  'document.standardized_region_list': 'north_atlantic',\n",
       "  'document.start_date': '1957-09-30',\n",
       "  'document.rights_statement': 'CC0 Public Domain',\n",
       "  'document.notes': '',\n",
       "  'file_path': '00_files/data/storis-wmec-38-1957-logbooks_0126.JPG',\n",
       "  'media_type': 'image/jpeg',\n",
       "  'uuid': '4ed9a76e366811ea8e2808119645fa1c'},\n",
       " {'archive.host_country': 'USA',\n",
       "  'document.contact_person': 'Kevin Wood',\n",
       "  'archive.notes': 'Images available via API at https://catalog.archives.gov/api/v1/38547962',\n",
       "  'platform.name': 'USCG Storis',\n",
       "  'document.id_within_archive': '38547962',\n",
       "  'document.id_within_archive_type': 'NARA ID',\n",
       "  'document.record_type': \"ships' logs\",\n",
       "  'document.accession_to_archive_date': '2016-08-19',\n",
       "  'document.standardized_region_list': 'north_atlantic',\n",
       "  'document.start_date': '1957-09-30',\n",
       "  'document.rights_statement': 'CC0 Public Domain',\n",
       "  'document.notes': '',\n",
       "  'file_path': '00_files/data/storis-wmec-38-1957-logbooks_0127.JPG',\n",
       "  'media_type': 'image/jpeg',\n",
       "  'uuid': '4f111cf4366811ea8e2808119645fa1c'},\n",
       " {'archive.host_country': 'USA',\n",
       "  'document.contact_person': 'Kevin Wood',\n",
       "  'archive.notes': 'Images available via API at https://catalog.archives.gov/api/v1/38547962',\n",
       "  'platform.name': 'USCG Storis',\n",
       "  'document.id_within_archive': '38547962',\n",
       "  'document.id_within_archive_type': 'NARA ID',\n",
       "  'document.record_type': \"ships' logs\",\n",
       "  'document.accession_to_archive_date': '2016-08-19',\n",
       "  'document.standardized_region_list': 'north_atlantic',\n",
       "  'document.start_date': '1957-09-30',\n",
       "  'document.rights_statement': 'CC0 Public Domain',\n",
       "  'document.notes': '',\n",
       "  'file_path': '00_files/data/storis-wmec-38-1957-logbooks_0128.JPG',\n",
       "  'media_type': 'image/jpeg',\n",
       "  'uuid': '4f47a8e6366811ea8e2808119645fa1c'},\n",
       " {'archive.host_country': 'USA',\n",
       "  'document.contact_person': 'Kevin Wood',\n",
       "  'archive.notes': 'Images available via API at https://catalog.archives.gov/api/v1/38547962',\n",
       "  'platform.name': 'USCG Storis',\n",
       "  'document.id_within_archive': '38547962',\n",
       "  'document.id_within_archive_type': 'NARA ID',\n",
       "  'document.record_type': \"ships' logs\",\n",
       "  'document.accession_to_archive_date': '2016-08-19',\n",
       "  'document.standardized_region_list': 'north_atlantic',\n",
       "  'document.start_date': '1957-09-30',\n",
       "  'document.rights_statement': 'CC0 Public Domain',\n",
       "  'document.notes': '',\n",
       "  'file_path': '00_files/data/storis-wmec-38-1957-logbooks_0129.JPG',\n",
       "  'media_type': 'image/jpeg',\n",
       "  'uuid': '4f8020c2366811ea8e2808119645fa1c'},\n",
       " {'archive.host_country': 'USA',\n",
       "  'document.contact_person': 'Kevin Wood',\n",
       "  'archive.notes': 'Images available via API at https://catalog.archives.gov/api/v1/38547962',\n",
       "  'platform.name': 'USCG Storis',\n",
       "  'document.id_within_archive': '38547962',\n",
       "  'document.id_within_archive_type': 'NARA ID',\n",
       "  'document.record_type': \"ships' logs\",\n",
       "  'document.accession_to_archive_date': '2016-08-19',\n",
       "  'document.standardized_region_list': 'north_atlantic',\n",
       "  'document.start_date': '1957-09-30',\n",
       "  'document.rights_statement': 'CC0 Public Domain',\n",
       "  'document.notes': '',\n",
       "  'file_path': '00_files/data/storis-wmec-38-1957-logbooks_0130.JPG',\n",
       "  'media_type': 'image/jpeg',\n",
       "  'uuid': '4fb66cd2366811ea8e2808119645fa1c'},\n",
       " {'archive.host_country': 'USA',\n",
       "  'document.contact_person': 'Kevin Wood',\n",
       "  'archive.notes': 'Images available via API at https://catalog.archives.gov/api/v1/38547962',\n",
       "  'platform.name': 'USCG Storis',\n",
       "  'document.id_within_archive': '38547962',\n",
       "  'document.id_within_archive_type': 'NARA ID',\n",
       "  'document.record_type': \"ships' logs\",\n",
       "  'document.accession_to_archive_date': '2016-08-19',\n",
       "  'document.standardized_region_list': 'north_atlantic',\n",
       "  'document.start_date': '1957-09-30',\n",
       "  'document.rights_statement': 'CC0 Public Domain',\n",
       "  'document.notes': '',\n",
       "  'file_path': '00_files/data/storis-wmec-38-1957-logbooks_0131.JPG',\n",
       "  'media_type': 'image/jpeg',\n",
       "  'uuid': '4fefcfb6366811ea8e2808119645fa1c'},\n",
       " {'archive.host_country': 'USA',\n",
       "  'document.contact_person': 'Kevin Wood',\n",
       "  'archive.notes': 'Images available via API at https://catalog.archives.gov/api/v1/38547962',\n",
       "  'platform.name': 'USCG Storis',\n",
       "  'document.id_within_archive': '38547962',\n",
       "  'document.id_within_archive_type': 'NARA ID',\n",
       "  'document.record_type': \"ships' logs\",\n",
       "  'document.accession_to_archive_date': '2016-08-19',\n",
       "  'document.standardized_region_list': 'north_atlantic',\n",
       "  'document.start_date': '1957-09-30',\n",
       "  'document.rights_statement': 'CC0 Public Domain',\n",
       "  'document.notes': '',\n",
       "  'file_path': '00_files/data/storis-wmec-38-1957-logbooks_0132.JPG',\n",
       "  'media_type': 'image/jpeg',\n",
       "  'uuid': '5026e75e366811ea8e2808119645fa1c'},\n",
       " {'archive.host_country': 'USA',\n",
       "  'document.contact_person': 'Kevin Wood',\n",
       "  'archive.notes': 'Images available via API at https://catalog.archives.gov/api/v1/38547962',\n",
       "  'platform.name': 'USCG Storis',\n",
       "  'document.id_within_archive': '38547962',\n",
       "  'document.id_within_archive_type': 'NARA ID',\n",
       "  'document.record_type': \"ships' logs\",\n",
       "  'document.accession_to_archive_date': '2016-08-19',\n",
       "  'document.standardized_region_list': 'north_atlantic',\n",
       "  'document.start_date': '1957-09-30',\n",
       "  'document.rights_statement': 'CC0 Public Domain',\n",
       "  'document.notes': '',\n",
       "  'file_path': '00_files/data/storis-wmec-38-1957-logbooks_0133.JPG',\n",
       "  'media_type': 'image/jpeg',\n",
       "  'uuid': '505fe90a366811ea8e2808119645fa1c'},\n",
       " {'archive.host_country': 'USA',\n",
       "  'document.contact_person': 'Kevin Wood',\n",
       "  'archive.notes': 'Images available via API at https://catalog.archives.gov/api/v1/38547962',\n",
       "  'platform.name': 'USCG Storis',\n",
       "  'document.id_within_archive': '38547962',\n",
       "  'document.id_within_archive_type': 'NARA ID',\n",
       "  'document.record_type': \"ships' logs\",\n",
       "  'document.accession_to_archive_date': '2016-08-19',\n",
       "  'document.standardized_region_list': 'north_atlantic',\n",
       "  'document.start_date': '1957-09-30',\n",
       "  'document.rights_statement': 'CC0 Public Domain',\n",
       "  'document.notes': '',\n",
       "  'file_path': '00_files/data/storis-wmec-38-1957-logbooks_0134.JPG',\n",
       "  'media_type': 'image/jpeg',\n",
       "  'uuid': '50982694366811ea8e2808119645fa1c'},\n",
       " {'archive.host_country': 'USA',\n",
       "  'document.contact_person': 'Kevin Wood',\n",
       "  'archive.notes': 'Images available via API at https://catalog.archives.gov/api/v1/38547962',\n",
       "  'platform.name': 'USCG Storis',\n",
       "  'document.id_within_archive': '38547962',\n",
       "  'document.id_within_archive_type': 'NARA ID',\n",
       "  'document.record_type': \"ships' logs\",\n",
       "  'document.accession_to_archive_date': '2016-08-19',\n",
       "  'document.standardized_region_list': 'north_atlantic',\n",
       "  'document.start_date': '1957-09-30',\n",
       "  'document.rights_statement': 'CC0 Public Domain',\n",
       "  'document.notes': '',\n",
       "  'file_path': '00_files/data/storis-wmec-38-1957-logbooks_0135.JPG',\n",
       "  'media_type': 'image/jpeg',\n",
       "  'uuid': '50d6f07a366811ea8e2808119645fa1c'},\n",
       " {'archive.host_country': 'USA',\n",
       "  'document.contact_person': 'Kevin Wood',\n",
       "  'archive.notes': 'Images available via API at https://catalog.archives.gov/api/v1/38547962',\n",
       "  'platform.name': 'USCG Storis',\n",
       "  'document.id_within_archive': '38547962',\n",
       "  'document.id_within_archive_type': 'NARA ID',\n",
       "  'document.record_type': \"ships' logs\",\n",
       "  'document.accession_to_archive_date': '2016-08-19',\n",
       "  'document.standardized_region_list': 'north_atlantic',\n",
       "  'document.start_date': '1957-09-30',\n",
       "  'document.rights_statement': 'CC0 Public Domain',\n",
       "  'document.notes': '',\n",
       "  'file_path': '00_files/data/storis-wmec-38-1957-logbooks_0136.JPG',\n",
       "  'media_type': 'image/jpeg',\n",
       "  'uuid': '51129990366811ea8e2808119645fa1c'},\n",
       " {'archive.host_country': 'USA',\n",
       "  'document.contact_person': 'Kevin Wood',\n",
       "  'archive.notes': 'Images available via API at https://catalog.archives.gov/api/v1/38547962',\n",
       "  'platform.name': 'USCG Storis',\n",
       "  'document.id_within_archive': '38547962',\n",
       "  'document.id_within_archive_type': 'NARA ID',\n",
       "  'document.record_type': \"ships' logs\",\n",
       "  'document.accession_to_archive_date': '2016-08-19',\n",
       "  'document.standardized_region_list': 'north_atlantic',\n",
       "  'document.start_date': '1957-09-30',\n",
       "  'document.rights_statement': 'CC0 Public Domain',\n",
       "  'document.notes': '',\n",
       "  'file_path': '00_files/data/storis-wmec-38-1957-logbooks_0137.JPG',\n",
       "  'media_type': 'image/jpeg',\n",
       "  'uuid': '514d5eb8366811ea8e2808119645fa1c'},\n",
       " {'archive.host_country': 'USA',\n",
       "  'document.contact_person': 'Kevin Wood',\n",
       "  'archive.notes': 'Images available via API at https://catalog.archives.gov/api/v1/38547962',\n",
       "  'platform.name': 'USCG Storis',\n",
       "  'document.id_within_archive': '38547962',\n",
       "  'document.id_within_archive_type': 'NARA ID',\n",
       "  'document.record_type': \"ships' logs\",\n",
       "  'document.accession_to_archive_date': '2016-08-19',\n",
       "  'document.standardized_region_list': 'north_atlantic',\n",
       "  'document.start_date': '1957-09-30',\n",
       "  'document.rights_statement': 'CC0 Public Domain',\n",
       "  'document.notes': '',\n",
       "  'file_path': '00_files/data/storis-wmec-38-1957-logbooks_0138.JPG',\n",
       "  'media_type': 'image/jpeg',\n",
       "  'uuid': '5184d44c366811ea8e2808119645fa1c'},\n",
       " {'archive.host_country': 'USA',\n",
       "  'document.contact_person': 'Kevin Wood',\n",
       "  'archive.notes': 'Images available via API at https://catalog.archives.gov/api/v1/38547962',\n",
       "  'platform.name': 'USCG Storis',\n",
       "  'document.id_within_archive': '38547962',\n",
       "  'document.id_within_archive_type': 'NARA ID',\n",
       "  'document.record_type': \"ships' logs\",\n",
       "  'document.accession_to_archive_date': '2016-08-19',\n",
       "  'document.standardized_region_list': 'north_atlantic',\n",
       "  'document.start_date': '1957-09-30',\n",
       "  'document.rights_statement': 'CC0 Public Domain',\n",
       "  'document.notes': '',\n",
       "  'file_path': '00_files/data/storis-wmec-38-1957-logbooks_0139.JPG',\n",
       "  'media_type': 'image/jpeg',\n",
       "  'uuid': '51bde8d4366811ea8e2808119645fa1c'},\n",
       " {'archive.host_country': 'USA',\n",
       "  'document.contact_person': 'Kevin Wood',\n",
       "  'archive.notes': 'Images available via API at https://catalog.archives.gov/api/v1/38547962',\n",
       "  'platform.name': 'USCG Storis',\n",
       "  'document.id_within_archive': '38547962',\n",
       "  'document.id_within_archive_type': 'NARA ID',\n",
       "  'document.record_type': \"ships' logs\",\n",
       "  'document.accession_to_archive_date': '2016-08-19',\n",
       "  'document.standardized_region_list': 'north_atlantic',\n",
       "  'document.start_date': '1957-09-30',\n",
       "  'document.rights_statement': 'CC0 Public Domain',\n",
       "  'document.notes': '',\n",
       "  'file_path': '00_files/data/storis-wmec-38-1957-logbooks_0140.JPG',\n",
       "  'media_type': 'image/jpeg',\n",
       "  'uuid': '51f74be8366811ea8e2808119645fa1c'},\n",
       " {'archive.host_country': 'USA',\n",
       "  'document.contact_person': 'Kevin Wood',\n",
       "  'archive.notes': 'Images available via API at https://catalog.archives.gov/api/v1/38547962',\n",
       "  'platform.name': 'USCG Storis',\n",
       "  'document.id_within_archive': '38547962',\n",
       "  'document.id_within_archive_type': 'NARA ID',\n",
       "  'document.record_type': \"ships' logs\",\n",
       "  'document.accession_to_archive_date': '2016-08-19',\n",
       "  'document.standardized_region_list': 'north_atlantic',\n",
       "  'document.start_date': '1957-09-30',\n",
       "  'document.rights_statement': 'CC0 Public Domain',\n",
       "  'document.notes': '',\n",
       "  'file_path': '00_files/data/storis-wmec-38-1957-logbooks_0141.JPG',\n",
       "  'media_type': 'image/jpeg',\n",
       "  'uuid': '522edcca366811ea8e2808119645fa1c'},\n",
       " {'archive.host_country': 'USA',\n",
       "  'document.contact_person': 'Kevin Wood',\n",
       "  'archive.notes': 'Images available via API at https://catalog.archives.gov/api/v1/38547962',\n",
       "  'platform.name': 'USCG Storis',\n",
       "  'document.id_within_archive': '38547962',\n",
       "  'document.id_within_archive_type': 'NARA ID',\n",
       "  'document.record_type': \"ships' logs\",\n",
       "  'document.accession_to_archive_date': '2016-08-19',\n",
       "  'document.standardized_region_list': 'north_atlantic',\n",
       "  'document.start_date': '1957-09-30',\n",
       "  'document.rights_statement': 'CC0 Public Domain',\n",
       "  'document.notes': '',\n",
       "  'file_path': '00_files/data/storis-wmec-38-1957-logbooks_0142.JPG',\n",
       "  'media_type': 'image/jpeg',\n",
       "  'uuid': '5268759e366811ea8e2808119645fa1c'},\n",
       " {'archive.host_country': 'USA',\n",
       "  'document.contact_person': 'Kevin Wood',\n",
       "  'archive.notes': 'Images available via API at https://catalog.archives.gov/api/v1/38547962',\n",
       "  'platform.name': 'USCG Storis',\n",
       "  'document.id_within_archive': '38547962',\n",
       "  'document.id_within_archive_type': 'NARA ID',\n",
       "  'document.record_type': \"ships' logs\",\n",
       "  'document.accession_to_archive_date': '2016-08-19',\n",
       "  'document.standardized_region_list': 'north_atlantic',\n",
       "  'document.start_date': '1957-09-30',\n",
       "  'document.rights_statement': 'CC0 Public Domain',\n",
       "  'document.notes': '',\n",
       "  'file_path': '00_files/data/storis-wmec-38-1957-logbooks_0143.JPG',\n",
       "  'media_type': 'image/jpeg',\n",
       "  'uuid': '52a1d928366811ea8e2808119645fa1c'},\n",
       " {'archive.host_country': 'USA',\n",
       "  'document.contact_person': 'Kevin Wood',\n",
       "  'archive.notes': 'Images available via API at https://catalog.archives.gov/api/v1/38547962',\n",
       "  'platform.name': 'USCG Storis',\n",
       "  'document.id_within_archive': '38547962',\n",
       "  'document.id_within_archive_type': 'NARA ID',\n",
       "  'document.record_type': \"ships' logs\",\n",
       "  'document.accession_to_archive_date': '2016-08-19',\n",
       "  'document.standardized_region_list': 'north_atlantic',\n",
       "  'document.start_date': '1957-09-30',\n",
       "  'document.rights_statement': 'CC0 Public Domain',\n",
       "  'document.notes': '',\n",
       "  'file_path': '00_files/data/storis-wmec-38-1957-logbooks_0144.JPG',\n",
       "  'media_type': 'image/jpeg',\n",
       "  'uuid': '52d96f40366811ea8e2808119645fa1c'},\n",
       " {'archive.host_country': 'USA',\n",
       "  'document.contact_person': 'Kevin Wood',\n",
       "  'archive.notes': 'Images available via API at https://catalog.archives.gov/api/v1/38547962',\n",
       "  'platform.name': 'USCG Storis',\n",
       "  'document.id_within_archive': '38547962',\n",
       "  'document.id_within_archive_type': 'NARA ID',\n",
       "  'document.record_type': \"ships' logs\",\n",
       "  'document.accession_to_archive_date': '2016-08-19',\n",
       "  'document.standardized_region_list': 'north_atlantic',\n",
       "  'document.start_date': '1957-09-30',\n",
       "  'document.rights_statement': 'CC0 Public Domain',\n",
       "  'document.notes': '',\n",
       "  'file_path': '00_files/data/storis-wmec-38-1957-logbooks_0145.JPG',\n",
       "  'media_type': 'image/jpeg',\n",
       "  'uuid': '531294b6366811ea8e2808119645fa1c'},\n",
       " {'archive.host_country': 'USA',\n",
       "  'document.contact_person': 'Kevin Wood',\n",
       "  'archive.notes': 'Images available via API at https://catalog.archives.gov/api/v1/38547962',\n",
       "  'platform.name': 'USCG Autumn',\n",
       "  'document.id_within_archive': '38547962',\n",
       "  'document.id_within_archive_type': 'NARA ID',\n",
       "  'document.record_type': \"ships' logs\",\n",
       "  'document.accession_to_archive_date': '2016-08-19',\n",
       "  'document.standardized_region_list': 'north_atlantic',\n",
       "  'document.start_date': '1957-09-30',\n",
       "  'document.rights_statement': 'CC0 Public Domain',\n",
       "  'document.notes': '',\n",
       "  'file_path': '00_files/data/tmp/metadata.csv',\n",
       "  'media_type': 'text/plain'},\n",
       " {'archive.host_country': 'USA',\n",
       "  'document.contact_person': 'Kevin Wood',\n",
       "  'archive.notes': 'Images available via API at https://catalog.archives.gov/api/v1/38547962',\n",
       "  'platform.name': 'USCG Autumn',\n",
       "  'document.id_within_archive': '38547962',\n",
       "  'document.id_within_archive_type': 'NARA ID',\n",
       "  'document.record_type': \"ships' logs\",\n",
       "  'document.accession_to_archive_date': '2016-08-19',\n",
       "  'document.standardized_region_list': 'north_atlantic',\n",
       "  'document.start_date': '1957-09-30',\n",
       "  'document.rights_statement': 'CC0 Public Domain',\n",
       "  'document.notes': '',\n",
       "  'file_path': '00_files/data/tmp/storis-wmec-38-1957-logbooks_0145.JPG',\n",
       "  'media_type': 'image/jpeg',\n",
       "  'uuid': '531294b6366811ea8e2808119645fa1c'}]"
      ]
     },
     "execution_count": 21,
     "metadata": {},
     "output_type": "execute_result"
    }
   ],
   "source": [
    "catalog"
   ]
  },
  {
   "cell_type": "code",
   "execution_count": 22,
   "metadata": {
    "attributes": {
     "classes": [],
     "id": "",
     "n": "67"
    }
   },
   "outputs": [],
   "source": [
    "write_timestamped_catalog(catalog, out)\n",
    "# We write this version of the metadata catalog to the output directory."
   ]
  },
  {
   "cell_type": "code",
   "execution_count": 25,
   "metadata": {},
   "outputs": [
    {
     "data": {
      "text/plain": [
       "Index(['archive.host_country', 'archive.notes',\n",
       "       'document.accession_to_archive_date', 'document.contact_person',\n",
       "       'document.id_within_archive', 'document.id_within_archive_type',\n",
       "       'document.notes', 'document.record_type', 'document.rights_statement',\n",
       "       'document.standardized_region_list', 'document.start_date', 'file_path',\n",
       "       'media_type', 'platform.name', 'uuid'],\n",
       "      dtype='object')"
      ]
     },
     "execution_count": 25,
     "metadata": {},
     "output_type": "execute_result"
    }
   ],
   "source": [
    "df = pd.read_json('00_files/out/2020-01-13-170200-catalog.json')\n",
    "df.columns"
   ]
  },
  {
   "cell_type": "code",
   "execution_count": 30,
   "metadata": {},
   "outputs": [
    {
     "data": {
      "text/plain": [
       "(24, 15)"
      ]
     },
     "execution_count": 30,
     "metadata": {},
     "output_type": "execute_result"
    }
   ],
   "source": [
    "df.shape"
   ]
  },
  {
   "cell_type": "code",
   "execution_count": 32,
   "metadata": {},
   "outputs": [
    {
     "data": {
      "text/html": [
       "<div>\n",
       "<style scoped>\n",
       "    .dataframe tbody tr th:only-of-type {\n",
       "        vertical-align: middle;\n",
       "    }\n",
       "\n",
       "    .dataframe tbody tr th {\n",
       "        vertical-align: top;\n",
       "    }\n",
       "\n",
       "    .dataframe thead th {\n",
       "        text-align: right;\n",
       "    }\n",
       "</style>\n",
       "<table border=\"1\" class=\"dataframe\">\n",
       "  <thead>\n",
       "    <tr style=\"text-align: right;\">\n",
       "      <th></th>\n",
       "      <th>archive.host_country</th>\n",
       "      <th>archive.notes</th>\n",
       "      <th>document.accession_to_archive_date</th>\n",
       "      <th>document.contact_person</th>\n",
       "      <th>document.id_within_archive</th>\n",
       "      <th>document.id_within_archive_type</th>\n",
       "      <th>document.notes</th>\n",
       "      <th>document.record_type</th>\n",
       "      <th>document.rights_statement</th>\n",
       "      <th>document.standardized_region_list</th>\n",
       "      <th>document.start_date</th>\n",
       "      <th>file_path</th>\n",
       "      <th>media_type</th>\n",
       "      <th>platform.name</th>\n",
       "      <th>uuid</th>\n",
       "    </tr>\n",
       "  </thead>\n",
       "  <tbody>\n",
       "    <tr>\n",
       "      <th>22</th>\n",
       "      <td>USA</td>\n",
       "      <td>Images available via API at https://catalog.ar...</td>\n",
       "      <td>2016-08-19</td>\n",
       "      <td>Kevin Wood</td>\n",
       "      <td>38547962</td>\n",
       "      <td>NARA ID</td>\n",
       "      <td></td>\n",
       "      <td>ships' logs</td>\n",
       "      <td>CC0 Public Domain</td>\n",
       "      <td>north_atlantic</td>\n",
       "      <td>1957-09-30</td>\n",
       "      <td>00_files/data/tmp/metadata.csv</td>\n",
       "      <td>text/plain</td>\n",
       "      <td>USCG Autumn</td>\n",
       "      <td>NaN</td>\n",
       "    </tr>\n",
       "    <tr>\n",
       "      <th>23</th>\n",
       "      <td>USA</td>\n",
       "      <td>Images available via API at https://catalog.ar...</td>\n",
       "      <td>2016-08-19</td>\n",
       "      <td>Kevin Wood</td>\n",
       "      <td>38547962</td>\n",
       "      <td>NARA ID</td>\n",
       "      <td></td>\n",
       "      <td>ships' logs</td>\n",
       "      <td>CC0 Public Domain</td>\n",
       "      <td>north_atlantic</td>\n",
       "      <td>1957-09-30</td>\n",
       "      <td>00_files/data/tmp/storis-wmec-38-1957-logbooks...</td>\n",
       "      <td>image/jpeg</td>\n",
       "      <td>USCG Autumn</td>\n",
       "      <td>531294b6366811ea8e2808119645fa1c</td>\n",
       "    </tr>\n",
       "  </tbody>\n",
       "</table>\n",
       "</div>"
      ],
      "text/plain": [
       "   archive.host_country                                      archive.notes  \\\n",
       "22                  USA  Images available via API at https://catalog.ar...   \n",
       "23                  USA  Images available via API at https://catalog.ar...   \n",
       "\n",
       "   document.accession_to_archive_date document.contact_person  \\\n",
       "22                         2016-08-19              Kevin Wood   \n",
       "23                         2016-08-19              Kevin Wood   \n",
       "\n",
       "    document.id_within_archive document.id_within_archive_type document.notes  \\\n",
       "22                    38547962                         NARA ID                  \n",
       "23                    38547962                         NARA ID                  \n",
       "\n",
       "   document.record_type document.rights_statement  \\\n",
       "22          ships' logs         CC0 Public Domain   \n",
       "23          ships' logs         CC0 Public Domain   \n",
       "\n",
       "   document.standardized_region_list document.start_date  \\\n",
       "22                    north_atlantic          1957-09-30   \n",
       "23                    north_atlantic          1957-09-30   \n",
       "\n",
       "                                            file_path  media_type  \\\n",
       "22                     00_files/data/tmp/metadata.csv  text/plain   \n",
       "23  00_files/data/tmp/storis-wmec-38-1957-logbooks...  image/jpeg   \n",
       "\n",
       "   platform.name                              uuid  \n",
       "22   USCG Autumn                               NaN  \n",
       "23   USCG Autumn  531294b6366811ea8e2808119645fa1c  "
      ]
     },
     "execution_count": 32,
     "metadata": {},
     "output_type": "execute_result"
    }
   ],
   "source": [
    "df[df['platform.name'] == 'USCG Autumn']"
   ]
  },
  {
   "cell_type": "code",
   "execution_count": null,
   "metadata": {
    "attributes": {
     "classes": [],
     "id": "",
     "n": "68"
    }
   },
   "outputs": [],
   "source": [
    "catalog = read_timestamped_catalog(out)\n",
    "# We read in the most recent version of the metadata catalog from the out directory.\n",
    "\n",
    "elementary_family = [c for c in catalog if c['media_type'].startswith(\"image\")]\n",
    "# We create a list of all the entries in the catalog that are image files."
   ]
  },
  {
   "cell_type": "code",
   "execution_count": null,
   "metadata": {
    "attributes": {
     "classes": [],
     "id": "",
     "n": "69"
    }
   },
   "outputs": [],
   "source": [
    "import os\n",
    "# We'll perform some file renames between the data directory and the out directory.\n",
    "\n",
    "# We move all the images in the catalog to the output directory.\n",
    "for member in elementary_family:\n",
    "    os.rename(member['file_path'], os.path.join(out, member['uuid']))"
   ]
  },
  {
   "cell_type": "code",
   "execution_count": null,
   "metadata": {
    "attributes": {
     "classes": [],
     "id": "",
     "n": "71"
    }
   },
   "outputs": [],
   "source": [
    "# Conversely, we move all the images in the catalog back to the data directory.\n",
    "for member in elementary_family:\n",
    "    os.rename(os.path.join(out, member['uuid']), member['file_path'])"
   ]
  },
  {
   "cell_type": "markdown",
   "metadata": {},
   "source": [
    "## Clean up the working directory"
   ]
  },
  {
   "cell_type": "code",
   "execution_count": 1,
   "metadata": {
    "attributes": {
     "classes": [],
     "id": "",
     "n": "72"
    }
   },
   "outputs": [
    {
     "name": "stdout",
     "output_type": "stream",
     "text": [
      "rm: cannot remove '00_files/': No such file or directory\r\n"
     ]
    }
   ],
   "source": [
    "!rm -r 00_files/"
   ]
  },
  {
   "cell_type": "code",
   "execution_count": null,
   "metadata": {},
   "outputs": [],
   "source": []
  }
 ],
 "metadata": {
  "kernelspec": {
   "display_name": "Python 3",
   "language": "python",
   "name": "python3"
  },
  "language_info": {
   "codemirror_mode": {
    "name": "ipython",
    "version": 3
   },
   "file_extension": ".py",
   "mimetype": "text/x-python",
   "name": "python",
   "nbconvert_exporter": "python",
   "pygments_lexer": "ipython3",
   "version": "3.7.3"
  }
 },
 "nbformat": 4,
 "nbformat_minor": 2
}
